{
 "cells": [
  {
   "cell_type": "markdown",
   "metadata": {},
   "source": [
    "In the following notebook, we implement three baseline models for conversational recommendation:\n",
    "\n",
    "1. Random recommendation\n",
    "2. Most popular recommendation\n",
    "3. Zero-shot recommendation\n"
   ]
  },
  {
   "cell_type": "markdown",
   "metadata": {},
   "source": [
    "### Libraries"
   ]
  },
  {
   "cell_type": "code",
   "execution_count": 1,
   "metadata": {},
   "outputs": [],
   "source": [
    "import os\n",
    "import sys\n",
    "import json\n",
    "import numpy as np\n",
    "from typing import List, Dict, Literal, Any\n",
    "from dotenv import load_dotenv\n",
    "from langchain_openai import ChatOpenAI\n",
    "from pydantic import BaseModel, Field\n",
    "from langchain_core.messages import AIMessage, HumanMessage, BaseMessage\n",
    "from langchain_core.prompts import ChatPromptTemplate\n",
    "\n",
    "sys.path.append(os.path.abspath(\"..\"))\n",
    "from scripts.Tools import read_dialogue, get_conversation_by_id "
   ]
  },
  {
   "cell_type": "markdown",
   "metadata": {},
   "source": [
    "### Data"
   ]
  },
  {
   "cell_type": "code",
   "execution_count": 2,
   "metadata": {},
   "outputs": [],
   "source": [
    "dataset: Literal[\"Books\", \"Movies\", \"Sports\", \"Electronics\"] = \"Books\"\n"
   ]
  },
  {
   "cell_type": "code",
   "execution_count": 3,
   "metadata": {},
   "outputs": [],
   "source": [
    "with open(f\"../data/{dataset}/item_map.json\", \"r\") as f:\n",
    "    item_map = json.load(f)\n",
    "\n",
    "with open(\"../data/Books/final_data.jsonl\", \"r\") as f:\n",
    "    final_data = [json.loads(line) for line in f]"
   ]
  },
  {
   "cell_type": "code",
   "execution_count": 4,
   "metadata": {},
   "outputs": [],
   "source": [
    "items = list(set([item_map[key].lower().strip() for key in item_map]))"
   ]
  },
  {
   "cell_type": "code",
   "execution_count": 5,
   "metadata": {},
   "outputs": [],
   "source": [
    "item_interactions = {}\n",
    "for user_data in final_data:\n",
    "    for user_id in user_data:\n",
    "        for item_id in user_data[user_id][\"history_interaction\"]:\n",
    "            item_name = item_map[item_id].lower().strip()\n",
    "            if item_name not in item_interactions:\n",
    "                item_interactions[item_name] = 0\n",
    "            item_interactions[item_name] += 1"
   ]
  },
  {
   "cell_type": "code",
   "execution_count": 6,
   "metadata": {},
   "outputs": [],
   "source": [
    "conversation_id = 0\n",
    "\n",
    "content = read_dialogue(f\"../data/{dataset}/Conversation.txt\")\n",
    "conversation = get_conversation_by_id(content, conversation_id)\n",
    "lines = conversation.strip().split(\"\\n\\n\")\n",
    "messages = []\n",
    "\n",
    "for line in lines:\n",
    "    if line.startswith(\"User:\"):\n",
    "        messages.append(HumanMessage(content=line[5:].strip()))\n",
    "    elif line.startswith(\"Agent:\"):\n",
    "        messages.append(AIMessage(content=line[6:].strip()))"
   ]
  },
  {
   "cell_type": "markdown",
   "metadata": {},
   "source": [
    "### Models"
   ]
  },
  {
   "cell_type": "code",
   "execution_count": 7,
   "metadata": {},
   "outputs": [],
   "source": [
    "def recommend_random(items: List[str], n: int = 5, **kwargs):\n",
    "    return np.random.choice(items, n, replace=False).tolist()\n",
    "\n",
    "\n",
    "def recommend_most_popular(item_interactions: Dict[str, int], n: int = 5, **kwargs):\n",
    "    most_popular_items = sorted(\n",
    "        item_interactions, key=item_interactions.get, reverse=True\n",
    "    )[:n]\n",
    "    return most_popular_items\n",
    "\n",
    "\n",
    "def recommend_zero_shot(\n",
    "    messages: List[BaseMessage], n: int = 5, verbose: bool = False, **kwargs\n",
    "):\n",
    "\n",
    "    class Recommendation(BaseModel):\n",
    "        items: Any = Field(\n",
    "            description=\"A list of items with their reasons for recommendation\"\n",
    "        )\n",
    "\n",
    "    system = f\"\"\"You are a recommender system that recommends {n} items based on the user's conversation.\"\"\"\n",
    "\n",
    "    prompt = ChatPromptTemplate.from_messages(\n",
    "        [(\"system\", system), (\"placeholder\", \"{messages}\")]\n",
    "    )\n",
    "\n",
    "    llm = ChatOpenAI(model=\"gpt-4o-mini\", temperature=0)\n",
    "    structured_llm = llm.with_structured_output(Recommendation, include_raw=True)\n",
    "\n",
    "    zero_shot_structured_llm = prompt | structured_llm\n",
    "    response = zero_shot_structured_llm.invoke({\"messages\": messages})\n",
    "\n",
    "    prompt_tokens = response[\"raw\"].response_metadata[\"token_usage\"][\"prompt_tokens\"]\n",
    "    completion_tokens = response[\"raw\"].response_metadata[\"token_usage\"][\n",
    "        \"completion_tokens\"\n",
    "    ]\n",
    "\n",
    "    cost = 0.150 * prompt_tokens / 1000000 + 0.600 * completion_tokens / 1000000\n",
    "\n",
    "    if verbose:\n",
    "        print(f\"Prompt Tokens: {prompt_tokens}\")\n",
    "        print(f\"Completion Tokens: {completion_tokens}\")\n",
    "        print(f\"Cost: ${cost} USD\")\n",
    "\n",
    "    return response[\"parsed\"].items"
   ]
  },
  {
   "cell_type": "code",
   "execution_count": 8,
   "metadata": {},
   "outputs": [
    {
     "data": {
      "text/plain": [
       "['assignment danger (off-world series, book 4)',\n",
       " 'wilderness',\n",
       " 'the fleet that had to die',\n",
       " 'surrender (volume 1)',\n",
       " 'captive']"
      ]
     },
     "execution_count": 8,
     "metadata": {},
     "output_type": "execute_result"
    }
   ],
   "source": [
    "recommend_random(items)"
   ]
  },
  {
   "cell_type": "code",
   "execution_count": 9,
   "metadata": {},
   "outputs": [
    {
     "data": {
      "text/plain": [
       "['gone girl',\n",
       " 'the girl on the train',\n",
       " 'the pillars of the earth',\n",
       " 'the old man and the sea',\n",
       " 'books\" />']"
      ]
     },
     "execution_count": 9,
     "metadata": {},
     "output_type": "execute_result"
    }
   ],
   "source": [
    "recommend_most_popular(item_interactions)"
   ]
  },
  {
   "cell_type": "code",
   "execution_count": 10,
   "metadata": {},
   "outputs": [
    {
     "name": "stdout",
     "output_type": "stream",
     "text": [
      "Prompt Tokens: 403\n",
      "Completion Tokens: 142\n",
      "Cost: $0.00014565 USD\n"
     ]
    },
    {
     "data": {
      "text/plain": [
       "[{'title': 'Trifling 2',\n",
       "  'reason': 'Continues the story of a charismatic but trifling character, exploring relationships and personal growth.'},\n",
       " {'title': 'The Coldest Winter Ever',\n",
       "  'reason': 'A gripping tale of survival and resilience in a world filled with drama and tough choices.'},\n",
       " {'title': 'The Cartel',\n",
       "  'reason': 'A fast-paced story about power, betrayal, and the complexities of family dynamics.'},\n",
       " {'title': \"Bae's Revenge\",\n",
       "  'reason': 'A dramatic narrative that delves into love, betrayal, and the quest for revenge.'},\n",
       " {'title': 'The Other Woman',\n",
       "  'reason': 'A story filled with twists and turns, focusing on love triangles and the drama that ensues.'}]"
      ]
     },
     "execution_count": 10,
     "metadata": {},
     "output_type": "execute_result"
    }
   ],
   "source": [
    "recommend_zero_shot(messages, n=5, verbose=True)"
   ]
  }
 ],
 "metadata": {
  "kernelspec": {
   "display_name": ".venv",
   "language": "python",
   "name": "python3"
  },
  "language_info": {
   "codemirror_mode": {
    "name": "ipython",
    "version": 3
   },
   "file_extension": ".py",
   "mimetype": "text/x-python",
   "name": "python",
   "nbconvert_exporter": "python",
   "pygments_lexer": "ipython3",
   "version": "3.12.4"
  }
 },
 "nbformat": 4,
 "nbformat_minor": 2
}
