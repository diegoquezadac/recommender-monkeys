{
 "cells": [
  {
   "cell_type": "markdown",
   "metadata": {},
   "source": [
    "## Libraries"
   ]
  },
  {
   "cell_type": "code",
   "execution_count": 1,
   "metadata": {},
   "outputs": [],
   "source": [
    "import os\n",
    "import sys\n",
    "sys.path.append(os.path.abspath(\"..\"))"
   ]
  },
  {
   "cell_type": "code",
   "execution_count": 2,
   "metadata": {},
   "outputs": [],
   "source": [
    "import json\n",
    "from langchain_core.messages import AIMessage, HumanMessage, BaseMessage\n",
    "from scripts.Tools import read_dialogue, get_conversation_by_id "
   ]
  },
  {
   "cell_type": "markdown",
   "metadata": {},
   "source": [
    "## Data"
   ]
  },
  {
   "cell_type": "code",
   "execution_count": 3,
   "metadata": {},
   "outputs": [],
   "source": [
    "dataset = \"Books\""
   ]
  },
  {
   "cell_type": "code",
   "execution_count": 4,
   "metadata": {},
   "outputs": [],
   "source": [
    "with open(f\"../data/{dataset}/item_map.json\", \"r\") as f:\n",
    "    item_map = json.load(f)\n",
    "\n",
    "with open(f\"../data/{dataset}/final_data.jsonl\", \"r\") as f:\n",
    "    final_data = [json.loads(line) for line in f]"
   ]
  },
  {
   "cell_type": "code",
   "execution_count": 5,
   "metadata": {},
   "outputs": [
    {
     "name": "stdout",
     "output_type": "stream",
     "text": [
      "1\n"
     ]
    }
   ],
   "source": [
    "lens = []\n",
    "for row in final_data:\n",
    "    user_id = list(row.keys())[0]\n",
    "    data = row[user_id]\n",
    "    for conversation in data[\"Conversation\"]:\n",
    "        values = list(conversation.values())[0]\n",
    "        lens.append(len(values[\"rec_item\"]))\n",
    "print(max(lens))"
   ]
  },
  {
   "cell_type": "code",
   "execution_count": 6,
   "metadata": {},
   "outputs": [],
   "source": [
    "data = {}\n",
    "for x in final_data:\n",
    "    for key in x:\n",
    "        data[key] = x[key]"
   ]
  },
  {
   "cell_type": "code",
   "execution_count": 7,
   "metadata": {},
   "outputs": [],
   "source": [
    "items = list(set([item_map[key].lower().strip() for key in item_map]))"
   ]
  },
  {
   "cell_type": "code",
   "execution_count": 8,
   "metadata": {},
   "outputs": [],
   "source": [
    "item_interactions = {}\n",
    "for user_data in final_data:\n",
    "    for user_id in user_data:\n",
    "        for item_id in user_data[user_id][\"history_interaction\"]:\n",
    "            item_name = item_map[item_id].lower().strip()\n",
    "            if item_name not in item_interactions:\n",
    "                item_interactions[item_name] = 0\n",
    "            item_interactions[item_name] += 1"
   ]
  },
  {
   "cell_type": "code",
   "execution_count": 9,
   "metadata": {},
   "outputs": [],
   "source": [
    "def get_sample(user_id: str, data: dict):\n",
    "\n",
    "    X = []\n",
    "\n",
    "    with open(f\"../data/{dataset}/item_map.json\", \"r\") as f:\n",
    "        item_map = json.load(f)\n",
    "    \n",
    "    dialogues = read_dialogue(f\"../data/{dataset}/Conversation.txt\")\n",
    "\n",
    "    for conversation in data[user_id][\"Conversation\"]:\n",
    "        \n",
    "        unique_key = next(iter(conversation))\n",
    "        conversation = conversation[unique_key]\n",
    "        history_interaction = data[user_id][\"history_interaction\"]\n",
    "        history_interaction = list(map(lambda x: item_map[x].lower().strip(), history_interaction))\n",
    "        \n",
    "        item_id = conversation[\"rec_item\"][0]\n",
    "        item_name = item_map[item_id].lower().strip()\n",
    "\n",
    "        content = get_conversation_by_id(dialogues, conversation[\"conversation_id\"])\n",
    "        lines = content.strip().split(\"\\n\\n\")\n",
    "        \n",
    "        messages_pre = []\n",
    "        messages_post = []\n",
    "\n",
    "        flag = False\n",
    "        for line in lines:\n",
    "            if line.startswith(\"User:\"):\n",
    "                if flag:\n",
    "                    messages_post.append(HumanMessage(content=line[5:].strip()))\n",
    "                else:\n",
    "                    messages_pre.append(HumanMessage(content=line[5:].strip()))\n",
    "            elif line.startswith(\"Agent:\"):\n",
    "                if item_name in line.lower():\n",
    "                    flag = True\n",
    "\n",
    "                if flag:\n",
    "                    messages_post.append(AIMessage(content=line[6:].strip()))\n",
    "                else:\n",
    "                    messages_pre.append(AIMessage(content=line[6:].strip()))\n",
    "\n",
    "        if len(messages_pre) > 0 and len(messages_post) > 0:\n",
    "            X.append({\"messages_pre\": messages_pre, \"messages_post\": messages_post, \"item_name\": item_name, \"history\": history_interaction})\n",
    "        else:\n",
    "            raise Exception(f\"Failed to identify the item '{item_name}' in the dialogue\")\n",
    "            \n",
    "    \n",
    "    return X"
   ]
  },
  {
   "cell_type": "markdown",
   "metadata": {},
   "source": [
    "## Models 1\n",
    "\n",
    "In the following subsection, we implement three baseline models for conversational recommendation:\n",
    "\n",
    "1. Random recommendation\n",
    "2. Most popular recommendation\n",
    "3. Zero-shot recommendation\n"
   ]
  },
  {
   "cell_type": "code",
   "execution_count": 10,
   "metadata": {},
   "outputs": [],
   "source": [
    "from scripts.models import *"
   ]
  },
  {
   "cell_type": "code",
   "execution_count": 11,
   "metadata": {},
   "outputs": [
    {
     "data": {
      "text/plain": [
       "['blue clouds',\n",
       " 'gutter: a novel',\n",
       " 'quickbooks 2011: the missing manual (missing manuals)',\n",
       " '8 minutes in the morning: a simple way to shed up to 2 pounds a week -- guaranteed',\n",
       " 'how to run with a naked werewolf (naked werewolf series)',\n",
       " 'wifey 101',\n",
       " 'dinosaurs (discovery kids 3d reader) (discovery kids 3d readers)',\n",
       " 'the trifecta secret of wealth &amp; abundance: align your higher self &amp; you shall arrive',\n",
       " 'desolate mountain',\n",
       " 'shovel ready (spademan)']"
      ]
     },
     "execution_count": 11,
     "metadata": {},
     "output_type": "execute_result"
    }
   ],
   "source": [
    "recommend_random(items, n=10)"
   ]
  },
  {
   "cell_type": "code",
   "execution_count": 12,
   "metadata": {},
   "outputs": [
    {
     "data": {
      "text/plain": [
       "['gone girl',\n",
       " 'the girl on the train',\n",
       " 'the pillars of the earth',\n",
       " 'the old man and the sea',\n",
       " 'books\" />',\n",
       " 'the martian',\n",
       " 'the nightingale: a novel',\n",
       " 'divergent',\n",
       " 'all the light we cannot see',\n",
       " 'the goldfinch: a novel (pulitzer prize for fiction)']"
      ]
     },
     "execution_count": 12,
     "metadata": {},
     "output_type": "execute_result"
    }
   ],
   "source": [
    "recommend_most_popular(item_interactions, n=10)"
   ]
  },
  {
   "cell_type": "code",
   "execution_count": 13,
   "metadata": {},
   "outputs": [],
   "source": [
    "user_id = list(data.keys())[320]\n",
    "conversation_index = 0\n",
    "messages_pre, messages_post, item, interactions = get_sample(user_id, data)[conversation_index].values()"
   ]
  },
  {
   "cell_type": "code",
   "execution_count": 14,
   "metadata": {},
   "outputs": [
    {
     "data": {
      "text/plain": [
       "'A10D2V9SAH4LCP'"
      ]
     },
     "execution_count": 14,
     "metadata": {},
     "output_type": "execute_result"
    }
   ],
   "source": [
    "user_id"
   ]
  },
  {
   "cell_type": "code",
   "execution_count": 15,
   "metadata": {},
   "outputs": [
    {
     "data": {
      "text/plain": [
       "\"daddy's little angel\""
      ]
     },
     "execution_count": 15,
     "metadata": {},
     "output_type": "execute_result"
    }
   ],
   "source": [
    "item"
   ]
  },
  {
   "cell_type": "code",
   "execution_count": 16,
   "metadata": {},
   "outputs": [
    {
     "data": {
      "text/plain": [
       "19"
      ]
     },
     "execution_count": 16,
     "metadata": {},
     "output_type": "execute_result"
    }
   ],
   "source": [
    "len(interactions)"
   ]
  },
  {
   "cell_type": "code",
   "execution_count": 17,
   "metadata": {},
   "outputs": [
    {
     "data": {
      "text/plain": [
       "(7, 7)"
      ]
     },
     "execution_count": 17,
     "metadata": {},
     "output_type": "execute_result"
    }
   ],
   "source": [
    "len(messages_pre), len(messages_post)"
   ]
  },
  {
   "cell_type": "code",
   "execution_count": 18,
   "metadata": {},
   "outputs": [
    {
     "data": {
      "text/plain": [
       "[HumanMessage(content='Hi, my name is solace. I recently read The Rebound and I absolutely loved it! The plot twist, the sweet love, everything was there. Looking forward to reading more from the author.', additional_kwargs={}, response_metadata={}),\n",
       " AIMessage(content=\"Hello solace! I'm glad you enjoyed The Rebound. It's always great to find a book that ticks all the boxes. How can I assist you today?\", additional_kwargs={}, response_metadata={}),\n",
       " HumanMessage(content=\"I'm actually looking for another book recommendation. Any suggestions?\", additional_kwargs={}, response_metadata={}),\n",
       " AIMessage(content=\"Definitely! I recommend checking out Feral: Obsession (Volume 1). It's a captivating book with well-developed characters and a great storyline. I received an ARC of this book and it left me eagerly anticipating the next one.\", additional_kwargs={}, response_metadata={}),\n",
       " HumanMessage(content=\"Oh, I've already read that book. Do you have any other recommendations?\", additional_kwargs={}, response_metadata={}),\n",
       " AIMessage(content=\"Alright. How about Tender Triumph? It's a romance novel that explores the conflict between two characters. However, I should mention that there are mixed reviews about it. Some readers found it disappointing and felt that the characters were unlikeable.\", additional_kwargs={}, response_metadata={}),\n",
       " HumanMessage(content=\"Oh, no. I've already read Tender Triumph and I didn't enjoy it. Do you have any other suggestions?\", additional_kwargs={}, response_metadata={})]"
      ]
     },
     "execution_count": 18,
     "metadata": {},
     "output_type": "execute_result"
    }
   ],
   "source": [
    "messages_pre"
   ]
  },
  {
   "cell_type": "code",
   "execution_count": 19,
   "metadata": {},
   "outputs": [
    {
     "data": {
      "text/plain": [
       "[AIMessage(content=\"I understand. In that case, you might like Daddy's Little Angel. It has received some mixed reviews, but it explores unique themes. If you're interested, I can provide more details.\", additional_kwargs={}, response_metadata={}),\n",
       " HumanMessage(content=\"Yes, I'm interested. Tell me more about Daddy's Little Angel.\", additional_kwargs={}, response_metadata={}),\n",
       " AIMessage(content=\"Daddy's Little Angel is a story that some readers found silly, but it does have well-written intimate scenes. However, there were opinions that the dialogue and storyline seemed more suited for a child's perspective.\", additional_kwargs={}, response_metadata={}),\n",
       " HumanMessage(content=\"Thank you for the recommendation. I'll give Daddy's Little Angel a try.\", additional_kwargs={}, response_metadata={}),\n",
       " AIMessage(content=\"You're welcome! I hope you enjoy reading it. If you have any more questions or need further assistance, feel free to ask. Happy reading!\", additional_kwargs={}, response_metadata={}),\n",
       " HumanMessage(content='Thank you! Have a great day!', additional_kwargs={}, response_metadata={}),\n",
       " AIMessage(content='You too! Take care and enjoy your reading journey!', additional_kwargs={}, response_metadata={})]"
      ]
     },
     "execution_count": 19,
     "metadata": {},
     "output_type": "execute_result"
    }
   ],
   "source": [
    "messages_post"
   ]
  },
  {
   "cell_type": "code",
   "execution_count": 20,
   "metadata": {},
   "outputs": [
    {
     "data": {
      "text/plain": [
       "['the hating game',\n",
       " 'the kiss quotient',\n",
       " 'red, white & royal blue',\n",
       " 'beach read',\n",
       " 'the unhoneymooners',\n",
       " 'it ends with us',\n",
       " 'the flatshare',\n",
       " 'the love hypothesis',\n",
       " 'people we meet on vacation',\n",
       " 'the spanish love deception']"
      ]
     },
     "execution_count": 20,
     "metadata": {},
     "output_type": "execute_result"
    }
   ],
   "source": [
    "await recommend_zero_shot(messages_pre, n=10, verbose=False)"
   ]
  },
  {
   "cell_type": "markdown",
   "metadata": {},
   "source": [
    "## Models 2\n",
    "\n",
    "In the following subsection, we implement the first agent.\n",
    "\n",
    "In order to run this section, add the following variables to your .env: OPENAI_API_KEY and TAVILY_API_KEY."
   ]
  },
  {
   "cell_type": "markdown",
   "metadata": {},
   "source": [
    "### Vector database"
   ]
  },
  {
   "cell_type": "markdown",
   "metadata": {},
   "source": [
    "The most important tool is the vector database, as it allows to interact semantically with the currrent catalog of books."
   ]
  },
  {
   "cell_type": "code",
   "execution_count": 21,
   "metadata": {},
   "outputs": [],
   "source": [
    "import tiktoken\n",
    "from uuid import uuid4\n",
    "from langchain_chroma import Chroma\n",
    "from langchain_openai import OpenAIEmbeddings\n",
    "from langchain_core.documents import Document"
   ]
  },
  {
   "cell_type": "code",
   "execution_count": 22,
   "metadata": {},
   "outputs": [],
   "source": [
    "def get_token_count(text: str) -> int:\n",
    "    model = \"text-embedding-3-small\"\n",
    "    encoding_name = tiktoken.encoding_for_model(model).name\n",
    "    encoding = tiktoken.get_encoding(encoding_name)\n",
    "    total_tokens = len(encoding.encode(text))\n",
    "\n",
    "    return total_tokens\n",
    "\n",
    "def get_embedding_cost(num_tokens: int) -> float:\n",
    "    cost_per_million_tokens = 0.020\n",
    "    return cost_per_million_tokens * (num_tokens / 1_000_000)"
   ]
  },
  {
   "cell_type": "code",
   "execution_count": null,
   "metadata": {},
   "outputs": [],
   "source": [
    "is_created = True\n",
    "\n",
    "embeddings = OpenAIEmbeddings(model=\"text-embedding-3-small\")\n",
    "\n",
    "store = Chroma(\n",
    "    collection_name=\"books\",\n",
    "    embedding_function=embeddings,\n",
    "    persist_directory=\"../store\",\n",
    ")\n",
    "\n",
    "\n",
    "if not is_created:\n",
    "\n",
    "    documents = []\n",
    "    for item_id, item_name in item_map.items():\n",
    "        if item_name != \"\":\n",
    "            documents.append(Document(page_content=f\"Book ID: {item_id}, Book Name: {item_name}\"))\n",
    "\n",
    "    total_tokens = 0\n",
    "    expected_cost = 0\n",
    "    for doc in documents:\n",
    "        tokens = get_token_count(doc.page_content)\n",
    "        total_tokens += tokens\n",
    "        expected_cost += get_embedding_cost(tokens)\n",
    "    print(f\"Total tokens: {total_tokens}\")\n",
    "    print(f\"Expected cost: {expected_cost}\")\n",
    "\n",
    "    uuids = [str(uuid4()) for _ in documents]\n",
    "\n",
    "    \n",
    "    for i in range(0, len(documents), 10_000):\n",
    "        print(f\"Adding documents {i} to {i + 10_000}\")\n",
    "        store.add_documents(documents=documents[i : i + 10_000], ids=uuids[i : i + 10_000])\n",
    "    "
   ]
  },
  {
   "cell_type": "markdown",
   "metadata": {},
   "source": [
    "### Agent"
   ]
  },
  {
   "cell_type": "code",
   "execution_count": 24,
   "metadata": {},
   "outputs": [
    {
     "data": {
      "text/plain": [
       "[HumanMessage(content='Hi, my name is solace. I recently read The Rebound and I absolutely loved it! The plot twist, the sweet love, everything was there. Looking forward to reading more from the author.', additional_kwargs={}, response_metadata={}),\n",
       " AIMessage(content=\"Hello solace! I'm glad you enjoyed The Rebound. It's always great to find a book that ticks all the boxes. How can I assist you today?\", additional_kwargs={}, response_metadata={}),\n",
       " HumanMessage(content=\"I'm actually looking for another book recommendation. Any suggestions?\", additional_kwargs={}, response_metadata={}),\n",
       " AIMessage(content=\"Definitely! I recommend checking out Feral: Obsession (Volume 1). It's a captivating book with well-developed characters and a great storyline. I received an ARC of this book and it left me eagerly anticipating the next one.\", additional_kwargs={}, response_metadata={}),\n",
       " HumanMessage(content=\"Oh, I've already read that book. Do you have any other recommendations?\", additional_kwargs={}, response_metadata={}),\n",
       " AIMessage(content=\"Alright. How about Tender Triumph? It's a romance novel that explores the conflict between two characters. However, I should mention that there are mixed reviews about it. Some readers found it disappointing and felt that the characters were unlikeable.\", additional_kwargs={}, response_metadata={}),\n",
       " HumanMessage(content=\"Oh, no. I've already read Tender Triumph and I didn't enjoy it. Do you have any other suggestions?\", additional_kwargs={}, response_metadata={})]"
      ]
     },
     "execution_count": 24,
     "metadata": {},
     "output_type": "execute_result"
    }
   ],
   "source": [
    "messages_pre"
   ]
  },
  {
   "cell_type": "code",
   "execution_count": 25,
   "metadata": {},
   "outputs": [
    {
     "data": {
      "image/jpeg": "[encoded data removed]",
      "text/plain": [
       "<IPython.core.display.Image object>"
      ]
     },
     "metadata": {},
     "output_type": "display_data"
    },
    {
     "data": {
      "text/plain": [
       "{'messages': [HumanMessage(content='Hi, my name is solace. I recently read The Rebound and I absolutely loved it! The plot twist, the sweet love, everything was there. Looking forward to reading more from the author.', additional_kwargs={}, response_metadata={}, id='398739b1-e678-437b-8f50-bb13db42202d'),\n",
       "  AIMessage(content=\"Hello solace! I'm glad you enjoyed The Rebound. It's always great to find a book that ticks all the boxes. How can I assist you today?\", additional_kwargs={}, response_metadata={}, id='007440b5-cb3e-4a8d-8500-23048e78b7a5'),\n",
       "  HumanMessage(content=\"I'm actually looking for another book recommendation. Any suggestions?\", additional_kwargs={}, response_metadata={}, id='4cfccce1-7132-4f2d-ac80-c15b53b56fcc'),\n",
       "  AIMessage(content=\"Definitely! I recommend checking out Feral: Obsession (Volume 1). It's a captivating book with well-developed characters and a great storyline. I received an ARC of this book and it left me eagerly anticipating the next one.\", additional_kwargs={}, response_metadata={}, id='fda1b82e-7c91-4598-b8e5-c8eb9e3ef93a'),\n",
       "  HumanMessage(content=\"Oh, I've already read that book. Do you have any other recommendations?\", additional_kwargs={}, response_metadata={}, id='fabeb6aa-fa86-4dc4-a3e4-7f9f76776c8f'),\n",
       "  AIMessage(content=\"Alright. How about Tender Triumph? It's a romance novel that explores the conflict between two characters. However, I should mention that there are mixed reviews about it. Some readers found it disappointing and felt that the characters were unlikeable.\", additional_kwargs={}, response_metadata={}, id='f9fb3109-4da7-49e6-93fc-d82285ace456'),\n",
       "  HumanMessage(content=\"Oh, no. I've already read Tender Triumph and I didn't enjoy it. Do you have any other suggestions?\", additional_kwargs={}, response_metadata={}, id='c1d10d23-e729-48ef-a14c-86ff93554f36'),\n",
       "  AIMessage(content='', additional_kwargs={'tool_calls': [{'id': 'call_4j2qbhcaTtLkGH5suhqcscLV', 'function': {'arguments': '{\"query\":\"love plot twist romance\"}', 'name': 'retrieve_books'}, 'type': 'function'}], 'refusal': None}, response_metadata={'token_usage': {'completion_tokens': 17, 'prompt_tokens': 358, 'total_tokens': 375, 'completion_tokens_details': {'audio_tokens': 0, 'reasoning_tokens': 0, 'accepted_prediction_tokens': 0, 'rejected_prediction_tokens': 0}, 'prompt_tokens_details': {'audio_tokens': 0, 'cached_tokens': 0}}, 'model_name': 'gpt-4o-2024-08-06', 'system_fingerprint': 'fp_831e067d82', 'finish_reason': 'tool_calls', 'logprobs': None}, id='run-102b1dbc-1ae2-4214-9f2d-c62de165fe2a-0', tool_calls=[{'name': 'retrieve_books', 'args': {'query': 'love plot twist romance'}, 'id': 'call_4j2qbhcaTtLkGH5suhqcscLV', 'type': 'tool_call'}], usage_metadata={'input_tokens': 358, 'output_tokens': 17, 'total_tokens': 375, 'input_token_details': {'audio': 0, 'cache_read': 0}, 'output_token_details': {'audio': 0, 'reasoning': 0}}),\n",
       "  ToolMessage(content='Book ID: 1974496988, Book Name: Claiming Her: A Single Dad Romance With A Shocking Twist\\n\\nBook ID: 1786811898, Book Name: Lie to Me: A gripping psychological thriller with a shocking twist\\n\\nBook ID: 1980547939, Book Name: Twisted In You (a Twisted Romance)\\n\\nBook ID: 1470097540, Book Name: Twist of Fate\\n\\nBook ID: 1472235037, Book Name: Keep Me Safe: Be swept away by this breathtaking love story with a heartbreaking twist\\n\\nBook ID: 0991532236, Book Name: Twist\\n\\nBook ID: 0997845031, Book Name: Twist of Fate\\n\\nBook ID: 1631420038, Book Name: Twist Me\\n\\nBook ID: 1786813203, Book Name: Liars: A gripping psychological thriller with a shocking twist\\n\\nBook ID: 0451209370, Book Name: A Twist of Fate (Signet Regency Romance)\\n\\nBook ID: 1548003263, Book Name: Mind Games - A Bad Boy Romance With A Twist\\n\\nBook ID: 1547090677, Book Name: Mindfuck - A Bad Boy Romance With A Twist\\n\\nBook ID: 1930097026, Book Name: A Twist of Fate\\n\\nBook ID: 0739435086, Book Name: A Twist of Fate\\n\\nBook ID: 1500407992, Book Name: Twist of Fate (A Holiday Romance Novella)\\n\\nBook ID: 1542608910, Book Name: My Romance Curse\\n\\nBook ID: 178681451X, Book Name: White Lies: A gripping psychological thriller with an absolutely brilliant twist\\n\\nBook ID: 146646741X, Book Name: Connected: a Twists of Fate novella\\n\\nBook ID: 1786814854, Book Name: The Date: An unputdownable psychological thriller with a breathtaking twist\\n\\nBook ID: 1980287813, Book Name: Mr. Sugar: A disturbing psychological thriller with a twist of dark romance', name='retrieve_books', id='92e82e20-a852-4b53-980f-4035119c2409', tool_call_id='call_4j2qbhcaTtLkGH5suhqcscLV'),\n",
       "  AIMessage(content='Here are some book recommendations that align with your interest in romance and plot twists:\\n\\n1. **Claiming Her: A Single Dad Romance With A Shocking Twist** (Book ID: 1974496988)\\n2. **Twisted In You (a Twisted Romance)** (Book ID: 1980547939)\\n3. **Keep Me Safe: Be swept away by this breathtaking love story with a heartbreaking twist** (Book ID: 1472235037)\\n4. **Twist Me** (Book ID: 1631420038)\\n5. **A Twist of Fate (Signet Regency Romance)** (Book ID: 0451209370)\\n6. **Mind Games - A Bad Boy Romance With A Twist** (Book ID: 1548003263)\\n7. **My Romance Curse** (Book ID: 1542608910)\\n8. **Connected: a Twists of Fate novella** (Book ID: 146646741X)\\n9. **Mr. Sugar: A disturbing psychological thriller with a twist of dark romance** (Book ID: 1980287813)\\n10. **Lie to Me: A gripping psychological thriller with a shocking twist** (Book ID: 1786811898)\\n\\nThese books should provide you with plenty of intrigue and romance. Enjoy your reading!', additional_kwargs={}, response_metadata={}, name='librarian', id='38dac45c-9a2c-41b5-9f75-86aab69e0c9f'),\n",
       "  AIMessage(content=['1974496988', '1980547939', '1472235037', '1631420038', '0451209370', '1548003263', '1542608910', '146646741x', '1980287813', '1786811898'], additional_kwargs={}, response_metadata={}, name='formatter', id='dec842e5-b8c2-4d37-b7aa-5a956cf6a3e7')]}"
      ]
     },
     "execution_count": 25,
     "metadata": {},
     "output_type": "execute_result"
    }
   ],
   "source": [
    "await recommend_agent_2(messages_pre, store, n=10)"
   ]
  },
  {
   "cell_type": "markdown",
   "metadata": {},
   "source": [
    "### Multi agent\n"
   ]
  },
  {
   "cell_type": "code",
   "execution_count": 26,
   "metadata": {},
   "outputs": [
    {
     "data": {
      "image/jpeg": "[encoded data removed]",
      "text/plain": [
       "<IPython.core.display.Image object>"
      ]
     },
     "metadata": {},
     "output_type": "display_data"
    },
    {
     "data": {
      "text/plain": [
       "{'messages': [HumanMessage(content='Hi, my name is solace. I recently read The Rebound and I absolutely loved it! The plot twist, the sweet love, everything was there. Looking forward to reading more from the author.', additional_kwargs={}, response_metadata={}, id='ed2c82ee-943d-4127-9326-63ce859e0e65'),\n",
       "  AIMessage(content=\"Hello solace! I'm glad you enjoyed The Rebound. It's always great to find a book that ticks all the boxes. How can I assist you today?\", additional_kwargs={}, response_metadata={}, id='5021060a-b2d1-454d-901b-d1d3ddd092ba'),\n",
       "  HumanMessage(content=\"I'm actually looking for another book recommendation. Any suggestions?\", additional_kwargs={}, response_metadata={}, id='02f948da-9310-4c4d-aa54-1421c03dc11c'),\n",
       "  AIMessage(content=\"Definitely! I recommend checking out Feral: Obsession (Volume 1). It's a captivating book with well-developed characters and a great storyline. I received an ARC of this book and it left me eagerly anticipating the next one.\", additional_kwargs={}, response_metadata={}, id='3e3697b0-9557-41f3-9e32-22191109f0fc'),\n",
       "  HumanMessage(content=\"Oh, I've already read that book. Do you have any other recommendations?\", additional_kwargs={}, response_metadata={}, id='6c8baa02-6bc0-4ea6-a5cf-90269daf6e2a'),\n",
       "  AIMessage(content=\"Alright. How about Tender Triumph? It's a romance novel that explores the conflict between two characters. However, I should mention that there are mixed reviews about it. Some readers found it disappointing and felt that the characters were unlikeable.\", additional_kwargs={}, response_metadata={}, id='06585f68-de7b-435e-b34a-534168b8ceeb'),\n",
       "  HumanMessage(content=\"Oh, no. I've already read Tender Triumph and I didn't enjoy it. Do you have any other suggestions?\", additional_kwargs={}, response_metadata={}, id='8bb3d96f-7fa5-40a8-bd0e-bffcd0f1b06d'),\n",
       "  AIMessage(content='', additional_kwargs={'tool_calls': [{'id': 'call_DupPKkZXbaVsAzj0n6wYsFI2', 'function': {'arguments': '{\"query\":\"books similar to The Rebound\"}', 'name': 'search_book_info'}, 'type': 'function'}], 'refusal': None}, response_metadata={'token_usage': {'completion_tokens': 20, 'prompt_tokens': 302, 'total_tokens': 322, 'completion_tokens_details': {'audio_tokens': 0, 'reasoning_tokens': 0, 'accepted_prediction_tokens': 0, 'rejected_prediction_tokens': 0}, 'prompt_tokens_details': {'audio_tokens': 0, 'cached_tokens': 0}}, 'model_name': 'gpt-4o-2024-08-06', 'system_fingerprint': 'fp_831e067d82', 'finish_reason': 'tool_calls', 'logprobs': None}, id='run-96ad667b-1e62-4aa8-a002-38fdc0c96808-0', tool_calls=[{'name': 'search_book_info', 'args': {'query': 'books similar to The Rebound'}, 'id': 'call_DupPKkZXbaVsAzj0n6wYsFI2', 'type': 'tool_call'}], usage_metadata={'input_tokens': 302, 'output_tokens': 20, 'total_tokens': 322, 'input_token_details': {'audio': 0, 'cache_read': 0}, 'output_token_details': {'audio': 0, 'reasoning': 0}}),\n",
       "  ToolMessage(content='[{\"url\": \"https://www.commonsensemedia.org/book-reviews/rebound\", \"content\": \"Parents need to know that New York Times best-seller Rebound is a stand-alone prequel to Kwame Alexander\\'s Newbery Medal and Coretta Scott King Honor Book The Crossover. This powerful novel in verse is set in the late 1980s and focuses on the childhood experiences of Chuck, who will grow up to become the beloved dad of The Crossover\\'s Jordan and Josh.. It deals with the death of a parent and\"}, {\"url\": \"https://www.booktrust.org.uk/news-and-features/features/2019/september/what-to-read-after-the-crossover-and-rebound/\", \"content\": \"Kwame Alexander is a prolific American author whose verse novels are well known for getting kids who say they hate reading into books. With books like\\xa0The Crossover,\\xa0Rebound\\xa0and\\xa0Booked, kids will be raring to read more and more. Jason Reynolds’ Long Way Down has received plaudits far and wide as a gripping, tense read, exploring the aftermath of a shooting; alternatively, Sarah Crossan and Brian Conaghan’s co-authored verse novel We Come Apart explores the sensitive relationship between disaffected Jess and immigrant Nicu and the external forces that seek to destroy them both. \\'Books are like amusement parks and sometimes children get to pick the rides. 5 ways reading together can support children’s wellbeing Sign up to our newsletters full of updates, activities, ways to support us and fun ideas to inspire children to read.\"}, {\"url\": \"https://www.goodreads.com/book/similar/93989195-the-rebound\", \"content\": \"Readers who enjoyed Shelve The Rebound also enjoyed Shelve The First Time We Met Shelve Just Friends Shelve My Lucky Charm (Holidays with Hart, #2) Shelve Rosie and the Dreamboat (The Improbable Meet-Cute, #3) Shelve The Rom-Commers Shelve The Ex Vows Shelve With Any Luck (The Improbable Meet-Cute, #5) Shelve Happily Never After Shelve A Cross-Country Wedding (Road Trip Romance, #2) Sometimes the wedding of the century calls for desperate measures.And sometimes those desperate measures are to pretend the person you hate most is actually your boyfriend. After years of working h… Shelve My Phony Valentine (Holidays with Hart, #1) Shelve The Rule Book (The Cheat Sheet, #2) Shelve Drop, Cover, and Hold On (The Improbable Meet-Cute, #4) Work with us\"}, {\"url\": \"https://elenareads.com/2021/11/03/review-rebound-is-another-kwame-alexander-masterpiece/\", \"content\": \"Review: Rebound Is Another Kwame Alexander Masterpiece – Elena Reads and Reviews A young book lover shares her thoughts on the diverse stories she\\'s reading. Review: Rebound Is Another Kwame Alexander\\xa0Masterpiece In the fiction novel Rebound, by Kwame Alexander, a boy named Charlie “Chuck” Bell struggles to rebound from a tragedy he experienced during the summer of 1988. Charlie struggles consistently with his grief throughout the story. Before I finished the book, I wondered if Charlie would even make it out of his grieving state because of how much his dad’s death had impacted him. Click to share on Twitter (Opens in new window) Click to share on Facebook (Opens in new window) Comment Email (Required) \"}, {\"url\": \"https://www.amazon.com/Rebound-absolutely-hilarious-romantic-Ireland/dp/1800195672\", \"content\": \"Readers are completely obsessed with The Rebound: \\' OMG this book was just what I needed … Kept me turning the pages and reading late into the night… It was like drinking a great big warm mug of hot chocolate, I just loved it.\\' Reading time at the zoo ⭐⭐⭐⭐⭐ \\' This book is PERFECT … Luke is *chef\\'s kiss*…\"}]', name='search_book_info', id='e0bad218-3a85-4d15-bba5-6343ecfe9504', tool_call_id='call_DupPKkZXbaVsAzj0n6wYsFI2', artifact={'query': 'books similar to The Rebound', 'follow_up_questions': None, 'answer': None, 'images': [], 'results': [{'title': 'Rebound Book Review - Common Sense Media', 'url': 'https://www.commonsensemedia.org/book-reviews/rebound', 'content': \"Parents need to know that New York Times best-seller Rebound is a stand-alone prequel to Kwame Alexander's Newbery Medal and Coretta Scott King Honor Book The Crossover. This powerful novel in verse is set in the late 1980s and focuses on the childhood experiences of Chuck, who will grow up to become the beloved dad of The Crossover's Jordan and Josh.. It deals with the death of a parent and\", 'score': 0.92696756, 'raw_content': None}, {'title': 'What to Read After... The Crossover and Rebound | BookTrust', 'url': 'https://www.booktrust.org.uk/news-and-features/features/2019/september/what-to-read-after-the-crossover-and-rebound/', 'content': \"Kwame Alexander is a prolific American author whose verse novels are well known for getting kids who say they hate reading into books. With books like\\xa0The Crossover,\\xa0Rebound\\xa0and\\xa0Booked, kids will be raring to read more and more. Jason Reynolds’ Long Way Down has received plaudits far and wide as a gripping, tense read, exploring the aftermath of a shooting; alternatively, Sarah Crossan and Brian Conaghan’s co-authored verse novel We Come Apart explores the sensitive relationship between disaffected Jess and immigrant Nicu and the external forces that seek to destroy them both. 'Books are like amusement parks and sometimes children get to pick the rides. 5 ways reading together can support children’s wellbeing Sign up to our newsletters full of updates, activities, ways to support us and fun ideas to inspire children to read.\", 'score': 0.9145963, 'raw_content': None}, {'title': 'Readers who enjoyed The Rebound - Goodreads', 'url': 'https://www.goodreads.com/book/similar/93989195-the-rebound', 'content': 'Readers who enjoyed Shelve The Rebound also enjoyed Shelve The First Time We Met Shelve Just Friends Shelve My Lucky Charm (Holidays with Hart, #2) Shelve Rosie and the Dreamboat (The Improbable Meet-Cute, #3) Shelve The Rom-Commers Shelve The Ex Vows Shelve With Any Luck (The Improbable Meet-Cute, #5) Shelve Happily Never After Shelve A Cross-Country Wedding (Road Trip Romance, #2) Sometimes the wedding of the century calls for desperate measures.And sometimes those desperate measures are to pretend the person you hate most is actually your boyfriend. After years of working h… Shelve My Phony Valentine (Holidays with Hart, #1) Shelve The Rule Book (The Cheat Sheet, #2) Shelve Drop, Cover, and Hold On (The Improbable Meet-Cute, #4) Work with us', 'score': 0.86165464, 'raw_content': None}, {'title': 'Review: Rebound Is Another Kwame Alexander Masterpiece', 'url': 'https://elenareads.com/2021/11/03/review-rebound-is-another-kwame-alexander-masterpiece/', 'content': \"Review: Rebound Is Another Kwame Alexander Masterpiece – Elena Reads and Reviews A young book lover shares her thoughts on the diverse stories she's reading. Review: Rebound Is Another Kwame Alexander\\xa0Masterpiece In the fiction novel Rebound, by Kwame Alexander, a boy named Charlie “Chuck” Bell struggles to rebound from a tragedy he experienced during the summer of 1988. Charlie struggles consistently with his grief throughout the story. Before I finished the book, I wondered if Charlie would even make it out of his grieving state because of how much his dad’s death had impacted him. Click to share on Twitter (Opens in new window) Click to share on Facebook (Opens in new window) Comment Email (Required) \", 'score': 0.84606963, 'raw_content': None}, {'title': 'The Rebound: An absolutely hilarious romantic comedy set in Ireland', 'url': 'https://www.amazon.com/Rebound-absolutely-hilarious-romantic-Ireland/dp/1800195672', 'content': \"Readers are completely obsessed with The Rebound: ' OMG this book was just what I needed … Kept me turning the pages and reading late into the night… It was like drinking a great big warm mug of hot chocolate, I just loved it.' Reading time at the zoo ⭐⭐⭐⭐⭐ ' This book is PERFECT … Luke is *chef's kiss*…\", 'score': 0.7204666, 'raw_content': None}], 'response_time': 1.68}),\n",
       "  HumanMessage(content=\"Here are some book recommendations similar to The Rebound that you might enjoy:\\n\\n1. **The First Time We Met** - A charming romance that will capture your heart.\\n2. **Just Friends** - A delightful story about friendship and love.\\n3. **My Lucky Charm (Holidays with Hart, #2)** - A romantic holiday adventure.\\n4. **Rosie and the Dreamboat (The Improbable Meet-Cute, #3)** - A fun and quirky romance.\\n5. **The Rom-Commers** - A delightful rom-com that is sure to entertain.\\n\\nThese books should provide you with some enjoyable reading experiences similar to The Rebound. Let me know if you'd like more information on any of them!\", additional_kwargs={}, response_metadata={}, name='researcher', id='67fb4036-37ae-460f-938c-fc0f1f9701ef'),\n",
       "  AIMessage(content='', additional_kwargs={'tool_calls': [{'id': 'call_V8XkZwxEFDaAIafXBZ494e0t', 'function': {'arguments': '{\"query\": \"The First Time We Met\"}', 'name': 'retrieve_books'}, 'type': 'function'}, {'id': 'call_hOcftMKhSc7XqBGBeJ5cbgey', 'function': {'arguments': '{\"query\": \"Just Friends\"}', 'name': 'retrieve_books'}, 'type': 'function'}, {'id': 'call_mXtH8OiFbR1HwmWEL5PWXf98', 'function': {'arguments': '{\"query\": \"My Lucky Charm (Holidays with Hart, #2)\"}', 'name': 'retrieve_books'}, 'type': 'function'}, {'id': 'call_9A3iSc5vJIgVHh5ftq4VQuHI', 'function': {'arguments': '{\"query\": \"Rosie and the Dreamboat (The Improbable Meet-Cute, #3)\"}', 'name': 'retrieve_books'}, 'type': 'function'}, {'id': 'call_9jzuN2qj6ZovOyfWLYSawK7H', 'function': {'arguments': '{\"query\": \"The Rom-Commers\"}', 'name': 'retrieve_books'}, 'type': 'function'}], 'refusal': None}, response_metadata={'token_usage': {'completion_tokens': 123, 'prompt_tokens': 1441, 'total_tokens': 1564, 'completion_tokens_details': {'audio_tokens': 0, 'reasoning_tokens': 0, 'accepted_prediction_tokens': 0, 'rejected_prediction_tokens': 0}, 'prompt_tokens_details': {'audio_tokens': 0, 'cached_tokens': 0}}, 'model_name': 'gpt-4o-2024-08-06', 'system_fingerprint': 'fp_831e067d82', 'finish_reason': 'tool_calls', 'logprobs': None}, id='run-4a9937fd-6c23-4d9a-a492-4e714a0fdc8e-0', tool_calls=[{'name': 'retrieve_books', 'args': {'query': 'The First Time We Met'}, 'id': 'call_V8XkZwxEFDaAIafXBZ494e0t', 'type': 'tool_call'}, {'name': 'retrieve_books', 'args': {'query': 'Just Friends'}, 'id': 'call_hOcftMKhSc7XqBGBeJ5cbgey', 'type': 'tool_call'}, {'name': 'retrieve_books', 'args': {'query': 'My Lucky Charm (Holidays with Hart, #2)'}, 'id': 'call_mXtH8OiFbR1HwmWEL5PWXf98', 'type': 'tool_call'}, {'name': 'retrieve_books', 'args': {'query': 'Rosie and the Dreamboat (The Improbable Meet-Cute, #3)'}, 'id': 'call_9A3iSc5vJIgVHh5ftq4VQuHI', 'type': 'tool_call'}, {'name': 'retrieve_books', 'args': {'query': 'The Rom-Commers'}, 'id': 'call_9jzuN2qj6ZovOyfWLYSawK7H', 'type': 'tool_call'}], usage_metadata={'input_tokens': 1441, 'output_tokens': 123, 'total_tokens': 1564, 'input_token_details': {'audio': 0, 'cache_read': 0}, 'output_token_details': {'audio': 0, 'reasoning': 0}}),\n",
       "  ToolMessage(content='Book ID: 1405917024, Book Name: The First Time We Met (The Oxford Blue series)\\n\\nBook ID: 045147192X, Book Name: When We Met\\n\\nBook ID: 1503941248, Book Name: The Second First Time\\n\\nBook ID: 1401684882, Book Name: First Date\\n\\nBook ID: 0425171906, Book Name: The Day We Met\\n\\nBook ID: 0615647790, Book Name: The Day We Met\\n\\nBook ID: 1502893681, Book Name: Again for the First Time\\n\\nBook ID: 1545101965, Book Name: Before I Ever Met You\\n\\nBook ID: 0718186680, Book Name: The Place We Met\\n\\nBook ID: 1602829497, Book Name: First Love\\n\\nBook ID: 153005608X, Book Name: First Comes Love\\n\\nBook ID: 1479258946, Book Name: Feels Like the First Time: A True Love Story\\n\\nBook ID: 184223627X, Book Name: The First Time I Said Goodbye\\n\\nBook ID: 1612196268, Book Name: First Love\\n\\nBook ID: 0544022165, Book Name: First Comes Love\\n\\nBook ID: 1634770889, Book Name: First and First\\n\\nBook ID: 0316305359, Book Name: Love and First Sight\\n\\nBook ID: 1494832534, Book Name: My First Love\\n\\nBook ID: 0615959946, Book Name: Firsts\\n\\nBook ID: 1476754160, Book Name: When We Meet Again', name='retrieve_books', id='2aef366d-d971-4061-9578-b6266afa1d0c', tool_call_id='call_V8XkZwxEFDaAIafXBZ494e0t'),\n",
       "  ToolMessage(content='Book ID: 1530511518, Book Name: Just Friends\\n\\nBook ID: 0399165339, Book Name: Friends\\n\\nBook ID: 1682308324, Book Name: Just Friends (Friends Series)\\n\\nBook ID: 034544227X, Book Name: Just Friends: A Novel\\n\\nBook ID: 1627985549, Book Name: Not Just Friends\\n\\nBook ID: 0007156332, Book Name: Best of Friends\\n\\nBook ID: 0451191846, Book Name: Between Friends\\n\\nBook ID: 030726811X, Book Name: Friends Like Us\\n\\nBook ID: 0545851866, Book Name: Friends for Life\\n\\nBook ID: 0425233472, Book Name: Between Friends\\n\\nBook ID: 0544227743, Book Name: Between Friends\\n\\nBook ID: 1682813533, Book Name: More Than Friends\\n\\nBook ID: 0692246347, Book Name: Friends with Benefits\\n\\nBook ID: 0091896770, Book Name: Friends Like These\\n\\nBook ID: 1597056057, Book Name: Just Friends with Benefits\\n\\nBook ID: 0316000698, Book Name: Absolute Friends\\n\\nBook ID: 1419959255, Book Name: Friends With Benefits\\n\\nBook ID: 0451188039, Book Name: Friends and Lovers\\n\\nBook ID: 1682308790, Book Name: More Than Friends (Friends Series)\\n\\nBook ID: 0545551455, Book Name: Better Off Friends', name='retrieve_books', id='bdf3b045-91fc-4e47-91d8-283c6e1bced8', tool_call_id='call_hOcftMKhSc7XqBGBeJ5cbgey'),\n",
       "  ToolMessage(content='Book ID: 1623220289, Book Name: Her Lucky Love (Holiday, Montana)\\n\\nBook ID: 1540840263, Book Name: Lucky Charming\\n\\nBook ID: 1455502529, Book Name: Christmas in Lucky Harbor: Simply Irresistible/The Sweetest Thing (Lucky Harbor Novel)\\n\\nBook ID: 0373773315, Book Name: Lucky Charm (Lucky Trilogy)\\n\\nBook ID: 1545272751, Book Name: Lucky Charm (Spellbound Paranormal Cozy Mystery) (Volume 4)\\n\\nBook ID: 145550372X, Book Name: Lucky in Love (A Lucky Harbor Novel)\\n\\nBook ID: 1635761239, Book Name: The Lucky Heart (Jamison Valley Series)\\n\\nBook ID: 1502874865, Book Name: second Chance Holiday\\n\\nBook ID: 0998546860, Book Name: Second Chances: A Magical Holiday Romance\\n\\nBook ID: 1402224354, Book Name: Lucky in Love\\n\\nBook ID: 1338058010, Book Name: Lucky in Love\\n\\nBook ID: 0821774247, Book Name: Christmas on Conrad Street (Misty Harbor, 2)\\n\\nBook ID: 0671023489, Book Name: Lucky (Lucky Santangelo)\\n\\nBook ID: 1482736659, Book Name: Lucky In Love\\n\\nBook ID: 1490368973, Book Name: A Lucky Second Chance\\n\\nBook ID: 1493763229, Book Name: The Christmas Token (Hardman Holidays) (Volume 2)\\n\\nBook ID: 1420118951, Book Name: Season for Temptation (Holiday)\\n\\nBook ID: 0007501501, Book Name: I Heart Christmas\\n\\nBook ID: 1847281524, Book Name: Lucky\\n\\nBook ID: 1455521124, Book Name: It Had to Be You (Lucky Harbor)', name='retrieve_books', id='faa97bf9-a847-4203-b8f5-bcf39be5d7f9', tool_call_id='call_mXtH8OiFbR1HwmWEL5PWXf98'),\n",
       "  ToolMessage(content=\"Book ID: 0986130737, Book Name: With a Dreamboat in a Hammock\\n\\nBook ID: 0425219518, Book Name: Nauti Dreams (The Nauti Trilogy, Book 3)\\n\\nBook ID: 1522012745, Book Name: Floats Her Boat\\n\\nBook ID: 0505524449, Book Name: Highland Dream (Wink &amp; a Kiss)\\n\\nBook ID: 0842377808, Book Name: Dream of Love (American Dreams, Book 3)\\n\\nBook ID: 0684829924, Book Name: Dream Boy: A Novel\\n\\nBook ID: 1587155842, Book Name: Dreams of the Compass Rose\\n\\nBook ID: 0312939736, Book Name: Dreaming of You (The Graysons, Book 3)\\n\\nBook ID: 039925739X, Book Name: Dream Friends\\n\\nBook ID: 1949050041, Book Name: The Dream'ar (The Rosewood Series)\\n\\nBook ID: 1449719236, Book Name: Out of a Dream (Sandy Cove Series Book 1)\\n\\nBook ID: 1602600783, Book Name: Captive Dreams (Nebraska Brides Series #3) (Heartsong Presents #819)\\n\\nBook ID: 0380794470, Book Name: Dream a Little Dream\\n\\nBook ID: 0986299340, Book Name: A Dream for Love (Possible Dreams)\\n\\nBook ID: 1634771494, Book Name: Undercover Boyfriend (Dreamspun Desires)\\n\\nBook ID: 0380807874, Book Name: A Kiss to Dream on\\n\\nBook ID: 099088483X, Book Name: Summer Dreaming (Hot in the Hamptons)\\n\\nBook ID: 1576730824, Book Name: A Gathering of Finches (Dreamcatcher Series #3)\\n\\nBook ID: 149236875X, Book Name: In Love by Design: The Adventures of Anabel Axelrod (Volume 3)\\n\\nBook ID: 1405919167, Book Name: Dream A Little Dream\", name='retrieve_books', id='67ef916c-c187-41d3-ad40-c9d117158498', tool_call_id='call_9A3iSc5vJIgVHh5ftq4VQuHI'),\n",
       "  ToolMessage(content=\"Book ID: 0671879979, Book Name: The Romulan Stratagem (Star Trek The Next Generation, No 35)\\n\\nBook ID: 019508974X, Book Name: As the Romans Did: A Sourcebook in Roman Social History, 2nd Edition\\n\\nBook ID: 0742567788, Book Name: Why We're All Romans: The Roman Contribution to the Western World\\n\\nBook ID: 0984895337, Book Name: Rome's Revolution\\n\\nBook ID: 0671797468, Book Name: The Romulan Prize (Star Trek The Next Generation, No 26)\\n\\nBook ID: 0689842090, Book Name: Romiette and Julio\\n\\nBook ID: 1500359475, Book Name: Watchmen of Rome\\n\\nBook ID: 1501117637, Book Name: Roman Crazy\\n\\nBook ID: 0199107653, Book Name: Rome\\n\\nBook ID: 0801021499, Book Name: Romans (Baker Exegetical Commentary on the New Testament)\\n\\nBook ID: 0995667845, Book Name: Roman's Having Sex Again\\n\\nBook ID: 0615358616, Book Name: Roman\\n\\nBook ID: 0316229199, Book Name: Thermae Romae, Vol. 1\\n\\nBook ID: 0674777700, Book Name: The Roman Empire: Second Edition\\n\\nBook ID: 0199325189, Book Name: Rome: An Empire's Story\\n\\nBook ID: 1477473831, Book Name: Romero: The Moreno Brothers\\n\\nBook ID: 0984860215, Book Name: A Celt In Rome\\n\\nBook ID: 0814659691, Book Name: Sacra Pagina: Romans\\n\\nBook ID: 0786106867, Book Name: Roman Way\\n\\nBook ID: B00YSH0C90, Book Name:  ROME\", name='retrieve_books', id='2f521281-350d-43a8-ad0d-f5be8e0ad6a5', tool_call_id='call_9jzuN2qj6ZovOyfWLYSawK7H'),\n",
       "  HumanMessage(content=\"Here are some recommendations based on books similar to The Rebound:\\n\\n1. **Just Friends** by Monica Murphy - Book ID: 1530511518\\n2. **My Lucky Charm (Holidays with Hart, #2)** - Unfortunately, I didn't find a direct match for this book, but you might enjoy **Lucky Charm (Lucky Trilogy)** by Carly Phillips - Book ID: 0373773315\\n3. **The First Time We Met (The Oxford Blue series)** by Pippa Croft - Book ID: 1405917024\\n4. **Rosie and the Dreamboat (The Improbable Meet-Cute, #3)** - No direct match, but you might like **Dream A Little Dream** by Susan Elizabeth Phillips - Book ID: 0380794470\\n5. **The Rom-Commers** - No direct match found.\\n\\nWould you like more details on any of these books?\", additional_kwargs={}, response_metadata={}, name='librarian', id='ef0c54b3-9615-49c7-8657-047fc60b7a00'),\n",
       "  HumanMessage(content='Here are some more book recommendations that you might enjoy:\\n\\n1. **Just Friends** by Monica Murphy (Book ID: 1530511518) - A delightful story about friendship and love.\\n\\n2. **Lucky Charm (Lucky Trilogy)** by Carly Phillips (Book ID: 0373773315) - A romantic holiday adventure.\\n\\n3. **The First Time We Met (The Oxford Blue series)** by Pippa Croft (Book ID: 1405917024) - A charming romance that will capture your heart.\\n\\n4. **Dream A Little Dream** by Susan Elizabeth Phillips (Book ID: 0380794470) - A fun and quirky romance.\\n\\nI couldn\\'t find a direct match for \"The Rom-Commers,\" but these options should provide a variety of enjoyable reads. Let me know if you would like more information on any of these books!', additional_kwargs={}, response_metadata={}, name='researcher', id='a9a3ed85-2319-4793-aa56-23d32d6d1406'),\n",
       "  AIMessage(content='', additional_kwargs={'tool_calls': [{'id': 'call_EtgqOIqfxdTqOkSTdA7OaqsW', 'function': {'arguments': '{\"query\":\"romantic comedy books\"}', 'name': 'retrieve_books'}, 'type': 'function'}], 'refusal': None}, response_metadata={'token_usage': {'completion_tokens': 17, 'prompt_tokens': 3967, 'total_tokens': 3984, 'completion_tokens_details': {'audio_tokens': 0, 'reasoning_tokens': 0, 'accepted_prediction_tokens': 0, 'rejected_prediction_tokens': 0}, 'prompt_tokens_details': {'audio_tokens': 0, 'cached_tokens': 3456}}, 'model_name': 'gpt-4o-2024-08-06', 'system_fingerprint': 'fp_831e067d82', 'finish_reason': 'tool_calls', 'logprobs': None}, id='run-182149b7-6022-466e-8470-78863d720981-0', tool_calls=[{'name': 'retrieve_books', 'args': {'query': 'romantic comedy books'}, 'id': 'call_EtgqOIqfxdTqOkSTdA7OaqsW', 'type': 'tool_call'}], usage_metadata={'input_tokens': 3967, 'output_tokens': 17, 'total_tokens': 3984, 'input_token_details': {'audio': 0, 'cache_read': 3456}, 'output_token_details': {'audio': 0, 'reasoning': 0}}),\n",
       "  ToolMessage(content='Book ID: 1615932518, Book Name: Romantic Comedies: These Films Can Save Your Love Life!\\n\\nBook ID: 1416968571, Book Name: Love on Cue (The Romantic Comedies)\\n\\nBook ID: 0373789238, Book Name: Sunset in Central Park: The perfect romantic comedy to curl up with (From Manhattan with Love)\\n\\nBook ID: 1416924655, Book Name: Love Undercover (Simon Romantic Comedies)\\n\\nBook ID: 1551807394, Book Name: Writing Romance (Writing Series)\\n\\nBook ID: 1521308608, Book Name: 10 Dates: A fun and sexy romantic comedy novel\\n\\nBook ID: 1786812525, Book Name: Reach for the Stars: A feel good, laugh out loud romantic comedy\\n\\nBook ID: 1634773225, Book Name: A Kind of Romance\\n\\nBook ID: 1416964126, Book Name: The Twelve Dates of Christmas (Simon Romantic Comedies)\\n\\nBook ID: 1546312226, Book Name: Lovestruck: A Romantic Comedy Standalone\\n\\nBook ID: 1484981928, Book Name: Beauty and the Feast: A Romantic Comedy\\n\\nBook ID: 1479269670, Book Name: The Reluctant Bachelorette: A Romantic Comedy\\n\\nBook ID: 1494254298, Book Name: No Romance Required\\n\\nBook ID: 099875241X, Book Name: A Love for Romance\\n\\nBook ID: 1573220159, Book Name: The Romance Reader\\n\\nBook ID: 159493343X, Book Name: A Perfect Romance\\n\\nBook ID: 0143109251, Book Name: Modern Romance\\n\\nBook ID: 1515223078, Book Name: Love Muffin And Chai Latte (A Romantic Comedy)\\n\\nBook ID: 1416978461, Book Name: The Ex Games (The Romantic Comedies)\\n\\nBook ID: 1604359943, Book Name: Destination Romance Series', name='retrieve_books', id='ad1779c4-7461-4b9f-84dd-196fd21df587', tool_call_id='call_EtgqOIqfxdTqOkSTdA7OaqsW'),\n",
       "  HumanMessage(content='I found some romantic comedy books that you might enjoy:\\n\\n1. **Love on Cue (The Romantic Comedies)** by Catherine Hapka - Book ID: 1416968571\\n2. **Sunset in Central Park: The perfect romantic comedy to curl up with (From Manhattan with Love)** by Sarah Morgan - Book ID: 0373789238\\n3. **10 Dates: A fun and sexy romantic comedy novel** by Emily James - Book ID: 1521308608\\n4. **Reach for the Stars: A feel good, laugh out loud romantic comedy** by Kathy Jay - Book ID: 1786812525\\n5. **The Twelve Dates of Christmas (Simon Romantic Comedies)** by Catherine Hapka - Book ID: 1416964126\\n\\nWould you like more information on any of these books?', additional_kwargs={}, response_metadata={}, name='librarian', id='fb3ac23e-5d0d-4c0d-9071-1623b04d9df7'),\n",
       "  HumanMessage(content=\"If you're interested in romantic comedies, here are some books you might enjoy:\\n\\n1. **Love on Cue (The Romantic Comedies)** by Catherine Hapka - Book ID: 1416968571\\n2. **Sunset in Central Park: The perfect romantic comedy to curl up with (From Manhattan with Love)** by Sarah Morgan - Book ID: 0373789238\\n3. **10 Dates: A fun and sexy romantic comedy novel** by Emily James - Book ID: 1521308608\\n4. **Reach for the Stars: A feel good, laugh out loud romantic comedy** by Kathy Jay - Book ID: 1786812525\\n5. **The Twelve Dates of Christmas (Simon Romantic Comedies)** by Catherine Hapka - Book ID: 1416964126\\n\\nLet me know if you'd like more details about any of these books!\", additional_kwargs={}, response_metadata={}, name='researcher', id='6ecb0fef-5454-4fb8-9cd9-a151f50a2c3e'),\n",
       "  HumanMessage(content='Here are some book recommendations for you:\\n\\n1. **Just Friends** by Monica Murphy (Book ID: 1530511518)\\n2. **Lucky Charm (Lucky Trilogy)** by Carly Phillips (Book ID: 0373773315)\\n3. **The First Time We Met (The Oxford Blue series)** by Pippa Croft (Book ID: 1405917024)\\n4. **Dream A Little Dream** by Susan Elizabeth Phillips (Book ID: 0380794470)\\n5. **Love on Cue (The Romantic Comedies)** by Catherine Hapka (Book ID: 1416968571)\\n6. **Sunset in Central Park: The perfect romantic comedy to curl up with** by Sarah Morgan (Book ID: 0373789238)\\n7. **10 Dates: A fun and sexy romantic comedy novel** by Emily James (Book ID: 1521308608)\\n8. **Reach for the Stars: A feel good, laugh out loud romantic comedy** by Kathy Jay (Book ID: 1786812525)\\n9. **The Twelve Dates of Christmas (Simon Romantic Comedies)** by Catherine Hapka (Book ID: 1416964126)\\n10. **The Reluctant Bachelorette: A Romantic Comedy** by Rachael Anderson (Book ID: 1479269670)\\n\\nThese books should offer a mix of romance and humor that you might enjoy. Let me know if you need more details on any of them!', additional_kwargs={}, response_metadata={}, name='librarian', id='01a24922-7a67-460f-adeb-4ceef731aa14'),\n",
       "  HumanMessage(content='Here are some book recommendations for you:\\n\\n1. **Just Friends** by Monica Murphy (Book ID: 1530511518)\\n2. **Lucky Charm (Lucky Trilogy)** by Carly Phillips (Book ID: 0373773315)\\n3. **The First Time We Met (The Oxford Blue series)** by Pippa Croft (Book ID: 1405917024)\\n4. **Dream A Little Dream** by Susan Elizabeth Phillips (Book ID: 0380794470)\\n5. **Love on Cue (The Romantic Comedies)** by Catherine Hapka (Book ID: 1416968571)\\n6. **Sunset in Central Park: The perfect romantic comedy to curl up with** by Sarah Morgan (Book ID: 0373789238)\\n7. **10 Dates: A fun and sexy romantic comedy novel** by Emily James (Book ID: 1521308608)\\n8. **Reach for the Stars: A feel good, laugh out loud romantic comedy** by Kathy Jay (Book ID: 1786812525)\\n9. **The Twelve Dates of Christmas (Simon Romantic Comedies)** by Catherine Hapka (Book ID: 1416964126)\\n10. **The Reluctant Bachelorette: A Romantic Comedy** by Rachael Anderson (Book ID: 1479269670)\\n\\nThese books should offer a mix of romance and humor that you might enjoy. Let me know if you need more details on any of them!', additional_kwargs={}, response_metadata={}, name='researcher', id='cd6122c0-3876-4732-99f9-cbe90a70aea2'),\n",
       "  HumanMessage(content='FINAL ANSWER\\n\\nHere are 10 book recommendations similar to The Rebound, sorted by relevance:\\n\\n1. **Just Friends** by Monica Murphy (Book ID: 1530511518)\\n2. **Lucky Charm (Lucky Trilogy)** by Carly Phillips (Book ID: 0373773315)\\n3. **The First Time We Met (The Oxford Blue series)** by Pippa Croft (Book ID: 1405917024)\\n4. **Dream A Little Dream** by Susan Elizabeth Phillips (Book ID: 0380794470)\\n5. **Love on Cue (The Romantic Comedies)** by Catherine Hapka (Book ID: 1416968571)\\n6. **Sunset in Central Park: The perfect romantic comedy to curl up with** by Sarah Morgan (Book ID: 0373789238)\\n7. **10 Dates: A fun and sexy romantic comedy novel** by Emily James (Book ID: 1521308608)\\n8. **Reach for the Stars: A feel good, laugh out loud romantic comedy** by Kathy Jay (Book ID: 1786812525)\\n9. **The Twelve Dates of Christmas (Simon Romantic Comedies)** by Catherine Hapka (Book ID: 1416964126)\\n10. **The Reluctant Bachelorette: A Romantic Comedy** by Rachael Anderson (Book ID: 1479269670)\\n\\nThese selections should provide you with a delightful mix of romance and humor. Enjoy your reading!', additional_kwargs={}, response_metadata={}, name='librarian', id='583c3e92-1681-4709-91a3-12d6b36650cb'),\n",
       "  AIMessage(content=['1530511518', '0373773315', '1405917024', '0380794470', '1416968571', '0373789238', '1521308608', '1786812525', '1416964126', '1479269670'], additional_kwargs={}, response_metadata={}, name='formatter', id='bcb836e8-3f2f-428f-af2b-b5e35e69f2b7')]}"
      ]
     },
     "execution_count": 26,
     "metadata": {},
     "output_type": "execute_result"
    }
   ],
   "source": [
    "await recommend_multi_agent_2(messages_pre, store, n=10)"
   ]
  },
  {
   "cell_type": "markdown",
   "metadata": {},
   "source": [
    "### Metrics"
   ]
  },
  {
   "cell_type": "code",
   "execution_count": 26,
   "metadata": {},
   "outputs": [],
   "source": [
    "import os\n",
    "import asyncio\n",
    "import pickle\n",
    "import numpy as np\n",
    "from scripts.metrics import * \n"
   ]
  },
  {
   "cell_type": "code",
   "execution_count": 16,
   "metadata": {},
   "outputs": [],
   "source": [
    "if not os.path.exists(\"X_test.pkl\"):\n",
    "    np.random.seed(0)\n",
    "\n",
    "    X_test = []\n",
    "\n",
    "    while len(X_test) < 200:\n",
    "        user_id = list(data.keys())[np.random.randint(len(data))]\n",
    "        try:\n",
    "            samples = get_sample(user_id, data)\n",
    "            X_test.extend(samples)\n",
    "        except Exception as e:\n",
    "            pass\n",
    "    \n",
    "    with open(\"X_test.pkl\", \"wb\") as f:\n",
    "        pickle.dump(X_test, f)\n",
    "\n",
    "else:\n",
    "    with open(\"X_test.pkl\", \"rb\") as f:\n",
    "        X_test = pickle.load(f)\n"
   ]
  },
  {
   "cell_type": "code",
   "execution_count": 32,
   "metadata": {},
   "outputs": [
    {
     "data": {
      "text/plain": [
       "57.24752475247525"
      ]
     },
     "execution_count": 32,
     "metadata": {},
     "output_type": "execute_result"
    }
   ],
   "source": [
    "np.mean([len(x[\"history\"]) for x in X_test])"
   ]
  },
  {
   "cell_type": "markdown",
   "metadata": {},
   "source": [
    "### Zero shot"
   ]
  },
  {
   "cell_type": "code",
   "execution_count": 42,
   "metadata": {},
   "outputs": [],
   "source": [
    "# ZERO SHOT\n",
    "\n",
    "if os.path.exists(\"zero_shot_results.pkl\"):\n",
    "    with open(\"zero_shot_results.pkl\", \"rb\") as f:\n",
    "        results = pickle.load(f)\n",
    "else:\n",
    "    tasks = []\n",
    "    for x in X_test:\n",
    "        tasks.append(recommend_zero_shot(x[\"messages_pre\"], n=10))\n",
    "\n",
    "    results = await asyncio.gather(*tasks)\n",
    "\n",
    "    with open(\"zero_shot_results.pkl\", \"wb\") as f:\n",
    "        pickle.dump(results, f)"
   ]
  },
  {
   "cell_type": "code",
   "execution_count": 43,
   "metadata": {},
   "outputs": [],
   "source": [
    "total_count = 0\n",
    "count_by_recommendation = []\n",
    "for recommendation in results:\n",
    "    inner_count = 0\n",
    "    for item_name in recommendation:\n",
    "        if item_name.lower() not in items:\n",
    "            total_count += 1\n",
    "            inner_count += 1\n",
    "    count_by_recommendation.append(inner_count)"
   ]
  },
  {
   "cell_type": "code",
   "execution_count": 44,
   "metadata": {},
   "outputs": [
    {
     "data": {
      "text/plain": [
       "(1263, 6.252475247524752)"
      ]
     },
     "execution_count": 44,
     "metadata": {},
     "output_type": "execute_result"
    }
   ],
   "source": [
    "total_count, np.mean(count_by_recommendation)"
   ]
  },
  {
   "cell_type": "code",
   "execution_count": 56,
   "metadata": {},
   "outputs": [
    {
     "name": "stdout",
     "output_type": "stream",
     "text": [
      "recall@5: 0.0009498489411025066\n",
      "recall@10: 0.002105677369567473\n",
      "ndcg@5: 0.0291046320641227\n",
      "ndcg@10: 0.034828696338545545\n",
      "novelty: 62524.83454687444\n"
     ]
    }
   ],
   "source": [
    "metrics = {\"recall@5\": [], \"recall@10\": [], \"ndcg@5\": [], \"ndcg@10\": [], \"novelty\": []}\n",
    "\n",
    "for x, y in zip(X_test, results):\n",
    "\n",
    "    relevant_items = x[\"history\"]\n",
    "    recommended_items = y\n",
    "\n",
    "    metrics[\"recall@5\"].append(recall_at_k(relevant_items, recommended_items, 5))\n",
    "    metrics[\"recall@10\"].append(recall_at_k(relevant_items, recommended_items, 10))\n",
    "\n",
    "    metrics[\"ndcg@5\"].append(ndcg_at_k(relevant_items, recommended_items, 5))\n",
    "    metrics[\"ndcg@10\"].append(ndcg_at_k(relevant_items, recommended_items, 10))\n",
    "\n",
    "    metrics[\"novelty\"].append(novelty_at_k(recommended_items, item_interactions, 10))\n",
    "\n",
    "for key in metrics:\n",
    "    print(f\"{key}: {np.mean(metrics[key])}\")"
   ]
  },
  {
   "cell_type": "markdown",
   "metadata": {},
   "source": [
    "### Agent"
   ]
  },
  {
   "cell_type": "code",
   "execution_count": 33,
   "metadata": {},
   "outputs": [],
   "source": [
    "# Define a semaphore with a maximum number of concurrent tasks\n",
    "semaphore = asyncio.Semaphore(10)  # Adjust 5 to your desired concurrency level\n",
    "\n",
    "async def recommend_with_semaphore(messages_pre, store, n):\n",
    "    # Use the semaphore to limit concurrency\n",
    "    async with semaphore:\n",
    "        return await recommend_agent_2(messages_pre, store, n)"
   ]
  },
  {
   "cell_type": "code",
   "execution_count": null,
   "metadata": {},
   "outputs": [],
   "source": [
    "if os.path.exists(\"agent_results.pkl\"):\n",
    "    with open(\"agent_results.pkl\", \"rb\") as f:\n",
    "        results = pickle.load(f)\n",
    "else:\n",
    "    tasks = []\n",
    "    for x in X_test:\n",
    "        tasks.append(recommend_with_semaphore(x[\"messages_pre\"], store, n=10))\n",
    "\n",
    "    results = await asyncio.gather(*tasks)\n",
    "\n",
    "    with open(\"agent_results.pkl\", \"wb\") as f:\n",
    "        pickle.dump(results, f)"
   ]
  },
  {
   "cell_type": "code",
   "execution_count": 40,
   "metadata": {},
   "outputs": [
    {
     "data": {
      "text/plain": [
       "0"
      ]
     },
     "execution_count": 40,
     "metadata": {},
     "output_type": "execute_result"
    }
   ],
   "source": [
    "retry_tasks = []\n",
    "failed_indices = []  # To track the indices of failed tasks\n",
    "\n",
    "for i, (x, y) in enumerate(zip(X_test, results)):\n",
    "    if y[\"messages\"] is None:  # Check for failure\n",
    "        retry_tasks.append(recommend_with_semaphore(x[\"messages_pre\"], store, n=10))\n",
    "        failed_indices.append(i)\n",
    "\n",
    "len(failed_indices)"
   ]
  },
  {
   "cell_type": "code",
   "execution_count": 34,
   "metadata": {},
   "outputs": [],
   "source": [
    "# Retry failed tasks concurrently\n",
    "if retry_tasks:\n",
    "    retries = await asyncio.gather(*retry_tasks)\n",
    "\n",
    "    # Update the results with retried outputs\n",
    "    for index, retry_result in zip(failed_indices, retries):\n",
    "        results[index] = retry_result"
   ]
  },
  {
   "cell_type": "code",
   "execution_count": 35,
   "metadata": {},
   "outputs": [],
   "source": [
    "with open(\"agent_results_2.pkl\", \"wb\") as f:\n",
    "    pickle.dump(results, f)"
   ]
  },
  {
   "cell_type": "code",
   "execution_count": 42,
   "metadata": {},
   "outputs": [
    {
     "name": "stdout",
     "output_type": "stream",
     "text": [
      "recall@5: 0.003372453835960675\n",
      "recall@10: 0.004623979162985182\n",
      "ndcg@5: 0.0856237293287052\n",
      "ndcg@10: 0.09216631494777808\n",
      "novelty: 594.7474586277139\n"
     ]
    }
   ],
   "source": [
    "# AGENT\n",
    "\n",
    "metrics = {\"recall@5\": [], \"recall@10\": [], \"ndcg@5\": [], \"ndcg@10\": [], \"novelty\": []}\n",
    "\n",
    "for x, y in zip(X_test, results):\n",
    "\n",
    "    relevant_items = x[\"history\"]\n",
    "    recommended_items = y[\"messages\"][-1].content\n",
    "    recommended_items = list(map(lambda x: item_map.get(x.upper(), \"OOV\").lower(), recommended_items))\n",
    "\n",
    "    metrics[\"recall@5\"].append(recall_at_k(relevant_items, recommended_items, 5))\n",
    "    metrics[\"recall@10\"].append(recall_at_k(relevant_items, recommended_items, 10))\n",
    "\n",
    "    metrics[\"ndcg@5\"].append(ndcg_at_k(relevant_items, recommended_items, 5))\n",
    "    metrics[\"ndcg@10\"].append(ndcg_at_k(relevant_items, recommended_items, 10))\n",
    "\n",
    "    metrics[\"novelty\"].append(novelty_at_k(recommended_items, item_interactions, 10))\n",
    "\n",
    "for key in metrics:\n",
    "    print(f\"{key}: {np.mean(metrics[key])}\")"
   ]
  },
  {
   "cell_type": "code",
   "execution_count": 51,
   "metadata": {},
   "outputs": [],
   "source": [
    "total_count = 0\n",
    "count_by_recommendation = []\n",
    "for result in results:\n",
    "    inner_count = 0\n",
    "    for item_id in result[\"messages\"][-1].content:\n",
    "        if item_id.upper() not in item_map:\n",
    "            total_count += 1\n",
    "            inner_count += 1\n",
    "    count_by_recommendation.append(inner_count)"
   ]
  },
  {
   "cell_type": "code",
   "execution_count": 52,
   "metadata": {},
   "outputs": [
    {
     "data": {
      "text/plain": [
       "(3, 0.01485148514851485)"
      ]
     },
     "execution_count": 52,
     "metadata": {},
     "output_type": "execute_result"
    }
   ],
   "source": [
    "total_count, np.mean(count_by_recommendation)"
   ]
  },
  {
   "cell_type": "markdown",
   "metadata": {},
   "source": [
    "### Multi agent"
   ]
  },
  {
   "cell_type": "code",
   "execution_count": 54,
   "metadata": {},
   "outputs": [],
   "source": [
    "# Define a semaphore with a maximum number of concurrent tasks\n",
    "semaphore = asyncio.Semaphore(10)  # Adjust 5 to your desired concurrency level\n",
    "\n",
    "async def recommend_with_semaphore(messages_pre, store, n):\n",
    "    # Use the semaphore to limit concurrency\n",
    "    async with semaphore:\n",
    "        return await recommend_multi_agent_2(messages_pre, store, n)"
   ]
  },
  {
   "cell_type": "code",
   "execution_count": null,
   "metadata": {},
   "outputs": [],
   "source": [
    "if os.path.exists(\"multi_agent_results.pkl\"):\n",
    "    with open(\"multi_agent_results.pkl\", \"rb\") as f:\n",
    "        results = pickle.load(f)\n",
    "else:\n",
    "    tasks = []\n",
    "    for x in X_test:\n",
    "        tasks.append(recommend_with_semaphore(x[\"messages_pre\"], store, n=10))\n",
    "\n",
    "    results = await asyncio.gather(*tasks)\n",
    "\n",
    "    with open(\"multi_agent_results.pkl\", \"wb\") as f:\n",
    "        pickle.dump(results, f)"
   ]
  },
  {
   "cell_type": "code",
   "execution_count": 65,
   "metadata": {},
   "outputs": [
    {
     "data": {
      "text/plain": [
       "1"
      ]
     },
     "execution_count": 65,
     "metadata": {},
     "output_type": "execute_result"
    }
   ],
   "source": [
    "retry_tasks = []\n",
    "failed_indices = []  # To track the indices of failed tasks\n",
    "\n",
    "for i, (x, y) in enumerate(zip(X_test, results)):\n",
    "    \n",
    "    if y[\"messages\"] is None:  # Check for failure\n",
    "        retry_tasks.append(recommend_with_semaphore(x[\"messages_pre\"], store, n=10))\n",
    "        failed_indices.append(i)\n",
    "\n",
    "len(failed_indices)"
   ]
  },
  {
   "cell_type": "code",
   "execution_count": null,
   "metadata": {},
   "outputs": [],
   "source": [
    "# Retry failed tasks concurrently\n",
    "if retry_tasks:\n",
    "    retries = await asyncio.gather(*retry_tasks)\n",
    "\n",
    "    # Update the results with retried outputs\n",
    "    for index, retry_result in zip(failed_indices, retries):\n",
    "        results[index] = retry_result"
   ]
  },
  {
   "cell_type": "code",
   "execution_count": 66,
   "metadata": {},
   "outputs": [
    {
     "name": "stdout",
     "output_type": "stream",
     "text": [
      "recall@5: 0.0024242360137599313\n",
      "recall@10: 0.003608480374319112\n",
      "ndcg@5: 0.04951334653637099\n",
      "ndcg@10: 0.054502912559994426\n",
      "novelty: 11891.065800758644\n"
     ]
    }
   ],
   "source": [
    "# MULTI AGENT\n",
    "\n",
    "metrics = {\"recall@5\": [], \"recall@10\": [], \"ndcg@5\": [], \"ndcg@10\": [], \"novelty\": []}\n",
    "\n",
    "for x, y in zip(X_test, results):\n",
    "\n",
    "    if y[\"messages\"] is None:\n",
    "        continue\n",
    "\n",
    "    relevant_items = x[\"history\"]\n",
    "    recommended_items = y[\"messages\"][-1].content\n",
    "    recommended_items = list(map(lambda x: item_map.get(x.upper(), \"OOV\").lower(), recommended_items))\n",
    "\n",
    "    metrics[\"recall@5\"].append(recall_at_k(relevant_items, recommended_items, 5))\n",
    "    metrics[\"recall@10\"].append(recall_at_k(relevant_items, recommended_items, 10))\n",
    "\n",
    "    metrics[\"ndcg@5\"].append(ndcg_at_k(relevant_items, recommended_items, 5))\n",
    "    metrics[\"ndcg@10\"].append(ndcg_at_k(relevant_items, recommended_items, 10))\n",
    "\n",
    "    metrics[\"novelty\"].append(novelty_at_k(recommended_items, item_interactions, 10))\n",
    "\n",
    "for key in metrics:\n",
    "    print(f\"{key}: {np.mean(metrics[key])}\")"
   ]
  },
  {
   "cell_type": "code",
   "execution_count": 77,
   "metadata": {},
   "outputs": [],
   "source": [
    "total_count = 0\n",
    "count_by_recommendation = []\n",
    "ood = []\n",
    "for result in results:\n",
    "    inner_count = 0\n",
    "\n",
    "    if result is None:\n",
    "        continue\n",
    "\n",
    "    if result[\"messages\"] is None:\n",
    "        continue\n",
    "\n",
    "    for item_id in result[\"messages\"][-1].content:\n",
    "        if item_id.upper() not in item_map:\n",
    "            ood.append(item_id)\n",
    "            total_count += 1\n",
    "            inner_count += 1\n",
    "    count_by_recommendation.append(inner_count)"
   ]
  },
  {
   "cell_type": "code",
   "execution_count": 78,
   "metadata": {},
   "outputs": [
    {
     "data": {
      "text/plain": [
       "(235, 1.1691542288557213)"
      ]
     },
     "execution_count": 78,
     "metadata": {},
     "output_type": "execute_result"
    }
   ],
   "source": [
    "total_count, np.mean(count_by_recommendation)"
   ]
  },
  {
   "cell_type": "code",
   "execution_count": 85,
   "metadata": {},
   "outputs": [
    {
     "data": {
      "text/plain": [
       "{'messages': [HumanMessage(content='Hi, my name is Greg Goodman. I really enjoyed reading \"Those Who Wish Me Dead\" by Michael Koryta. The story was well-documented and had a great plot twist. I highly recommend it!', additional_kwargs={}, response_metadata={}, id='7fecc224-aa2b-4624-8387-111cb1933b1c'),\n",
       "  AIMessage(content='Hello Greg! I\\'m glad you enjoyed \"Those Who Wish Me Dead\". It\\'s always exciting to come across a book that keeps you engaged. How can I assist you today?', additional_kwargs={}, response_metadata={}, id='4973d12c-e3d6-4ede-bf93-66ac29832381'),\n",
       "  HumanMessage(content='Can you recommend another book for me?', additional_kwargs={}, response_metadata={}, id='f0a40ca2-bae1-4a34-b828-6c24cc69bf4f'),\n",
       "  AIMessage(content='Sure! I think you might enjoy \"The Passage: A Novel (Book One of The Passage Trilogy)\" by Justin Cronin. It has received positive reviews, such as this one: \"Strong premise but the author failed to deliver. Cronin bogged this reader down with excessive backstory and irrelevant side stories that it was impossible to stay vested in the outcome.\" However, if you\\'ve already read it, please let me know.', additional_kwargs={}, response_metadata={}, id='fd26b648-ea21-42f6-bb94-8324434a5840'),\n",
       "  HumanMessage(content=\"Oh, I've already read that book. Do you have any other recommendations?\", additional_kwargs={}, response_metadata={}, id='715a1a14-e4d2-4769-85c1-f8a318b3de52'),\n",
       "  AIMessage(content='Of course! How about \"Beneath a Scarlet Sky (Center Point Large Print)\" by Mark Sullivan? It\\'s a gripping historical fiction based on true events during World War II. Here\\'s a review: \"A well-written account of the last few years of WWII. It\\'s based on the story as told to the author by the main character Pink Lalla. It\\'s a captivating read from start to finish.\" Have you read this one before?', additional_kwargs={}, response_metadata={}, id='a0a33ac8-bd3d-42d0-abc1-3dc84ebe7f48'),\n",
       "  HumanMessage(content='Yes, I\\'ve already read \"Beneath a Scarlet Sky\" too. Do you have any other suggestions?', additional_kwargs={}, response_metadata={}, id='74a7e997-3d49-4862-80e7-1ca7f5a2fd0d'),\n",
       "  AIMessage(content='', additional_kwargs={'tool_calls': [{'id': 'call_UfM7rjAQQitsILsxv7wFsHcJ', 'function': {'arguments': '{\"query\":\"thriller novels similar to Those Who Wish Me Dead by Michael Koryta\"}', 'name': 'search_book_info'}, 'type': 'function'}], 'refusal': None}, response_metadata={'token_usage': {'completion_tokens': 29, 'prompt_tokens': 386, 'total_tokens': 415, 'completion_tokens_details': {'audio_tokens': 0, 'reasoning_tokens': 0, 'accepted_prediction_tokens': 0, 'rejected_prediction_tokens': 0}, 'prompt_tokens_details': {'audio_tokens': 0, 'cached_tokens': 0}}, 'model_name': 'gpt-4o-2024-08-06', 'system_fingerprint': 'fp_831e067d82', 'finish_reason': 'tool_calls', 'logprobs': None}, id='run-57f348a1-f072-4df2-ba72-4592e18bb0f7-0', tool_calls=[{'name': 'search_book_info', 'args': {'query': 'thriller novels similar to Those Who Wish Me Dead by Michael Koryta'}, 'id': 'call_UfM7rjAQQitsILsxv7wFsHcJ', 'type': 'tool_call'}], usage_metadata={'input_tokens': 386, 'output_tokens': 29, 'total_tokens': 415, 'input_token_details': {'audio': 0, 'cache_read': 0}, 'output_token_details': {'audio': 0, 'reasoning': 0}}),\n",
       "  ToolMessage(content='[{\"url\": \"https://www.michaelkoryta.com/books/those-who-wish-me-dead/\", \"content\": \"Michael Koryta / Those Who Wish Me Dead Those Who Wish Me Dead Home > Books > Those Who Wish Me Dead Those Who Wish Me Dead The clock is ticking, the mountains are burning, and those who wish Jace Wilson dead are no longer far behind. Warning: Michael Koryta\\'s wonderful, riveting, and harrowing Those Who Wish Me Dead may just move you to tears. Those Who Wish Me Dead is Koryta at his best. Those Who Wish Me Dead is one of the best chase-and-escape novels you\\'ll read this year - or any other year. Those Who Wish Me Dead is an absolutely thrilling read. Those Who Wish Me Dead is what every reader hopes for each time they start a book.\"}, {\"url\": \"https://en.wikipedia.org/wiki/Those_Who_Wish_Me_Dead_(novel)\", \"content\": \"Those Who Wish Me Dead is a novel by American author Michael Koryta. It was published in the United States in June 2014 by Little, Brown and Company . It was adapted as a film released in 2021 of the same name and starring Angelina Jolie .\"}, {\"url\": \"https://www.novelsuspects.com/book-list/michael-koryta-best-books-goodreads-ratings/\", \"content\": \"Average Rating: 3.91. One of the highest-rated of all Koryta\\'s novels, Those Who Wish Me Dead is a psychological thriller about savage killers and a teenage boy who was witness to their crime.After witnessing a brutal murder, fourteen-year-old Jace Wilson is given a new identity and sent to a wilderness protection program for troubled youths to hide him away.\"}, {\"url\": \"https://victoriafreudenheim.com/reviews/those-who-wish-me-dead/\", \"content\": \"Fast-paced, chilling, and suspenseful, Those Who Wish Me Dead is a fascinating novel written by American author, Michael Koryta, in 2014. Set against an unforgiving backdrop of the Montana wilderness, this novel blends the threats posed by one\\'s inner demons with unrelenting natural landscapes to remind us all of the innate, complex connection between man and nature.\"}, {\"url\": \"https://www.goodreads.com/author/list/24197.Michael_Koryta\", \"content\": \"Those Who Wish Me Dead -- Free Preview -- The First 10 Chapters by Michael Koryta (Goodreads Author) 4.15 avg rating — 196 ratings — published 2014 — 3 editions\"}]', name='search_book_info', id='9368ed14-46f8-4269-baf4-cfd0113ed212', tool_call_id='call_UfM7rjAQQitsILsxv7wFsHcJ', artifact={'query': 'thriller novels similar to Those Who Wish Me Dead by Michael Koryta', 'follow_up_questions': None, 'answer': None, 'images': [], 'results': [{'title': 'Those Who Wish Me Dead - Michael Koryta', 'url': 'https://www.michaelkoryta.com/books/those-who-wish-me-dead/', 'content': \"Michael Koryta / Those Who Wish Me Dead Those Who Wish Me Dead Home > Books > Those Who Wish Me Dead Those Who Wish Me Dead The clock is ticking, the mountains are burning, and those who wish Jace Wilson dead are no longer far behind. Warning: Michael Koryta's wonderful, riveting, and harrowing Those Who Wish Me Dead may just move you to tears. Those Who Wish Me Dead is Koryta at his best. Those Who Wish Me Dead is one of the best chase-and-escape novels you'll read this year - or any other year. Those Who Wish Me Dead is an absolutely thrilling read. Those Who Wish Me Dead is what every reader hopes for each time they start a book.\", 'score': 0.9994429, 'raw_content': None}, {'title': 'Those Who Wish Me Dead (novel) - Wikipedia', 'url': 'https://en.wikipedia.org/wiki/Those_Who_Wish_Me_Dead_(novel)', 'content': 'Those Who Wish Me Dead is a novel by American author Michael Koryta. It was published in the United States in June 2014 by Little, Brown and Company . It was adapted as a film released in 2021 of the same name and starring Angelina Jolie .', 'score': 0.9987056, 'raw_content': None}, {'title': \"Michael Koryta's Best Novels Based on Goodreads Ratings\", 'url': 'https://www.novelsuspects.com/book-list/michael-koryta-best-books-goodreads-ratings/', 'content': \"Average Rating: 3.91. One of the highest-rated of all Koryta's novels, Those Who Wish Me Dead is a psychological thriller about savage killers and a teenage boy who was witness to their crime.After witnessing a brutal murder, fourteen-year-old Jace Wilson is given a new identity and sent to a wilderness protection program for troubled youths to hide him away.\", 'score': 0.9985952, 'raw_content': None}, {'title': 'Those Who Wish Me Dead - Victoria Freudenheim', 'url': 'https://victoriafreudenheim.com/reviews/those-who-wish-me-dead/', 'content': \"Fast-paced, chilling, and suspenseful, Those Who Wish Me Dead is a fascinating novel written by American author, Michael Koryta, in 2014. Set against an unforgiving backdrop of the Montana wilderness, this novel blends the threats posed by one's inner demons with unrelenting natural landscapes to remind us all of the innate, complex connection between man and nature.\", 'score': 0.9983516, 'raw_content': None}, {'title': 'Books by Michael Koryta (Author of Those Who Wish Me Dead) - Goodreads', 'url': 'https://www.goodreads.com/author/list/24197.Michael_Koryta', 'content': 'Those Who Wish Me Dead -- Free Preview -- The First 10 Chapters by Michael Koryta (Goodreads Author) 4.15 avg rating — 196 ratings — published 2014 — 3 editions', 'score': 0.9975274, 'raw_content': None}], 'response_time': 1.54}),\n",
       "  AIMessage(content='', additional_kwargs={'tool_calls': [{'id': 'call_aWrXVSTAFbf85llYjMKLi4j0', 'function': {'arguments': '{\"query\":\"books similar to Those Who Wish Me Dead by Michael Koryta\"}', 'name': 'search_book_info'}, 'type': 'function'}], 'refusal': None}, response_metadata={'token_usage': {'completion_tokens': 27, 'prompt_tokens': 966, 'total_tokens': 993, 'completion_tokens_details': {'audio_tokens': 0, 'reasoning_tokens': 0, 'accepted_prediction_tokens': 0, 'rejected_prediction_tokens': 0}, 'prompt_tokens_details': {'audio_tokens': 0, 'cached_tokens': 0}}, 'model_name': 'gpt-4o-2024-08-06', 'system_fingerprint': 'fp_831e067d82', 'finish_reason': 'tool_calls', 'logprobs': None}, id='run-c22e04fc-50c1-455a-9576-286fcf9fce31-0', tool_calls=[{'name': 'search_book_info', 'args': {'query': 'books similar to Those Who Wish Me Dead by Michael Koryta'}, 'id': 'call_aWrXVSTAFbf85llYjMKLi4j0', 'type': 'tool_call'}], usage_metadata={'input_tokens': 966, 'output_tokens': 27, 'total_tokens': 993, 'input_token_details': {'audio': 0, 'cache_read': 0}, 'output_token_details': {'audio': 0, 'reasoning': 0}}),\n",
       "  ToolMessage(content='[{\"url\": \"https://www.michaelkoryta.com/books/those-who-wish-me-dead/\", \"content\": \"Michael Koryta / Those Who Wish Me Dead Those Who Wish Me Dead Home > Books > Those Who Wish Me Dead Those Who Wish Me Dead The clock is ticking, the mountains are burning, and those who wish Jace Wilson dead are no longer far behind. Warning: Michael Koryta\\'s wonderful, riveting, and harrowing Those Who Wish Me Dead may just move you to tears. Those Who Wish Me Dead is Koryta at his best. Those Who Wish Me Dead is one of the best chase-and-escape novels you\\'ll read this year - or any other year. Those Who Wish Me Dead is an absolutely thrilling read. Those Who Wish Me Dead is what every reader hopes for each time they start a book.\"}, {\"url\": \"https://www.goodreads.com/author/list/24197.Michael_Koryta\", \"content\": \"Michael Koryta\\'s most popular book is Those Who Wish Me Dead. ... Michael Koryta has 56 books on Goodreads with 216058 ratings. Michael Koryta\\'s most popular book is Those Who Wish Me Dead. Home; My Books; ... did not like it 1.00 avg rating — 4 ratings. Want to Read saving\"}, {\"url\": \"https://www.amazon.com/Those-Who-Wish-Me-Dead/dp/0316122556\", \"content\": \"Michael Koryta is a master at maintaining suspense and a hell of a good writer. Those Who Wish Me Dead is one of the best chase-and-escape novels you\\'ll read this year - or any other year. The pace never lets up.\\\\\"― Nelson DeMille, author of The Quest \\\\\"Michael Koryta isn\\'t just one of the finest authors working in the crime genre today. He\\'s\"}, {\"url\": \"https://www.whatshouldireadnext.com/author/Michael+Koryta\", \"content\": \"Books by Michael Koryta Writers similar to Michael Koryta: Douglas J Preston, Lincoln Child Douglas Preston, Lincoln Child. Info/Buy\"}, {\"url\": \"https://www.novelsuspects.com/book-list/michael-koryta-best-books-goodreads-ratings/\", \"content\": \"Average Rating: 3.91. One of the highest-rated of all Koryta\\'s novels, Those Who Wish Me Dead is a psychological thriller about savage killers and a teenage boy who was witness to their crime.After witnessing a brutal murder, fourteen-year-old Jace Wilson is given a new identity and sent to a wilderness protection program for troubled youths to hide him away.\"}]', name='search_book_info', id='43af9feb-6d56-4afd-b5c5-816ec7f6646d', tool_call_id='call_aWrXVSTAFbf85llYjMKLi4j0', artifact={'query': 'books similar to Those Who Wish Me Dead by Michael Koryta', 'follow_up_questions': None, 'answer': None, 'images': [], 'results': [{'title': 'Those Who Wish Me Dead - Michael Koryta', 'url': 'https://www.michaelkoryta.com/books/those-who-wish-me-dead/', 'content': \"Michael Koryta / Those Who Wish Me Dead Those Who Wish Me Dead Home > Books > Those Who Wish Me Dead Those Who Wish Me Dead The clock is ticking, the mountains are burning, and those who wish Jace Wilson dead are no longer far behind. Warning: Michael Koryta's wonderful, riveting, and harrowing Those Who Wish Me Dead may just move you to tears. Those Who Wish Me Dead is Koryta at his best. Those Who Wish Me Dead is one of the best chase-and-escape novels you'll read this year - or any other year. Those Who Wish Me Dead is an absolutely thrilling read. Those Who Wish Me Dead is what every reader hopes for each time they start a book.\", 'score': 0.99869555, 'raw_content': None}, {'title': 'Books by Michael Koryta (Author of Those Who Wish Me Dead) - Goodreads', 'url': 'https://www.goodreads.com/author/list/24197.Michael_Koryta', 'content': \"Michael Koryta's most popular book is Those Who Wish Me Dead. ... Michael Koryta has 56 books on Goodreads with 216058 ratings. Michael Koryta's most popular book is Those Who Wish Me Dead. Home; My Books; ... did not like it 1.00 avg rating — 4 ratings. Want to Read saving\", 'score': 0.99586606, 'raw_content': None}, {'title': 'Amazon.com: Those Who Wish Me Dead: 9780316122559: Koryta, Michael: Books', 'url': 'https://www.amazon.com/Those-Who-Wish-Me-Dead/dp/0316122556', 'content': 'Michael Koryta is a master at maintaining suspense and a hell of a good writer. Those Who Wish Me Dead is one of the best chase-and-escape novels you\\'ll read this year - or any other year. The pace never lets up.\"― Nelson DeMille, author of The Quest \"Michael Koryta isn\\'t just one of the finest authors working in the crime genre today. He\\'s', 'score': 0.9946359, 'raw_content': None}, {'title': 'Books by Michael Koryta | Authors like Michael Koryta | What Should I ...', 'url': 'https://www.whatshouldireadnext.com/author/Michael+Koryta', 'content': 'Books by Michael Koryta Writers similar to Michael Koryta: Douglas J Preston, Lincoln Child Douglas Preston, Lincoln Child. Info/Buy', 'score': 0.994089, 'raw_content': None}, {'title': \"Michael Koryta's Best Novels Based on Goodreads Ratings\", 'url': 'https://www.novelsuspects.com/book-list/michael-koryta-best-books-goodreads-ratings/', 'content': \"Average Rating: 3.91. One of the highest-rated of all Koryta's novels, Those Who Wish Me Dead is a psychological thriller about savage killers and a teenage boy who was witness to their crime.After witnessing a brutal murder, fourteen-year-old Jace Wilson is given a new identity and sent to a wilderness protection program for troubled youths to hide him away.\", 'score': 0.9881765, 'raw_content': None}], 'response_time': 1.72}),\n",
       "  HumanMessage(content='It seems that \"Those Who Wish Me Dead\" by Michael Koryta is highly regarded for its suspense and thrilling chase. If you\\'re looking for similar reads, you might enjoy exploring works by authors like Douglas J. Preston and Lincoln Child, who are known for their gripping thrillers. \\n\\nAdditionally, you could consider \"The Silent Corner\" by Dean Koontz, which is another suspenseful and thrilling novel featuring a strong plot and engaging characters. Let me know if this interests you or if you\\'d like more recommendations!', additional_kwargs={}, response_metadata={}, name='researcher', id='cd9141c4-996d-4711-af88-40acd8abf0d7'),\n",
       "  AIMessage(content='', additional_kwargs={'tool_calls': [{'id': 'call_VrJpp3YA8ryzU1F6Z5387eHG', 'function': {'arguments': '{\"query\": \"Douglas J. Preston\"}', 'name': 'retrieve_books'}, 'type': 'function'}, {'id': 'call_QGgVrUw7o0LEHVusF1I2wj5g', 'function': {'arguments': '{\"query\": \"Lincoln Child\"}', 'name': 'retrieve_books'}, 'type': 'function'}, {'id': 'call_Gncb4xttrk4YhLA2NNtignhz', 'function': {'arguments': '{\"query\": \"The Silent Corner by Dean Koontz\"}', 'name': 'retrieve_books'}, 'type': 'function'}], 'refusal': None}, response_metadata={'token_usage': {'completion_tokens': 69, 'prompt_tokens': 1787, 'total_tokens': 1856, 'completion_tokens_details': {'audio_tokens': 0, 'reasoning_tokens': 0, 'accepted_prediction_tokens': 0, 'rejected_prediction_tokens': 0}, 'prompt_tokens_details': {'audio_tokens': 0, 'cached_tokens': 0}}, 'model_name': 'gpt-4o-2024-08-06', 'system_fingerprint': 'fp_831e067d82', 'finish_reason': 'tool_calls', 'logprobs': None}, id='run-5b3f7cab-402d-429d-aa3a-3c92552cca97-0', tool_calls=[{'name': 'retrieve_books', 'args': {'query': 'Douglas J. Preston'}, 'id': 'call_VrJpp3YA8ryzU1F6Z5387eHG', 'type': 'tool_call'}, {'name': 'retrieve_books', 'args': {'query': 'Lincoln Child'}, 'id': 'call_QGgVrUw7o0LEHVusF1I2wj5g', 'type': 'tool_call'}, {'name': 'retrieve_books', 'args': {'query': 'The Silent Corner by Dean Koontz'}, 'id': 'call_Gncb4xttrk4YhLA2NNtignhz', 'type': 'tool_call'}], usage_metadata={'input_tokens': 1787, 'output_tokens': 69, 'total_tokens': 1856, 'input_token_details': {'audio': 0, 'cache_read': 0}, 'output_token_details': {'audio': 0, 'reasoning': 0}}),\n",
       "  ToolMessage(content='Book ID: 0310250668, Book Name: Predator\\n\\nBook ID: 1925047733, Book Name: Predator X\\n\\nBook ID: 0143142062, Book Name: Invisible Prey (Lucas Davenport Mysteries)\\n\\nBook ID: 0143057758, Book Name: Hidden Prey (Lucas Davenport Mysteries)\\n\\nBook ID: 0352321466, Book Name: Predator\\n\\nBook ID: 1532748469, Book Name: Predator\\n\\nBook ID: 1416954392, Book Name: Predators\\n\\nBook ID: 0385327943, Book Name: Midnight Predator\\n\\nBook ID: 0143143123, Book Name: Phantom Prey (Lucas Davenport)\\n\\nBook ID: 1615814671, Book Name: Infected: Prey\\n\\nBook ID: 0807084964, Book Name: The Predator Paradox: Ending the War with Wolves, Bears, Cougars, and Coyotes\\n\\nBook ID: 0307702707, Book Name: Prey: A Novel\\n\\nBook ID: 0345480236, Book Name: The Prey: A Novel (Predator Trilogy)\\n\\nBook ID: 0307408973, Book Name: Pandemic: A Novel (The Infected)\\n\\nBook ID: 0147525071, Book Name: Extreme Prey (A Prey Novel)\\n\\nBook ID: 0307406105, Book Name: Infected: A Novel\\n\\nBook ID: 0385687125, Book Name: The Charming Predator\\n\\nBook ID: 178565540X, Book Name: Predator: If It Bleeds\\n\\nBook ID: 0778303659, Book Name: Prey\\n\\nBook ID: 1543644325, Book Name: Pandemic (Extinction Files)', name='retrieve_books', id='1d564ee1-1a66-43d4-a2d3-c2e8b1e7c220', tool_call_id='call_VrJpp3YA8ryzU1F6Z5387eHG'),\n",
       "  ToolMessage(content=\"Book ID: 0330325795, Book Name: Child of Time\\n\\nBook ID: 145169489X, Book Name: The Child's Child: A Novel\\n\\nBook ID: 1542722829, Book Name: Silent Child\\n\\nBook ID: 0373483562, Book Name: Secret Child\\n\\nBook ID: 0751556858, Book Name: The Child\\n\\nBook ID: 0451408381, Book Name: The Starry Child\\n\\nBook ID: 0446401846, Book Name: Child of Silence\\n\\nBook ID: 1607255766, Book Name: Child of Earth\\n\\nBook ID: 1508858551, Book Name: Moon Child\\n\\nBook ID: 1681310244, Book Name: The Child\\n\\nBook ID: 0062659057, Book Name: The Child Finder: A Novel\\n\\nBook ID: 0312359322, Book Name: The Last Child\\n\\nBook ID: 1447273281, Book Name: Children of Time\\n\\nBook ID: 0957652240, Book Name: Stranger Child\\n\\nBook ID: 0007419503, Book Name: The Hidden Child\\n\\nBook ID: 0307272761, Book Name: The Stranger's Child\\n\\nBook ID: 0373483627, Book Name: Sarah'S Child\\n\\nBook ID: 0764215612, Book Name: Peace Child\\n\\nBook ID: 160910255X, Book Name: Children of the Lost Moon\\n\\nBook ID: 1973130076, Book Name: Star Child: Places of Power\", name='retrieve_books', id='7b13e313-3a9a-4779-b64d-4dc8718b9146', tool_call_id='call_QGgVrUw7o0LEHVusF1I2wj5g'),\n",
       "  ToolMessage(content='Book ID: 0345546792, Book Name: The Silent Corner: A Novel of Suspense (Jane Hawk)\\n\\nBook ID: 0307700283, Book Name: Silent House\\n\\nBook ID: 0446538361, Book Name: Silent Scream\\n\\nBook ID: 1941987540, Book Name: The Silent End\\n\\nBook ID: 1493665901, Book Name: Silent\\n\\nBook ID: 0374512817, Book Name: The Silent Life\\n\\nBook ID: 1507201680, Book Name: Silent\\n\\nBook ID: 147780885X, Book Name: Silent Echo\\n\\nBook ID: 0451412559, Book Name: Silent Fall\\n\\nBook ID: 1542722829, Book Name: Silent Child\\n\\nBook ID: 0786021489, Book Name: Silent Screams\\n\\nBook ID: 1543625576, Book Name: The Silent Wife\\n\\nBook ID: 1420100505, Book Name: Silent Killer\\n\\nBook ID: 0307739821, Book Name: The Silent Land\\n\\nBook ID: 0870112325, Book Name: The Silent Cry\\n\\nBook ID: 0070296952, Book Name: Silent sea\\n\\nBook ID: 0143123238, Book Name: The Silent Wife: A Novel\\n\\nBook ID: 0399157794, Book Name: Silent Enemy\\n\\nBook ID: 0671015133, Book Name: The Silent Cradle\\n\\nBook ID: 0399137424, Book Name: Silent Prey', name='retrieve_books', id='0d4e848b-ec54-4aa1-979d-f1a544a7ca6a', tool_call_id='call_Gncb4xttrk4YhLA2NNtignhz'),\n",
       "  HumanMessage(content='Here are some books that you might find intriguing, based on your interest in thrillers similar to \"Those Who Wish Me Dead\":\\n\\n1. **\"The Silent Corner: A Novel of Suspense (Jane Hawk)\" by Dean Koontz** - Book ID: 0345546792\\n2. **\"Predator\" by Douglas J. Preston** - Book ID: 0310250668\\n3. **\"Predator X\" by Douglas J. Preston** - Book ID: 1925047733\\n4. **\"Invisible Prey (Lucas Davenport Mysteries)\" by Lincoln Child** - Book ID: 0143142062\\n5. **\"Hidden Prey (Lucas Davenport Mysteries)\" by Lincoln Child** - Book ID: 0143057758\\n6. **\"Phantom Prey (Lucas Davenport)\" by Lincoln Child** - Book ID: 0143143123\\n7. **\"The Prey: A Novel (Predator Trilogy)\" by Lincoln Child** - Book ID: 0345480236\\n8. **\"The Silent Wife: A Novel\" by A.S.A. Harrison** - Book ID: 0143123238\\n9. **\"Silent Prey\" by John Sandford** - Book ID: 0399137424\\n10. **\"The Silent Land\" by Graham Joyce** - Book ID: 0307739821\\n\\nThese selections should offer a mix of suspense, thrilling plots, and complex characters. Let me know if any of these catch your interest!', additional_kwargs={}, response_metadata={}, name='librarian', id='083316fb-0457-44b6-ba57-ce19a4560810'),\n",
       "  HumanMessage(content=\"If you're interested in trying one of these recommendations, please let me know, and I can provide more details or help you find where to purchase or borrow the book.\", additional_kwargs={}, response_metadata={}, name='researcher', id='c209490e-8bba-432f-9bdc-33a1ea772a3e'),\n",
       "  HumanMessage(content='FINAL ANSWER: Here are 10 book recommendations for you, Greg, based on your interest in thrillers similar to \"Those Who Wish Me Dead\":\\n\\n1. **\"The Silent Corner: A Novel of Suspense (Jane Hawk)\" by Dean Koontz** - Book ID: 0345546792\\n2. **\"Predator\" by Douglas J. Preston** - Book ID: 0310250668\\n3. **\"Predator X\" by Douglas J. Preston** - Book ID: 1925047733\\n4. **\"Invisible Prey (Lucas Davenport Mysteries)\" by Lincoln Child** - Book ID: 0143142062\\n5. **\"Hidden Prey (Lucas Davenport Mysteries)\" by Lincoln Child** - Book ID: 0143057758\\n6. **\"Phantom Prey (Lucas Davenport)\" by Lincoln Child** - Book ID: 0143143123\\n7. **\"The Prey: A Novel (Predator Trilogy)\" by Lincoln Child** - Book ID: 0345480236\\n8. **\"The Silent Wife: A Novel\" by A.S.A. Harrison** - Book ID: 0143123238\\n9. **\"Silent Prey\" by John Sandford** - Book ID: 0399137424\\n10. **\"The Silent Land\" by Graham Joyce** - Book ID: 0307739821\\n\\nThese thrilling novels should keep you on the edge of your seat with suspenseful plots and engaging characters. Let us know if you\\'d like more information on any of these books!', additional_kwargs={}, response_metadata={}, name='librarian', id='3211d1e7-63ea-4201-8fb6-54bd581030b9'),\n",
       "  AIMessage(content=['0345546792', '0310250668', '1925047733', '0143142062', '0143057758', '0143143123', '0345480236', '0143123238', '0399137424', '0307739821'], additional_kwargs={}, response_metadata={}, name='formatter', id='458226d1-9ef3-48c5-bc19-0c4d90b08c16')]}"
      ]
     },
     "execution_count": 85,
     "metadata": {},
     "output_type": "execute_result"
    }
   ],
   "source": [
    "results[25]"
   ]
  },
  {
   "cell_type": "code",
   "execution_count": 79,
   "metadata": {},
   "outputs": [
    {
     "data": {
      "text/plain": [
       "[\"j.k. lasser's your income tax 2023\",\n",
       " 'tax-free wealth',\n",
       " \"j.k. lasser's small business taxes 2021\",\n",
       " 'cashing out: win the wealth game by walking away',\n",
       " 'launching financial grownups',\n",
       " 'unlock your best life',\n",
       " 'tipped: the life-changing guide to financial freedom for service industry professionals',\n",
       " 'the couple next door by shari lapena',\n",
       " 'the girl on the train by paula hawkins',\n",
       " 'in the woods by tana french',\n",
       " 'the wife between us by greer hendricks and sarah pekkanen',\n",
       " 'the girl in the window',\n",
       " 'everyone on this train is a suspect by benjamin stevenson',\n",
       " 'the fury by alex michaelides',\n",
       " 'the dirty life: on farming, food, and love by kristin kimball',\n",
       " 'we are what we eat: a slow food manifesto by alice waters',\n",
       " 'one-woman farm: my life shared with sheep, pigs, chickens, goats, and a fine fiddle by jenna woginrich',\n",
       " 'growing a revolution: bringing our soil back to life by david r. montgomery',\n",
       " 'local: the new face of food and farming in america',\n",
       " 'eating for pleasure, people & planet by tom hunt',\n",
       " 'cold antler farm: a memoir of growing food and celebrating life on a scrappy six-acre homestead',\n",
       " \"the omnivore's dilemma: a natural history of four meals by michael pollan\",\n",
       " \"in defense of food: an eater's manifesto by michael pollan\",\n",
       " 'the third plate: field notes on the future of food by dan barber',\n",
       " 'ashes by ilsa j. bick',\n",
       " 'the dark and hollow places by carrie ryan',\n",
       " 'the dead-tossed waves by carrie ryan',\n",
       " 'the paladin prophecy: book 1 by dan wells',\n",
       " 'lies: a gone novel by michael grant',\n",
       " 'daisy jones & the six by taylor jenkins reid',\n",
       " 'the seven husbands of evelyn hugo by taylor jenkins reid',\n",
       " 'room by emma donoghue',\n",
       " 'rebecca by daphne du maurier',\n",
       " 'shiner by amy jo burns',\n",
       " 'the night circus by erin morgenstern',\n",
       " 'a man called ove by fredrik backman',\n",
       " 'the goldfinch by donna tartt',\n",
       " 'all the light we cannot see by anthony doerr',\n",
       " 'where the crawdads sing by delia owens',\n",
       " 'the book thief by markus zusak',\n",
       " 'big little lies by liane moriarty',\n",
       " 'night watch (discworld, #29) by terry pratchett',\n",
       " 'good omens by neil gaiman and terry pratchett',\n",
       " 'the colour of magic (discworld, #1) by terry pratchett',\n",
       " 'guards! guards! (discworld, #8) by terry pratchett',\n",
       " 'going postal (discworld, #33) by terry pratchett',\n",
       " 'mort (discworld, #4) by terry pratchett',\n",
       " 'the wee free men (discworld, #30) by terry pratchett',\n",
       " 'the complete prose by woody allen',\n",
       " 'works by diana wynne jones',\n",
       " 'the anubis gates by tim powers',\n",
       " 'the 7 habits of highly effective people by stephen r. covey',\n",
       " 'the power of habit: why we do what we do in life and business by charles duhigg',\n",
       " 'made to stick: why some ideas take hold and others come unstuck by chip heath',\n",
       " 'to sell is human: the surprising truth about moving others by daniel h. pink',\n",
       " 'getting to yes: negotiating agreement without giving in by roger fisher and william ury',\n",
       " 'atomic habits by james clear',\n",
       " 'think and grow rich by napoleon hill',\n",
       " '2',\n",
       " '3',\n",
       " '1',\n",
       " '4',\n",
       " '6',\n",
       " '5',\n",
       " 'brilliance-1',\n",
       " 'steelheart-1',\n",
       " 'vicious-1',\n",
       " 'power-1',\n",
       " 'redrising-1',\n",
       " 'rook-1',\n",
       " 'remarkable-1',\n",
       " 'boneseason-1',\n",
       " 'neverwhere-1',\n",
       " 'sixcrows-1',\n",
       " 'now you see us by balli kaur jaswal',\n",
       " 'the collected regrets of clover by mikki brammer',\n",
       " 'the wishing game by meg shaffer',\n",
       " 'paper names by susie luo',\n",
       " 'show me the bodies',\n",
       " 'king: a life by jonathan eig',\n",
       " 'poverty, by america by matthew desmond',\n",
       " 'tyndale nlt life application study bible, third edition, large print (hardcover, red letter)',\n",
       " 'nlt large print thinline reference bible, filament-enabled edition',\n",
       " 'nlt large print premium value thinline bible, filament enabled',\n",
       " 'niv, value thinline bible, large print, leathersoft, brown, comfort print',\n",
       " 'esv large print thinline reference bible',\n",
       " 'nkjv holy bible, super giant print reference bible',\n",
       " 'the grand sophy by georgette heyer',\n",
       " 'arabella by georgette heyer',\n",
       " 'cotillion by georgette heyer',\n",
       " 'sylvester, or the wicked uncle by georgette heyer',\n",
       " 'lady of quality by georgette heyer',\n",
       " 'a worthy wife by barbara metzger',\n",
       " 'the rebellious ward by joan wolf',\n",
       " 'the mysterious mr. oliver by sydney jane baily',\n",
       " 'miss fleming falls in love by emma v. leech',\n",
       " 'kingscastle by sophia holloway',\n",
       " 'all the sinners bleed',\n",
       " 'the river we remember',\n",
       " 'zero days',\n",
       " 'the only one left',\n",
       " 'the kingdoms of savannah',\n",
       " \"jo nesbo's harry hole series - notably 'the thirst'\",\n",
       " 'china strike by matt rees',\n",
       " \"keigo higashino's works - 'the devotion of suspect x'\",\n",
       " 'the cold cold ground by adrian mckinty',\n",
       " \"john grisham's crime novels\",\n",
       " \"jeffrey deaver's works\",\n",
       " \"martin cruz smith's arkady renko series\",\n",
       " \"robert crais' elvis cole and joe pike series\",\n",
       " \"lisa regan's novels\",\n",
       " \"nelson demille's books\",\n",
       " 'happy place by emily henry',\n",
       " 'the love hypothesis by ali hazelwood',\n",
       " 'take the lead by alexis daria',\n",
       " 'the true love experiment by christina lauren',\n",
       " 'molly molloy and the angel of death by maria vale',\n",
       " 'codename charming by lucy parker',\n",
       " \"the marquis who mustn't\",\n",
       " 'midnight duet by jen comfort',\n",
       " 'would you rather',\n",
       " \"lizzie blake's best mistake\",\n",
       " 'the notebook by nicholas sparks',\n",
       " \"the time traveler's wife by audrey niffenegger\",\n",
       " 'the light we lost by jill santopolo',\n",
       " 'dear john by nicholas sparks',\n",
       " 'before we were strangers by renée carlino',\n",
       " 'me before you by jojo moyes',\n",
       " 'magic breaks by ilona andrews',\n",
       " 'if i live by terri blackstock',\n",
       " 'baden (pittsburgh titans, #1)',\n",
       " 'fiction',\n",
       " 'mystery',\n",
       " 'science fiction',\n",
       " 'non-fiction',\n",
       " 'the hours by michael cunningham',\n",
       " 'a map of the world by jane hamilton',\n",
       " \"the pilot's wife by anita shreve\",\n",
       " \"charlotte's web by e.b. white\",\n",
       " 'the tale of despereaux by kate dicamillo',\n",
       " 'the miraculous journey of edward tulane by kate dicamillo',\n",
       " 'swan song by robert r. mccammon',\n",
       " 'wild swans by jung chang',\n",
       " 'life of pi by yann martel',\n",
       " 'the night circus by erin morgenstern',\n",
       " '001',\n",
       " '002',\n",
       " '003',\n",
       " '004',\n",
       " '005',\n",
       " '006',\n",
       " '007',\n",
       " '008',\n",
       " '009',\n",
       " '010',\n",
       " 'all the sinners bleed',\n",
       " 'the river we remember',\n",
       " 'the kingdoms of savannah',\n",
       " 'the ferryman',\n",
       " 'the saint of bright doors',\n",
       " 'venomous lumpsucker',\n",
       " \"lizzie blake's best mistake: a novel\",\n",
       " 'molly molloy and the angel of death',\n",
       " 'codename charming',\n",
       " 'radiant sin',\n",
       " 'the priory of the orange tree by samantha shannon',\n",
       " 'a song of ice and fire series by george r.r. martin',\n",
       " 'the earthsea cycle by ursula k. le guin',\n",
       " 'the chronicles of narnia by c.s. lewis',\n",
       " 'the lord of the rings by j.r.r. tolkien',\n",
       " 'fourth wing by rebecca yarros',\n",
       " 'the unmaking of june farrow by adrienne young',\n",
       " 'atalanta by jennifer saint',\n",
       " 'the hurricane wars by thea guanzon',\n",
       " 'bookshops & bonedust by travis baldree',\n",
       " 'the beginners guide to making homemade cheese, butter & yogurt',\n",
       " 'the complete guide to making cheese, butter, and yogurt at home: everything you need to know explained simply',\n",
       " 'cheese primer',\n",
       " 'artisan cheese making at home: techniques & recipes for mastering world-class cheeses',\n",
       " 'home cheese making: recipes for 75 homemade cheeses',\n",
       " 'one-hour cheese: ricotta, mozzarella, chèvre, paneer--even burrata. fresh and simple cheeses you can make in an hour or less!',\n",
       " 'the creamery kitchen: discover the age-old tradition of making fresh butters, yogurts, creams, and soft cheeses at home',\n",
       " 'the home creamery: make your own fresh dairy products; easy recipes for butter, yogurt, sour cream, crème fraîche, cream cheese, ricotta, and more!',\n",
       " 'the book of yogurt',\n",
       " 'not just cheesecake: a yogurt cheese cookbook',\n",
       " 'the heaven & earth grocery store by james mcbride',\n",
       " 'victory city by salman rushdie',\n",
       " 'the fraud by zadie smith',\n",
       " 'flee north by scott shane',\n",
       " 'your face belongs to us by kashmir hill',\n",
       " 'show me the bodies',\n",
       " 'all the sinners bleed by s.a. cosby',\n",
       " 'zero days',\n",
       " 'the only one left',\n",
       " 'fourth wing by rebecca yarros',\n",
       " 'the letter tree by rachel fordham',\n",
       " 'a life once dreamed by rachel fordham',\n",
       " 'hope springs by lynne hinton',\n",
       " 'longing for home, book 2: hope springs by sarah m. eden',\n",
       " 'second chance ranch (a hope springs novel) by janet dailey',\n",
       " 'the hope of spring (the discovery - a lancaster county saga) by wanda e. brunstetter',\n",
       " 'beneath the patchwork moon (a hope springs novel) by alison kent',\n",
       " 'the comfort of favorite things (a hope springs novel) by alison kent',\n",
       " \"the hope of refuge (ada's house series, book 1) by cindy woodsmall\",\n",
       " 'when hope blossoms by kim vogel sawyer',\n",
       " '3',\n",
       " '7',\n",
       " '2',\n",
       " '1',\n",
       " '10',\n",
       " '11',\n",
       " '12',\n",
       " '13',\n",
       " '14',\n",
       " '15',\n",
       " 'the year of magical thinking by joan didion',\n",
       " 'wave by sonali deraniyagala',\n",
       " \"i wasn't ready to say goodbye by brook noel & pamela d. blair, phd\",\n",
       " 'grief one day at a time by dr. alan d. wolfelt',\n",
       " 'when breath becomes air by paul kalanithi',\n",
       " 'wild by cheryl strayed',\n",
       " 'educated by tara westover',\n",
       " 'h is for hawk by helen macdonald',\n",
       " 'being mortal by atul gawande',\n",
       " 'option b by sheryl sandberg and adam grant',\n",
       " 'the collected regrets of clover by mikki brammer',\n",
       " 'the wishing game by meg shaffer',\n",
       " 'these truths: a history of the united states by jill lepore',\n",
       " 'the emperor of all maladies: a biography of cancer by siddhartha mukherjee',\n",
       " 'gone girl by gillian flynn',\n",
       " 'the hound of the baskervilles by arthur conan doyle',\n",
       " 'consider phlebas by iain banks',\n",
       " 'the left hand of darkness by ursula k. le guin',\n",
       " 'new york times best sellers - hardcover fiction',\n",
       " 'the 100 most popular sci-fi books on goodreads']"
      ]
     },
     "execution_count": 79,
     "metadata": {},
     "output_type": "execute_result"
    }
   ],
   "source": [
    "ood"
   ]
  },
  {
   "cell_type": "markdown",
   "metadata": {},
   "source": [
    "# Metrics"
   ]
  },
  {
   "cell_type": "code",
   "execution_count": 9,
   "metadata": {},
   "outputs": [],
   "source": [
    "import os\n",
    "import sys\n",
    "sys.path.append(os.path.abspath(\"..\"))"
   ]
  },
  {
   "cell_type": "code",
   "execution_count": 10,
   "metadata": {},
   "outputs": [],
   "source": [
    "import pickle\n",
    "from scripts.metrics import * "
   ]
  },
  {
   "cell_type": "code",
   "execution_count": 11,
   "metadata": {},
   "outputs": [],
   "source": [
    "with open(\"zero_shot_results.pkl\", \"rb\") as f:\n",
    "    results_zero_shot = pickle.load(f)\n",
    "\n",
    "with open(\"agent_results.pkl\", \"rb\") as f:\n",
    "    results_agent = pickle.load(f)\n",
    "\n",
    "with open(\"multi_agent_results.pkl\", \"rb\") as f:\n",
    "    results_multi_agent = pickle.load(f)"
   ]
  },
  {
   "cell_type": "code",
   "execution_count": 12,
   "metadata": {},
   "outputs": [],
   "source": [
    "with open(\"X_test.pkl\", \"rb\") as f:\n",
    "    X_test = pickle.load(f)\n"
   ]
  },
  {
   "cell_type": "code",
   "execution_count": 16,
   "metadata": {},
   "outputs": [],
   "source": [
    "import asyncio\n",
    "from openai import AsyncOpenAI\n",
    "client = AsyncOpenAI()\n",
    "\n",
    "async def get_embedding(text, model=\"text-embedding-3-small\"):\n",
    "   text = text.replace(\"\\n\", \" \")\n",
    "   response = await client.embeddings.create(input = [text], model=model)\n",
    "   return response.data[0].embedding\n"
   ]
  },
  {
   "cell_type": "code",
   "execution_count": 18,
   "metadata": {},
   "outputs": [],
   "source": [
    "def cosine_similarity(x, y):\n",
    "    x = np.array(x)\n",
    "    y = np.array(y)\n",
    "    return np.dot(x, y) / (np.linalg.norm(x) * np.linalg.norm(y))\n",
    "\n",
    "\n",
    "async def get_profile(history: list):\n",
    "    embeddings = []\n",
    "    tasks = []\n",
    "    for item in history:\n",
    "        x = f\"book '{item}'\"\n",
    "        tasks.append(get_embedding(x))\n",
    "    embeddings = await asyncio.gather(*tasks)\n",
    "    profile = np.mean(embeddings, axis=0)\n",
    "    return profile"
   ]
  },
  {
   "cell_type": "code",
   "execution_count": null,
   "metadata": {},
   "outputs": [],
   "source": [
    "for index, x in enumerate(X_test):\n",
    "    print(f\"Processing {index + 1}/{len(X_test)}\")\n",
    "    profile = await get_profile(x[\"history\"])\n",
    "    x[\"profile\"] = profile"
   ]
  },
  {
   "cell_type": "code",
   "execution_count": null,
   "metadata": {},
   "outputs": [],
   "source": [
    "embeddings_multi_agent = []\n",
    "for index, result in enumerate(results_multi_agent):\n",
    "    print(f\"Processing {index + 1}/{len(results_multi_agent)}\")\n",
    "    if len(result) > 0:\n",
    "        if result[\"messages\"] is None:\n",
    "            embeddings_multi_agent.append(None)\n",
    "            continue\n",
    "        recommended_items = result[\"messages\"][-1].content\n",
    "        for index, item in enumerate(recommended_items):\n",
    "            if item.upper() in item_map:\n",
    "                recommended_items[index] = item_map[item.upper()]\n",
    "        embeddings_multi_agent.append(await get_profile(recommended_items))\n",
    "    else:\n",
    "        embeddings_multi_agent.append(None)"
   ]
  },
  {
   "cell_type": "code",
   "execution_count": null,
   "metadata": {},
   "outputs": [],
   "source": [
    "embeddings_agent = []\n",
    "for index, result in enumerate(results_agent):\n",
    "    print(f\"Processing {index + 1}/{len(results_agent)}\")\n",
    "    if len(result) > 0:\n",
    "        recommended_items = result[\"messages\"][-1].content\n",
    "        for index, item in enumerate(recommended_items):\n",
    "            if item.upper() in item_map:\n",
    "                recommended_items[index] = item_map[item.upper()]\n",
    "        embeddings_agent.append(await get_profile(recommended_items))\n",
    "    else:\n",
    "        embeddings_agent.append(None)"
   ]
  },
  {
   "cell_type": "code",
   "execution_count": null,
   "metadata": {},
   "outputs": [],
   "source": [
    "embeddings_zero_shot = []\n",
    "for index, result in enumerate(results_zero_shot):\n",
    "    print(f\"Processing {index + 1}/{len(results_zero_shot)}\")\n",
    "    if len(result) > 0:\n",
    "        embeddings_zero_shot.append(await get_profile(x))\n",
    "    else:\n",
    "        embeddings_zero_shot.append(None)"
   ]
  },
  {
   "cell_type": "code",
   "execution_count": 50,
   "metadata": {},
   "outputs": [
    {
     "name": "stdout",
     "output_type": "stream",
     "text": [
      "0.663605479687184\n"
     ]
    }
   ],
   "source": [
    "novelty = 0\n",
    "n = 0\n",
    "for x, y in zip(embeddings_zero_shot, [x[\"profile\"] for x in X_test]):\n",
    "    if x is not None and y is not None:\n",
    "        novelty += cosine_similarity(x, y)\n",
    "        n += 1\n",
    "\n",
    "print(novelty / n)"
   ]
  },
  {
   "cell_type": "code",
   "execution_count": null,
   "metadata": {},
   "outputs": [
    {
     "name": "stdout",
     "output_type": "stream",
     "text": [
      "0.7276900175787342\n"
     ]
    }
   ],
   "source": [
    "novelty = 0\n",
    "n = 0\n",
    "for x, y in zip(embeddings_agent, [x[\"profile\"] for x in X_test]):\n",
    "    if x is not None and y is not None:\n",
    "        novelty += cosine_similarity(x, y)\n",
    "        n += 1\n",
    "\n",
    "print(novelty / n)"
   ]
  },
  {
   "cell_type": "code",
   "execution_count": 49,
   "metadata": {},
   "outputs": [
    {
     "name": "stdout",
     "output_type": "stream",
     "text": [
      "0.7531312197303951\n"
     ]
    }
   ],
   "source": [
    "novelty = 0\n",
    "n = 0\n",
    "for x, y in zip(embeddings_multi_agent, [x[\"profile\"] for x in X_test]):\n",
    "    if x is not None and y is not None:\n",
    "        novelty += cosine_similarity(x, y)\n",
    "        n += 1\n",
    "\n",
    "print(novelty / n)"
   ]
  },
  {
   "cell_type": "code",
   "execution_count": 13,
   "metadata": {},
   "outputs": [
    {
     "name": "stdout",
     "output_type": "stream",
     "text": [
      "recall@5: 0.0009498489411025066\n",
      "recall@10: 0.002105677369567473\n",
      "precision@5: 0.008910891089108912\n",
      "precision@10: 0.008910891089108912\n",
      "ndcg@5: 0.0291046320641227\n",
      "ndcg@10: 0.034828696338545545\n",
      "novelty: 62524.83454687444\n"
     ]
    }
   ],
   "source": [
    "metrics = {\"recall@5\": [], \"recall@10\": [], \"precision@5\": [], \"precision@10\": [], \"ndcg@5\": [], \"ndcg@10\": [], \"novelty\": []}\n",
    "\n",
    "for x, y in zip(X_test, results_zero_shot):\n",
    "\n",
    "    relevant_items = x[\"history\"]\n",
    "    recommended_items = y\n",
    "\n",
    "    metrics[\"recall@5\"].append(recall_at_k(relevant_items, recommended_items, 5))\n",
    "    metrics[\"recall@10\"].append(recall_at_k(relevant_items, recommended_items, 10))\n",
    "\n",
    "    metrics[\"precision@5\"].append(precision_at_k(relevant_items, recommended_items, 5))\n",
    "    metrics[\"precision@10\"].append(precision_at_k(relevant_items, recommended_items, 10))\n",
    "\n",
    "    metrics[\"ndcg@5\"].append(ndcg_at_k(relevant_items, recommended_items, 5))\n",
    "    metrics[\"ndcg@10\"].append(ndcg_at_k(relevant_items, recommended_items, 10))\n",
    "\n",
    "    metrics[\"novelty\"].append(novelty_at_k(recommended_items, item_interactions, 10))\n",
    "\n",
    "for key in metrics:\n",
    "    print(f\"{key}: {np.mean(metrics[key])}\")"
   ]
  },
  {
   "cell_type": "code",
   "execution_count": 14,
   "metadata": {},
   "outputs": [
    {
     "name": "stdout",
     "output_type": "stream",
     "text": [
      "recall@5: 0.003372453835960675\n",
      "recall@10: 0.004623979162985182\n",
      "precision@5: 0.021782178217821784\n",
      "precision@10: 0.016831683168316833\n",
      "ndcg@5: 0.0856237293287052\n",
      "ndcg@10: 0.09216631494777808\n",
      "novelty: 594.7474586277139\n"
     ]
    }
   ],
   "source": [
    "metrics = {\"recall@5\": [], \"recall@10\": [], \"precision@5\": [], \"precision@10\": [], \"ndcg@5\": [], \"ndcg@10\": [], \"novelty\": []}\n",
    "\n",
    "for x, y in zip(X_test, results_agent):\n",
    "\n",
    "    if y[\"messages\"] is None:\n",
    "        continue\n",
    "\n",
    "\n",
    "    relevant_items = x[\"history\"]\n",
    "    #recommended_items = y\n",
    "    recommended_items = y[\"messages\"][-1].content\n",
    "    recommended_items = list(map(lambda x: item_map.get(x.upper(), \"OOV\").lower(), recommended_items))\n",
    "\n",
    "\n",
    "    metrics[\"recall@5\"].append(recall_at_k(relevant_items, recommended_items, 5))\n",
    "    metrics[\"recall@10\"].append(recall_at_k(relevant_items, recommended_items, 10))\n",
    "\n",
    "    metrics[\"precision@5\"].append(precision_at_k(relevant_items, recommended_items, 5))\n",
    "    metrics[\"precision@10\"].append(precision_at_k(relevant_items, recommended_items, 10))\n",
    "\n",
    "    metrics[\"ndcg@5\"].append(ndcg_at_k(relevant_items, recommended_items, 5))\n",
    "    metrics[\"ndcg@10\"].append(ndcg_at_k(relevant_items, recommended_items, 10))\n",
    "\n",
    "    metrics[\"novelty\"].append(novelty_at_k(recommended_items, item_interactions, 10))\n",
    "\n",
    "for key in metrics:\n",
    "    print(f\"{key}: {np.mean(metrics[key])}\")"
   ]
  },
  {
   "cell_type": "code",
   "execution_count": 15,
   "metadata": {},
   "outputs": [
    {
     "name": "stdout",
     "output_type": "stream",
     "text": [
      "recall@5: 0.0024242360137599313\n",
      "recall@10: 0.003608480374319112\n",
      "precision@5: 0.017910447761194027\n",
      "precision@10: 0.012935323383084578\n",
      "ndcg@5: 0.04951334653637099\n",
      "ndcg@10: 0.054502912559994426\n",
      "novelty: 11891.065800758644\n"
     ]
    }
   ],
   "source": [
    "metrics = {\"recall@5\": [], \"recall@10\": [], \"precision@5\": [], \"precision@10\": [], \"ndcg@5\": [], \"ndcg@10\": [], \"novelty\": []}\n",
    "\n",
    "for x, y in zip(X_test, results_multi_agent):\n",
    "\n",
    "    if y[\"messages\"] is None:\n",
    "        continue\n",
    "\n",
    "\n",
    "    relevant_items = x[\"history\"]\n",
    "    recommended_items = y[\"messages\"][-1].content\n",
    "    recommended_items = list(map(lambda x: item_map.get(x.upper(), \"OOV\").lower(), recommended_items))\n",
    "\n",
    "    metrics[\"recall@5\"].append(recall_at_k(relevant_items, recommended_items, 5))\n",
    "    metrics[\"recall@10\"].append(recall_at_k(relevant_items, recommended_items, 10))\n",
    "\n",
    "    metrics[\"precision@5\"].append(precision_at_k(relevant_items, recommended_items, 5))\n",
    "    metrics[\"precision@10\"].append(precision_at_k(relevant_items, recommended_items, 10))\n",
    "\n",
    "    metrics[\"ndcg@5\"].append(ndcg_at_k(relevant_items, recommended_items, 5))\n",
    "    metrics[\"ndcg@10\"].append(ndcg_at_k(relevant_items, recommended_items, 10))\n",
    "\n",
    "    metrics[\"novelty\"].append(novelty_at_k(recommended_items, item_interactions, 10))\n",
    "\n",
    "for key in metrics:\n",
    "    print(f\"{key}: {np.mean(metrics[key])}\")"
   ]
  }
 ],
 "metadata": {
  "kernelspec": {
   "display_name": ".venv",
   "language": "python",
   "name": "python3"
  },
  "language_info": {
   "codemirror_mode": {
    "name": "ipython",
    "version": 3
   },
   "file_extension": ".py",
   "mimetype": "text/x-python",
   "name": "python",
   "nbconvert_exporter": "python",
   "pygments_lexer": "ipython3",
   "version": "3.12.4"
  }
 },
 "nbformat": 4,
 "nbformat_minor": 2
}
