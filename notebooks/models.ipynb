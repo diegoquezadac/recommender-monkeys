{
 "cells": [
  {
   "cell_type": "code",
   "execution_count": 114,
   "metadata": {},
   "outputs": [],
   "source": [
    "import json\n",
    "import numpy as np\n",
    "from typing import List, Dict"
   ]
  },
  {
   "cell_type": "code",
   "execution_count": 115,
   "metadata": {},
   "outputs": [],
   "source": [
    "with open(\"../data/Books/item_map.json\", \"r\") as f:\n",
    "    item_map = json.load(f)\n",
    "\n",
    "with open(\"../data/Books/final_data.jsonl\", \"r\") as f:\n",
    "    final_data = [json.loads(line) for line in f]"
   ]
  },
  {
   "cell_type": "code",
   "execution_count": 116,
   "metadata": {},
   "outputs": [],
   "source": [
    "items = list(set([item_map[key].lower().strip() for key in item_map]))"
   ]
  },
  {
   "cell_type": "code",
   "execution_count": 117,
   "metadata": {},
   "outputs": [],
   "source": [
    "item_interactions = {}\n",
    "\n",
    "for user_data in final_data:\n",
    "    for user_id in user_data:\n",
    "        for item_id in user_data[user_id][\"history_interaction\"]:\n",
    "            item_name = item_map[item_id].lower().strip()\n",
    "            if item_name not in item_interactions:\n",
    "                item_interactions[item_name] = 0\n",
    "            item_interactions[item_name] += 1"
   ]
  },
  {
   "cell_type": "code",
   "execution_count": 88,
   "metadata": {},
   "outputs": [],
   "source": [
    "def recommend_random(items: List[str], n: int = 5, **kwargs):\n",
    "    return np.random.choice(items, n, replace=False).tolist()\n",
    "\n",
    "def recommend_most_popular(item_interactions: Dict[str, int], n: int = 5, **kwargs):\n",
    "    most_popular_items = sorted(item_interactions, key=item_interactions.get, reverse=True)[:n]\n",
    "    return most_popular_items\n",
    "\n",
    "def recommend_zero_shot(items: List[str], n: int = 5, **kwargs):\n",
    "    pass"
   ]
  },
  {
   "cell_type": "code",
   "execution_count": 107,
   "metadata": {},
   "outputs": [
    {
     "data": {
      "text/plain": [
       "['fat man and little boy',\n",
       " 'from this moment on (windswept bay) (volume 1)',\n",
       " 'ladies man (the manwhore series)',\n",
       " 'the berenstain bears give thanks (berenstain bears/living lights)',\n",
       " 'magic circles: the beatles in dream and history']"
      ]
     },
     "execution_count": 107,
     "metadata": {},
     "output_type": "execute_result"
    }
   ],
   "source": [
    "recommend_random(items)"
   ]
  },
  {
   "cell_type": "code",
   "execution_count": 110,
   "metadata": {},
   "outputs": [
    {
     "data": {
      "text/plain": [
       "['gone girl',\n",
       " 'the girl on the train',\n",
       " 'the pillars of the earth',\n",
       " 'the old man and the sea',\n",
       " 'books\" />']"
      ]
     },
     "execution_count": 110,
     "metadata": {},
     "output_type": "execute_result"
    }
   ],
   "source": [
    "recommend_most_popular(item_interactions)"
   ]
  }
 ],
 "metadata": {
  "kernelspec": {
   "display_name": ".venv",
   "language": "python",
   "name": "python3"
  },
  "language_info": {
   "codemirror_mode": {
    "name": "ipython",
    "version": 3
   },
   "file_extension": ".py",
   "mimetype": "text/x-python",
   "name": "python",
   "nbconvert_exporter": "python",
   "pygments_lexer": "ipython3",
   "version": "3.12.4"
  }
 },
 "nbformat": 4,
 "nbformat_minor": 2
}
