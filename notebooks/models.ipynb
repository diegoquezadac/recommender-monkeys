{
 "cells": [
  {
   "cell_type": "markdown",
   "metadata": {},
   "source": [
    "## Libraries"
   ]
  },
  {
   "cell_type": "code",
   "execution_count": 1,
   "metadata": {},
   "outputs": [],
   "source": [
    "import os\n",
    "import sys\n",
    "sys.path.append(os.path.abspath(\"..\"))"
   ]
  },
  {
   "cell_type": "code",
   "execution_count": 2,
   "metadata": {},
   "outputs": [],
   "source": [
    "import json\n",
    "import numpy as np\n",
    "from typing import List, Dict, Any\n",
    "from pydantic import BaseModel, Field\n",
    "from langchain_openai import ChatOpenAI\n",
    "from langchain_core.messages import AIMessage, HumanMessage, BaseMessage\n",
    "from langchain_core.prompts import ChatPromptTemplate\n",
    "from scripts.Tools import read_dialogue, get_conversation_by_id "
   ]
  },
  {
   "cell_type": "markdown",
   "metadata": {},
   "source": [
    "## Data"
   ]
  },
  {
   "cell_type": "code",
   "execution_count": 3,
   "metadata": {},
   "outputs": [],
   "source": [
    "dataset = \"Books\""
   ]
  },
  {
   "cell_type": "code",
   "execution_count": 4,
   "metadata": {},
   "outputs": [],
   "source": [
    "with open(f\"../data/{dataset}/item_map.json\", \"r\") as f:\n",
    "    item_map = json.load(f)\n",
    "\n",
    "with open(f\"../data/{dataset}/final_data.jsonl\", \"r\") as f:\n",
    "    final_data = [json.loads(line) for line in f]\n",
    "\n",
    "dialogues = read_dialogue(f\"../data/{dataset}/Conversation.txt\")"
   ]
  },
  {
   "cell_type": "code",
   "execution_count": 5,
   "metadata": {},
   "outputs": [],
   "source": [
    "items = list(set([item_map[key].lower().strip() for key in item_map]))"
   ]
  },
  {
   "cell_type": "code",
   "execution_count": 6,
   "metadata": {},
   "outputs": [],
   "source": [
    "item_interactions = {}\n",
    "for user_data in final_data:\n",
    "    for user_id in user_data:\n",
    "        for item_id in user_data[user_id][\"history_interaction\"]:\n",
    "            item_name = item_map[item_id].lower().strip()\n",
    "            if item_name not in item_interactions:\n",
    "                item_interactions[item_name] = 0\n",
    "            item_interactions[item_name] += 1"
   ]
  },
  {
   "cell_type": "code",
   "execution_count": 7,
   "metadata": {},
   "outputs": [],
   "source": [
    "def get_messages(conversation_id: int, dialogues: str) -> List[BaseMessage]:\n",
    "\n",
    "    conversation = get_conversation_by_id(dialogues, conversation_id)\n",
    "    lines = conversation.strip().split(\"\\n\\n\")\n",
    "    messages = []\n",
    "\n",
    "    for line in lines:\n",
    "        if line.startswith(\"User:\"):\n",
    "            messages.append(HumanMessage(content=line[5:].strip()))\n",
    "        elif line.startswith(\"Agent:\"):\n",
    "            messages.append(AIMessage(content=line[6:].strip()))\n",
    "    \n",
    "    return messages"
   ]
  },
  {
   "cell_type": "markdown",
   "metadata": {},
   "source": [
    "## Models 1\n",
    "\n",
    "In the following subsection, we implement three baseline models for conversational recommendation:\n",
    "\n",
    "1. Random recommendation\n",
    "2. Most popular recommendation\n",
    "3. Zero-shot recommendation\n"
   ]
  },
  {
   "cell_type": "code",
   "execution_count": 8,
   "metadata": {},
   "outputs": [],
   "source": [
    "def recommend_random(items: List[str], n: int = 5):\n",
    "    return np.random.choice(items, n, replace=False).tolist()\n",
    "\n",
    "\n",
    "def recommend_most_popular(item_interactions: Dict[str, int], n: int = 5):\n",
    "    most_popular_items = sorted(\n",
    "        item_interactions, key=item_interactions.get, reverse=True\n",
    "    )[:n]\n",
    "    return most_popular_items\n",
    "\n",
    "\n",
    "def recommend_zero_shot(messages: List[BaseMessage], n: int = 5, verbose: bool = False):\n",
    "\n",
    "    class Recommendation(BaseModel):\n",
    "        items: Any = Field(\n",
    "            description=\"A list of items. Each item must contain a 'reason' and a 'name'\"\n",
    "        )\n",
    "\n",
    "    system = \"\"\"\n",
    "        You are a recommender system.\n",
    "        Recommend {n} items based on the user's conversation.\n",
    "        Sort the items by descending order of relevance.\n",
    "\n",
    "        Conversation:\n",
    "        {messages}\n",
    "        \"\"\"\n",
    "\n",
    "    prompt = ChatPromptTemplate.from_messages([(\"system\", system)])\n",
    "\n",
    "    llm = ChatOpenAI(model=\"gpt-4o\", temperature=0)\n",
    "    structured_llm = llm.with_structured_output(Recommendation, include_raw=True)\n",
    "\n",
    "    zero_shot_structured_llm = prompt | structured_llm\n",
    "    response = zero_shot_structured_llm.invoke({\"messages\": messages, \"n\": n})\n",
    "\n",
    "    prompt_tokens = response[\"raw\"].response_metadata[\"token_usage\"][\"prompt_tokens\"]\n",
    "    completion_tokens = response[\"raw\"].response_metadata[\"token_usage\"][\n",
    "        \"completion_tokens\"\n",
    "    ]\n",
    "\n",
    "    cost = 0.150 * prompt_tokens / 1000000 + 0.600 * completion_tokens / 1000000\n",
    "\n",
    "    if verbose:\n",
    "        print(f\"Prompt Tokens: {prompt_tokens}\")\n",
    "        print(f\"Completion Tokens: {completion_tokens}\")\n",
    "        print(f\"Cost: ${cost} USD\")\n",
    "\n",
    "    return response[\"parsed\"].items"
   ]
  },
  {
   "cell_type": "code",
   "execution_count": 9,
   "metadata": {},
   "outputs": [
    {
     "data": {
      "text/plain": [
       "['the pencil: a history of design and circumstance',\n",
       " 'new drawing on the right side of the brain workbook',\n",
       " 'apache legacy (lovegram historical romance)',\n",
       " 'deadly pursuit: a novel (guardians of justice) (volume 2)',\n",
       " 'starseers (fallen empire) (volume 3)']"
      ]
     },
     "execution_count": 9,
     "metadata": {},
     "output_type": "execute_result"
    }
   ],
   "source": [
    "recommend_random(items)"
   ]
  },
  {
   "cell_type": "code",
   "execution_count": 10,
   "metadata": {},
   "outputs": [
    {
     "data": {
      "text/plain": [
       "['gone girl',\n",
       " 'the girl on the train',\n",
       " 'the pillars of the earth',\n",
       " 'the old man and the sea',\n",
       " 'books\" />']"
      ]
     },
     "execution_count": 10,
     "metadata": {},
     "output_type": "execute_result"
    }
   ],
   "source": [
    "recommend_most_popular(item_interactions)"
   ]
  },
  {
   "cell_type": "code",
   "execution_count": 11,
   "metadata": {},
   "outputs": [
    {
     "data": {
      "text/plain": [
       "[{'name': 'The Perfect Ruin by Shanora Williams',\n",
       "  'reason': \"This book is filled with drama and suspense, similar to 'We Both Can't Be Bae'. It involves a story of revenge and secrets that will keep you on the edge of your seat.\"},\n",
       " {'name': 'The Coldest Winter Ever by Sister Souljah',\n",
       "  'reason': \"This novel is a classic in urban fiction, known for its intense drama and captivating storyline, much like 'We Both Can't Be Bae'.\"},\n",
       " {'name': 'Addicted by Zane',\n",
       "  'reason': \"This book offers a mix of drama and romance, with a gripping plot that will appeal to fans of 'We Both Can't Be Bae'.\"}]"
      ]
     },
     "execution_count": 11,
     "metadata": {},
     "output_type": "execute_result"
    }
   ],
   "source": [
    "messages = get_messages(0, dialogues)\n",
    "recommend_zero_shot(messages[:1], n=3, verbose=False)"
   ]
  },
  {
   "cell_type": "markdown",
   "metadata": {},
   "source": [
    "## Models 2\n",
    "\n",
    "In the following subsection, we implement the first agent.\n",
    "\n",
    "In order to run this section, add the following variables to your .env: OPENAI_API_KEY and TAVILY_API_KEY."
   ]
  },
  {
   "cell_type": "markdown",
   "metadata": {},
   "source": [
    "### Vector database"
   ]
  },
  {
   "cell_type": "markdown",
   "metadata": {},
   "source": [
    "The most important tool is the vector database, as it allows to interact semantically with the currrent catalog of books."
   ]
  },
  {
   "cell_type": "code",
   "execution_count": 12,
   "metadata": {},
   "outputs": [],
   "source": [
    "import tiktoken\n",
    "from uuid import uuid4\n",
    "from langchain_chroma import Chroma\n",
    "from langchain_openai import OpenAIEmbeddings\n",
    "from langchain_core.documents import Document"
   ]
  },
  {
   "cell_type": "code",
   "execution_count": 13,
   "metadata": {},
   "outputs": [],
   "source": [
    "def get_token_count(text: str) -> int:\n",
    "    model = \"text-embedding-3-small\"\n",
    "    encoding_name = tiktoken.encoding_for_model(model).name\n",
    "    encoding = tiktoken.get_encoding(encoding_name)\n",
    "    total_tokens = len(encoding.encode(text))\n",
    "\n",
    "    return total_tokens\n",
    "\n",
    "def get_embedding_cost(num_tokens: int) -> float:\n",
    "    cost_per_million_tokens = 0.020\n",
    "    return cost_per_million_tokens * (num_tokens / 1_000_000)"
   ]
  },
  {
   "cell_type": "code",
   "execution_count": 14,
   "metadata": {},
   "outputs": [],
   "source": [
    "documents = []\n",
    "for item in items:\n",
    "    if item != \"\":\n",
    "        documents.append(Document(page_content=f\"Book: {item}\"))"
   ]
  },
  {
   "cell_type": "code",
   "execution_count": 15,
   "metadata": {},
   "outputs": [
    {
     "data": {
      "text/plain": [
       "[Document(metadata={}, page_content='Book: the road to deer run'),\n",
       " Document(metadata={}, page_content='Book: late for tea at the deer palace: the lost dreams of my iraqi family'),\n",
       " Document(metadata={}, page_content='Book: sinful scottish laird: a historical romance novel (the highland grooms)'),\n",
       " Document(metadata={}, page_content='Book: wolf creek enforcer: texas pack (volume 2)'),\n",
       " Document(metadata={}, page_content=\"Book: the wizard's dilemma: the fifth book in the young wizards series\")]"
      ]
     },
     "execution_count": 15,
     "metadata": {},
     "output_type": "execute_result"
    }
   ],
   "source": [
    "documents[:5]"
   ]
  },
  {
   "cell_type": "code",
   "execution_count": 16,
   "metadata": {},
   "outputs": [
    {
     "name": "stdout",
     "output_type": "stream",
     "text": [
      "Total tokens: 2150836\n",
      "Expected cost: 0.04301671999999592\n"
     ]
    }
   ],
   "source": [
    "total_tokens = 0\n",
    "expected_cost = 0\n",
    "for doc in documents:\n",
    "    tokens = get_token_count(doc.page_content)\n",
    "    total_tokens += tokens\n",
    "    expected_cost += get_embedding_cost(tokens)\n",
    "print(f\"Total tokens: {total_tokens}\")\n",
    "print(f\"Expected cost: {expected_cost}\")"
   ]
  },
  {
   "cell_type": "code",
   "execution_count": 17,
   "metadata": {},
   "outputs": [],
   "source": [
    "embeddings = OpenAIEmbeddings(model=\"text-embedding-3-small\")\n",
    "\n",
    "store = Chroma(\n",
    "    collection_name=\"books\",\n",
    "    embedding_function=embeddings,\n",
    "    persist_directory=\"../store\",\n",
    ")"
   ]
  },
  {
   "cell_type": "code",
   "execution_count": 18,
   "metadata": {},
   "outputs": [],
   "source": [
    "# NOTE: Only run this once\n",
    "#uuids = [str(uuid4()) for _ in documents]\n",
    "# Iterate in batches of 10,000\n",
    "#for i in range(0, len(documents), 10_000):\n",
    "#    print(f\"Adding documents {i} to {i + 10_000}\")\n",
    "#    store.add_documents(documents=documents[i : i + 10_000], ids=uuids[i : i + 10_000])"
   ]
  },
  {
   "cell_type": "markdown",
   "metadata": {},
   "source": [
    "### Agent"
   ]
  },
  {
   "cell_type": "code",
   "execution_count": 19,
   "metadata": {},
   "outputs": [],
   "source": [
    "from typing import Annotated, Sequence, Optional\n",
    "from pydantic import BaseModel, Field\n",
    "from typing_extensions import TypedDict\n",
    "from langchain_openai import ChatOpenAI\n",
    "from langchain_core.prompts import PromptTemplate\n",
    "from langchain.tools.retriever import create_retriever_tool\n",
    "from langchain_core.messages import BaseMessage, HumanMessage, AIMessage\n",
    "from langgraph.prebuilt import ToolNode\n",
    "from langgraph.graph.message import add_messages\n",
    "from langgraph.graph import StateGraph, START, END\n",
    "from langchain_core.runnables import RunnableLambda\n",
    "from langchain_community.tools import TavilySearchResults"
   ]
  },
  {
   "cell_type": "code",
   "execution_count": 20,
   "metadata": {},
   "outputs": [],
   "source": [
    "tavily_tool = TavilySearchResults(\n",
    "    max_results=10,\n",
    "    search_depth=\"advanced\",\n",
    "    include_answer=False,\n",
    "    include_raw_content=False,\n",
    "    include_images=False,\n",
    "    description=\"Search the web for information about books.\",\n",
    "    )\n",
    "\n",
    "books_retriever = create_retriever_tool(\n",
    "    store.as_retriever(search_type=\"similarity\", search_kwargs={\"k\": 10}),\n",
    "    \"retrieve_books\",\n",
    "    \"Search and return books in the database.\",\n",
    ")"
   ]
  },
  {
   "cell_type": "code",
   "execution_count": 21,
   "metadata": {},
   "outputs": [],
   "source": [
    "class AgentState(TypedDict):\n",
    "    messages: Annotated[Sequence[BaseMessage], add_messages]\n",
    "\n",
    "\n",
    "async def agent(state):\n",
    "\n",
    "    messages = state[\"messages\"]\n",
    "\n",
    "    prompt = PromptTemplate.from_template(\n",
    "        template=\"\"\"\n",
    "            You are a conversational recommender system specialized in books.\n",
    "            Given a current conversation, recommend 3 books that align with the user's interests.\n",
    "\n",
    "            Current conversation is as follows:\n",
    "            {messages}\n",
    "        \"\"\"\n",
    "    )\n",
    "\n",
    "    llm = ChatOpenAI(\n",
    "        temperature=0,\n",
    "        streaming=True,\n",
    "        model=\"gpt-4o\",\n",
    "        model_kwargs={\"stream_options\": {\"include_usage\": True}},\n",
    "    )\n",
    "\n",
    "    tools = [books_retriever, tavily_tool]\n",
    "\n",
    "    llm = llm.bind_tools(tools)\n",
    "\n",
    "    chain = prompt | llm\n",
    "\n",
    "    response = await chain.ainvoke({\"messages\": messages})\n",
    "\n",
    "    return {\"messages\": [response]}\n",
    "\n",
    "def should_continue(state):\n",
    "\n",
    "    messages = state[\"messages\"]\n",
    "    last_message = messages[-1]\n",
    "    if not last_message.tool_calls:\n",
    "        return END\n",
    "    else:\n",
    "        return \"tools\""
   ]
  },
  {
   "cell_type": "code",
   "execution_count": 22,
   "metadata": {},
   "outputs": [],
   "source": [
    "workflow = StateGraph(AgentState)\n",
    "tools = ToolNode([books_retriever, tavily_tool])\n",
    "\n",
    "workflow.add_node(\"agent\", RunnableLambda(agent))\n",
    "workflow.add_node(\"tools\", tools)\n",
    "\n",
    "workflow.add_edge(START, \"agent\")\n",
    "\n",
    "workflow.add_conditional_edges(\"agent\", should_continue, {END: END, \"tools\": \"tools\"})\n",
    "workflow.add_edge(\"tools\", \"agent\")\n",
    "\n",
    "workflow.add_edge(\"agent\", END)\n",
    "\n",
    "# Compile\n",
    "graph = workflow.compile()"
   ]
  },
  {
   "cell_type": "code",
   "execution_count": 23,
   "metadata": {},
   "outputs": [],
   "source": [
    "def get_inference_cost(messages: list[BaseMessage]) -> float:\n",
    "    input_tokens = 0\n",
    "    output_tokens = 0\n",
    "\n",
    "    for message in messages:\n",
    "        if isinstance(message, AIMessage):\n",
    "            input_tokens += message.usage_metadata[\"input_tokens\"]\n",
    "            output_tokens += message.usage_metadata[\"output_tokens\"]\n",
    "    return input_tokens * 0.150 / 1_000_000 + output_tokens * 0.0600 / 1_000_000"
   ]
  },
  {
   "cell_type": "code",
   "execution_count": 24,
   "metadata": {},
   "outputs": [],
   "source": [
    "async def recommend_graph(graph, messages: list[BaseMessage], show_cost: bool = False) -> list[BaseMessage]:\n",
    "    \n",
    "    state = {\"messages\": messages}\n",
    "    output = await graph.ainvoke(state)\n",
    "\n",
    "    if show_cost:\n",
    "        cost = get_inference_cost(output[\"messages\"])\n",
    "        print(f\"Cost: ${cost} USD\")\n",
    "        \n",
    "    return output[\"messages\"]"
   ]
  },
  {
   "cell_type": "code",
   "execution_count": 25,
   "metadata": {},
   "outputs": [],
   "source": [
    "messages = get_messages(0, dialogues)"
   ]
  },
  {
   "cell_type": "code",
   "execution_count": 26,
   "metadata": {},
   "outputs": [
    {
     "name": "stdout",
     "output_type": "stream",
     "text": [
      "Cost: $0.00086493 USD\n"
     ]
    },
    {
     "data": {
      "text/plain": [
       "[HumanMessage(content='Hello! I recently read \"We Both Can\\'t Be Bae (Volume 1)\" and I really enjoyed it. The drama in the story kept me hooked. Can you recommend another book similar to it?', additional_kwargs={}, response_metadata={}, id='ac0d96f1-2394-4253-9af7-4492de4ea5d6'),\n",
       " AIMessage(content='', additional_kwargs={'tool_calls': [{'index': 0, 'id': 'call_8lvbmJqjaORGHK4mDq2srCKL', 'function': {'arguments': '{\"query\": \"We Both Can\\'t Be Bae (Volume 1) similar books\"}', 'name': 'retrieve_books'}, 'type': 'function'}, {'index': 1, 'id': 'call_nSaqkf30CpmaWpudpYZmnrLl', 'function': {'arguments': '{\"query\": \"books similar to We Both Can\\'t Be Bae (Volume 1)\"}', 'name': 'tavily_search_results_json'}, 'type': 'function'}]}, response_metadata={'finish_reason': 'tool_calls', 'model_name': 'gpt-4o-2024-08-06', 'system_fingerprint': 'fp_159d8341cc'}, id='run-776c29d8-edd9-4543-adbc-016bc19668f7-0', tool_calls=[{'name': 'retrieve_books', 'args': {'query': \"We Both Can't Be Bae (Volume 1) similar books\"}, 'id': 'call_8lvbmJqjaORGHK4mDq2srCKL', 'type': 'tool_call'}, {'name': 'tavily_search_results_json', 'args': {'query': \"books similar to We Both Can't Be Bae (Volume 1)\"}, 'id': 'call_nSaqkf30CpmaWpudpYZmnrLl', 'type': 'tool_call'}], usage_metadata={'input_tokens': 207, 'output_tokens': 73, 'total_tokens': 280, 'input_token_details': {'audio': 0, 'cache_read': 0}, 'output_token_details': {'audio': 0, 'reasoning': 0}}),\n",
       " ToolMessage(content=\"Book: we both can't be bae (volume 1)\\n\\nBook: we both can't be bae 2 (volume 2)\\n\\nBook: both sides (volume 1)\\n\\nBook: you &amp; me (volume 1)\\n\\nBook: stuck in between (bound by your love) (volume 1)\\n\\nBook: same page (bookish friends to lovers) (volume 1)\\n\\nBook: torn between two (the torn duet) (volume 1)\\n\\nBook: a boy like you (like us) (volume 1)\\n\\nBook: can't get you off my mind (somewhere, tx bachelors) (volume 1)\\n\\nBook: two can play (alphachat.com) (volume 2)\", name='retrieve_books', id='b542429a-1dc9-4a76-b148-f191753015bb', tool_call_id='call_8lvbmJqjaORGHK4mDq2srCKL'),\n",
       " ToolMessage(content='[{\"url\": \"https://www.amazon.com/We-Both-Cant-Be-Bae/product-reviews/B07GZZ9SMH\", \"content\": \"Find helpful customer reviews and review ratings for We Both Can\\'t Be Bae, Volume 1 at Amazon.com. Read honest and unbiased product reviews from our users.\"}, {\"url\": \"https://www.romance.io/books/56adee1a63515e3b737a62eb/we-both-cant-be-bae-twyla-t\", \"content\": \"romance.io ❯ Home Books Romance book finder Best of 2024 Best of 2023 Find similar books Upcoming releases This week Last week OwnVoices: Books by BIPOC authors OwnVoices: Books by LGBTQIA+ authors New contemporary romance New historical romance New fantasy romance New sci-fi romance New sizzling hot romance New dark & mafia romance New new-adult romance New romantic suspense New romantic comedy Romance book finder Upcoming releases This week Last week Books by BIPOC authors Books by LGBTQIA+ authors Bookmark Rate Book Similar books to \\'We Both Can\\'t Be Bae\\' More books like \\'We Both Can\\'t Be Bae\\' ❯ Romance book advertising ❯\\xa0\\xa0Apple Books ❯ Sign up today to start rating and saving books!\"}, {\"url\": \"https://www.amazon.ca/We-Both-Cant-Be-Bae/dp/B07H127YC9\", \"content\": \"Holiday Shop Best Sellers Prime Electronics Deals Store New Releases Home Books Fashion Music Sports & Outdoors Gift Ideas Toys & Games Computers Gift Cards Beauty & Personal Care Computer & Video Games Health & Household Automotive Audible Home Improvement Grocery Custom Products Subscribe & Save Pet Supplies Baby Sell Customer Service Kindle Books  We Both Can\\'t Be Bae, Volume 1 (Audible Audio Edition): Twyla T, Cheryl May, Twyla T.: Amazon.ca: Books\"}, {\"url\": \"https://www.amazon.com/We-Both-Cant-Be-Bae-ebook/dp/B075PKMQ39\", \"content\": \"We Both Can\\'t Be Bae: An African American Romance - Kindle edition by T., Twyla. Download it once and read it on your Kindle device, PC, phones or tablets. Use features like bookmarks, note taking and highlighting while reading We Both Can\\'t Be Bae: An African American Romance.\"}, {\"url\": \"https://www.audible.com/series/We-Both-Cant-Be-Bae-Audiobooks/B07JZT4PKK\", \"content\": \"We Both Can\\'t Be Bae Audiobooks | Audible.com About Audible 3 books in series In the prime of her new identity, Cameron met and married Malcolm within three months of dating. In the prime of her new identity, Cameron met and married Malcolm within three months of dating. Add to Wish List failed. Cameron has been playing a dangerous game balancing two baes, and she was successful with not getting caught up until she carelessly sent photos to Phebe and they got back to her husband, Malcolm. Add to Wish List failed. Add to Wish List failed. Book 1 in other series\"}, {\"url\": \"https://www.audible.com/author/Twyla-T/B01B78IUHS\", \"content\": \"Twyla T – Audio Books, Best Sellers, Author Bio | Audible.com Follow Twyla T to get new release emails from Audible and Amazon. *   ### [I\\'ll Never Love a Dope Boy Again](https://www.audible.com/pd/Ill-Never-Love-a-Dope-Boy-Again-Audiobook/B07QDB9GXC?ref_pageloadid=not_applicable&pf_rd_p=f3abc0ee-320d-4c19-8388-fcd3a8e6c3a4&pf_rd_r=9DBKEQJ1SGK0F72HRTER&pageLoadId=wPcfKyQleYH2XrAE&creativeId=73c32a9a-e504-4597-bb87-c30c58fc0204&ref=a_author_Tw_c19_lProduct_1_1) *   By: [Twyla T.](https://www.audible.com/author/Twyla-T/B01B78IUHS?ref_pageloadid=not_applicable&pf_rd_p=f3abc0ee-320d-4c19-8388-fcd3a8e6c3a4&pf_rd_r=9DBKEQJ1SGK0F72HRTER&pageLoadId=wPcfKyQleYH2XrAE&creativeId=73c32a9a-e504-4597-bb87-c30c58fc0204&ref=a_author_Tw_c19_lAuthor_1_1_1) *   Narrated by: [Cheryl May](https://www.audible.com/search?searchNarrator=Cheryl+May&ref_pageloadid=not_applicable&pf_rd_p=f3abc0ee-320d-4c19-8388-fcd3a8e6c3a4&pf_rd_r=9DBKEQJ1SGK0F72HRTER&pageLoadId=wPcfKyQleYH2XrAE&creativeId=73c32a9a-e504-4597-bb87-c30c58fc0204&ref=a_author_Tw_c19_lNarrator_1_1_1) *   Series: [I\\'ll Never Love a Dope Boy Again](https://www.audible.com/series/Ill-Never-Love-a-Dope-Boy-Again-Audiobooks/B07SM1KP3V?ref_pageloadid=not_applicable&pf_rd_p=f3abc0ee-320d-4c19-8388-fcd3a8e6c3a4&pf_rd_r=9DBKEQJ1SGK0F72HRTER&pageLoadId=wPcfKyQleYH2XrAE&creativeId=73c32a9a-e504-4597-bb87-c30c58fc0204&ref=a_author_Tw_c19_lSeries_1_1_1), Book 1 Sale price: $19.95 or 1 credit [Try for $0.00](https://www.audible.com/pd/Ill-Never-Love-a-Dope-Boy-Again-Audiobook/B07QDB9GXC?ref_pageloadid=not_applicable&pf_rd_p=f3abc0ee-320d-4c19-8388-fcd3a8e6c3a4&pf_rd_r=9DBKEQJ1SGK0F72HRTER&pageLoadId=wPcfKyQleYH2XrAE&creativeId=73c32a9a-e504-4597-bb87-c30c58fc0204&ref=a_author_Tw_c19_a_list_product-0) Series: I\\'ll Never Love a Dope Boy Again, Book 2 Sale price: $14.95 or 1 credit Series: We Both Can\\'t Be Bae, Book 1 Sale price: $19.95 or 1 credit Series: We Both Can\\'t Be Bae, Book 3 Sale price: $14.95 or 1 credit Series: We Both Can\\'t Be Bae, Book 2 Sale price: $14.95 or 1 credit\"}, {\"url\": \"https://www.amazon.com.au/We-Both-Cant-Be-Bae/dp/1523858117\", \"content\": \"To date, Twyla T. has over two dozen published books with \\\\\"We Both Can\\'t Be Bae\\\\\" being her debut novel that lit up the Urban & Romance charts. All of her series have been best-selling novels, and she is currently working on more to deliver to the wonderful readers around the world.\"}, {\"url\": \"https://www.amazon.com/We-Both-Cant-Be-Bae/dp/1523858117\", \"content\": \"To date, Twyla T. has over two dozen published books with \\\\\"We Both Can\\'t Be Bae\\\\\" being her debut novel that lit up the Urban & Romance charts. All of her series have been best-selling novels, and she is currently working on more to deliver to the wonderful readers around the world. Twyla resides in Mississippi with her beautiful daughter\"}, {\"url\": \"https://www.goodreads.com/book/show/29903995-we-both-cant-be-bae-3\", \"content\": \"I\\'m glad that the sisters (both sets) were able to repair their relationship and begin anew. I still can\\'t believe these are her first books. I look forwards to her next books and series. Twyla T has become one of my favorite authors. This book was simply awesome to read. I thoroughly enjoyed reading this series. 1 like Like Comment aisha ray\"}, {\"url\": \"https://www.amazon.com.au/We-Both-Cant-Be-Bae/dp/B07H1292CY\", \"content\": \"Now this crazy suicidal sister yes I said suicidal cause she would be committing being my sister and ratting on me to the next bihhh that I\\'m screwing her man and suppose to be my sibling like me or not I\\'m knocking her off no questions asked...Okay okay this was a great book and I must admit Twyla at first I was like Twyla wrote a book not the Twyla I know not the books I read but I have swollwed\\\\\\\\choked on my thoughts and I give you your props it was a great book...Now I\\'m finished and you got me hanging I\\'m ready for more I have so many unanswered questions and just can\\'t ....But now I\\'m about to go find me a Keith and call it a night ....Ughhhh Great Book  \"}]', name='tavily_search_results_json', id='829d2e37-fd6a-4a96-9dd8-5023927eb8aa', tool_call_id='call_nSaqkf30CpmaWpudpYZmnrLl', artifact={'query': \"books similar to We Both Can't Be Bae (Volume 1)\", 'follow_up_questions': None, 'answer': None, 'images': [], 'results': [{'title': \"We Both Can't Be Bae, Volume 1 - amazon.com\", 'url': 'https://www.amazon.com/We-Both-Cant-Be-Bae/product-reviews/B07GZZ9SMH', 'content': \"Find helpful customer reviews and review ratings for We Both Can't Be Bae, Volume 1 at Amazon.com. Read honest and unbiased product reviews from our users.\", 'score': 0.9959299, 'raw_content': None}, {'title': \"We Both Can't Be Bae by Twyla T - romance.io\", 'url': 'https://www.romance.io/books/56adee1a63515e3b737a62eb/we-both-cant-be-bae-twyla-t', 'content': \"romance.io ❯ Home Books Romance book finder Best of 2024 Best of 2023 Find similar books Upcoming releases This week Last week OwnVoices: Books by BIPOC authors OwnVoices: Books by LGBTQIA+ authors New contemporary romance New historical romance New fantasy romance New sci-fi romance New sizzling hot romance New dark & mafia romance New new-adult romance New romantic suspense New romantic comedy Romance book finder Upcoming releases This week Last week Books by BIPOC authors Books by LGBTQIA+ authors Bookmark Rate Book Similar books to 'We Both Can't Be Bae' More books like 'We Both Can't Be Bae' ❯ Romance book advertising ❯\\xa0\\xa0Apple Books ❯ Sign up today to start rating and saving books!\", 'score': 0.9958175, 'raw_content': None}, {'title': \"We Both Can't Be Bae, Volume 1 (Audible Audio Edition): Twyla T, Cheryl ...\", 'url': 'https://www.amazon.ca/We-Both-Cant-Be-Bae/dp/B07H127YC9', 'content': \"Holiday Shop Best Sellers Prime Electronics Deals Store New Releases Home Books Fashion Music Sports & Outdoors Gift Ideas Toys & Games Computers Gift Cards Beauty & Personal Care Computer & Video Games Health & Household Automotive Audible Home Improvement Grocery Custom Products Subscribe & Save Pet Supplies Baby Sell Customer Service Kindle Books  We Both Can't Be Bae, Volume 1 (Audible Audio Edition): Twyla T, Cheryl May, Twyla T.: Amazon.ca: Books\", 'score': 0.99482024, 'raw_content': None}, {'title': \"We Both Can't Be Bae: An African American Romance Kindle Edition\", 'url': 'https://www.amazon.com/We-Both-Cant-Be-Bae-ebook/dp/B075PKMQ39', 'content': \"We Both Can't Be Bae: An African American Romance - Kindle edition by T., Twyla. Download it once and read it on your Kindle device, PC, phones or tablets. Use features like bookmarks, note taking and highlighting while reading We Both Can't Be Bae: An African American Romance.\", 'score': 0.99317604, 'raw_content': None}, {'title': \"We Both Can't Be Bae - Audible.com\", 'url': 'https://www.audible.com/series/We-Both-Cant-Be-Bae-Audiobooks/B07JZT4PKK', 'content': \"We Both Can't Be Bae Audiobooks | Audible.com About Audible 3 books in series In the prime of her new identity, Cameron met and married Malcolm within three months of dating. In the prime of her new identity, Cameron met and married Malcolm within three months of dating. Add to Wish List failed. Cameron has been playing a dangerous game balancing two baes, and she was successful with not getting caught up until she carelessly sent photos to Phebe and they got back to her husband, Malcolm. Add to Wish List failed. Add to Wish List failed. Book 1 in other series\", 'score': 0.98771137, 'raw_content': None}, {'title': 'Twyla T - Audio Books, Best Sellers, Author Bio | Audible.com', 'url': 'https://www.audible.com/author/Twyla-T/B01B78IUHS', 'content': \"Twyla T – Audio Books, Best Sellers, Author Bio | Audible.com Follow Twyla T to get new release emails from Audible and Amazon. *   ### [I'll Never Love a Dope Boy Again](https://www.audible.com/pd/Ill-Never-Love-a-Dope-Boy-Again-Audiobook/B07QDB9GXC?ref_pageloadid=not_applicable&pf_rd_p=f3abc0ee-320d-4c19-8388-fcd3a8e6c3a4&pf_rd_r=9DBKEQJ1SGK0F72HRTER&pageLoadId=wPcfKyQleYH2XrAE&creativeId=73c32a9a-e504-4597-bb87-c30c58fc0204&ref=a_author_Tw_c19_lProduct_1_1) *   By: [Twyla T.](https://www.audible.com/author/Twyla-T/B01B78IUHS?ref_pageloadid=not_applicable&pf_rd_p=f3abc0ee-320d-4c19-8388-fcd3a8e6c3a4&pf_rd_r=9DBKEQJ1SGK0F72HRTER&pageLoadId=wPcfKyQleYH2XrAE&creativeId=73c32a9a-e504-4597-bb87-c30c58fc0204&ref=a_author_Tw_c19_lAuthor_1_1_1) *   Narrated by: [Cheryl May](https://www.audible.com/search?searchNarrator=Cheryl+May&ref_pageloadid=not_applicable&pf_rd_p=f3abc0ee-320d-4c19-8388-fcd3a8e6c3a4&pf_rd_r=9DBKEQJ1SGK0F72HRTER&pageLoadId=wPcfKyQleYH2XrAE&creativeId=73c32a9a-e504-4597-bb87-c30c58fc0204&ref=a_author_Tw_c19_lNarrator_1_1_1) *   Series: [I'll Never Love a Dope Boy Again](https://www.audible.com/series/Ill-Never-Love-a-Dope-Boy-Again-Audiobooks/B07SM1KP3V?ref_pageloadid=not_applicable&pf_rd_p=f3abc0ee-320d-4c19-8388-fcd3a8e6c3a4&pf_rd_r=9DBKEQJ1SGK0F72HRTER&pageLoadId=wPcfKyQleYH2XrAE&creativeId=73c32a9a-e504-4597-bb87-c30c58fc0204&ref=a_author_Tw_c19_lSeries_1_1_1), Book 1 Sale price: $19.95 or 1 credit [Try for $0.00](https://www.audible.com/pd/Ill-Never-Love-a-Dope-Boy-Again-Audiobook/B07QDB9GXC?ref_pageloadid=not_applicable&pf_rd_p=f3abc0ee-320d-4c19-8388-fcd3a8e6c3a4&pf_rd_r=9DBKEQJ1SGK0F72HRTER&pageLoadId=wPcfKyQleYH2XrAE&creativeId=73c32a9a-e504-4597-bb87-c30c58fc0204&ref=a_author_Tw_c19_a_list_product-0) Series: I'll Never Love a Dope Boy Again, Book 2 Sale price: $14.95 or 1 credit Series: We Both Can't Be Bae, Book 1 Sale price: $19.95 or 1 credit Series: We Both Can't Be Bae, Book 3 Sale price: $14.95 or 1 credit Series: We Both Can't Be Bae, Book 2 Sale price: $14.95 or 1 credit\", 'score': 0.98155975, 'raw_content': None}, {'title': \"We Both Can't Be Bae: 1 : T, Twyla: Amazon.com.au: Books\", 'url': 'https://www.amazon.com.au/We-Both-Cant-Be-Bae/dp/1523858117', 'content': 'To date, Twyla T. has over two dozen published books with \"We Both Can\\'t Be Bae\" being her debut novel that lit up the Urban & Romance charts. All of her series have been best-selling novels, and she is currently working on more to deliver to the wonderful readers around the world.', 'score': 0.9789554, 'raw_content': None}, {'title': \"We Both Can't Be Bae: T, Twyla: 9781523858118: Amazon.com: Books\", 'url': 'https://www.amazon.com/We-Both-Cant-Be-Bae/dp/1523858117', 'content': 'To date, Twyla T. has over two dozen published books with \"We Both Can\\'t Be Bae\" being her debut novel that lit up the Urban & Romance charts. All of her series have been best-selling novels, and she is currently working on more to deliver to the wonderful readers around the world. Twyla resides in Mississippi with her beautiful daughter', 'score': 0.97737074, 'raw_content': None}, {'title': \"We Both Cant Be Bae 3 (We Both Can't Be Bae) by Twyla T - Goodreads\", 'url': 'https://www.goodreads.com/book/show/29903995-we-both-cant-be-bae-3', 'content': \"I'm glad that the sisters (both sets) were able to repair their relationship and begin anew. I still can't believe these are her first books. I look forwards to her next books and series. Twyla T has become one of my favorite authors. This book was simply awesome to read. I thoroughly enjoyed reading this series. 1 like Like Comment aisha ray\", 'score': 0.087563835, 'raw_content': None}, {'title': \"We Both Can't Be Bae, Volume 1 (Audio Download): Twyla T, Cheryl May ...\", 'url': 'https://www.amazon.com.au/We-Both-Cant-Be-Bae/dp/B07H1292CY', 'content': \"Now this crazy suicidal sister yes I said suicidal cause she would be committing being my sister and ratting on me to the next bihhh that I'm screwing her man and suppose to be my sibling like me or not I'm knocking her off no questions asked...Okay okay this was a great book and I must admit Twyla at first I was like Twyla wrote a book not the Twyla I know not the books I read but I have swollwed\\\\choked on my thoughts and I give you your props it was a great book...Now I'm finished and you got me hanging I'm ready for more I have so many unanswered questions and just can't ....But now I'm about to go find me a Keith and call it a night ....Ughhhh Great Book  \", 'score': 0.0705596, 'raw_content': None}], 'response_time': 2.35}),\n",
       " AIMessage(content='Based on your interest in \"We Both Can\\'t Be Bae (Volume 1)\" and its dramatic storyline, here are three book recommendations that you might enjoy:\\n\\n1. **\"We Both Can\\'t Be Bae 2 (Volume 2)\" by Twyla T.** - If you enjoyed the first volume, continuing with the sequel might be a great choice to see how the drama unfolds.\\n\\n2. **\"Both Sides (Volume 1)\"** - This book promises a similar level of drama and intrigue, exploring complex relationships and emotional entanglements.\\n\\n3. **\"Stuck in Between (Bound by Your Love) (Volume 1)\"** - Dive into another dramatic tale of love and conflict, perfect for readers who enjoy stories filled with tension and romance.\\n\\nThese books should align well with your taste for dramatic and engaging narratives. Enjoy your reading!', additional_kwargs={}, response_metadata={'finish_reason': 'stop', 'model_name': 'gpt-4o-2024-08-06', 'system_fingerprint': 'fp_159d8341cc'}, id='run-3ba9e0e3-c7e5-4527-909e-3e1da69c66ad-0', usage_metadata={'input_tokens': 5460, 'output_tokens': 175, 'total_tokens': 5635, 'input_token_details': {'audio': 0, 'cache_read': 0}, 'output_token_details': {'audio': 0, 'reasoning': 0}})]"
      ]
     },
     "execution_count": 26,
     "metadata": {},
     "output_type": "execute_result"
    }
   ],
   "source": [
    "await recommend_graph(graph, messages[:1], show_cost=True)"
   ]
  },
  {
   "cell_type": "markdown",
   "metadata": {},
   "source": [
    "### Multi agent\n",
    "\n",
    "Here we implement our first Multi Agent system. The first agent is specialized in searching data from the internet while the second one takes the role of a librarian to \"map\" all the searched data to books in the current catalog."
   ]
  },
  {
   "cell_type": "code",
   "execution_count": 27,
   "metadata": {},
   "outputs": [],
   "source": [
    "from langchain_core.messages import (\n",
    "    BaseMessage,\n",
    "    HumanMessage,\n",
    "    ToolMessage,\n",
    ")\n",
    "from langchain_core.prompts import ChatPromptTemplate, MessagesPlaceholder\n",
    "\n",
    "from langgraph.graph import END, StateGraph, START\n",
    "\n",
    "\n",
    "def create_agent(llm, tools, system_message: str):\n",
    "    \"\"\"Create an agent.\"\"\"\n",
    "    prompt = ChatPromptTemplate.from_messages(\n",
    "        [\n",
    "            (\n",
    "                \"system\",\n",
    "                \"You are a helpful AI assistant, collaborating with other assistants.\"\n",
    "                \" Use the provided tools to progress towards answering the question.\"\n",
    "                \" If you are unable to fully answer, that's OK, another assistant with different tools \"\n",
    "                \" will help where you left off. Execute what you can to make progress.\"\n",
    "                \" If you or any of the other assistants have the final answer or deliverable,\"\n",
    "                \" prefix your response with FINAL ANSWER so the team knows to stop.\"\n",
    "                \" You have access to the following tools: {tool_names}.\\n{system_message}\",\n",
    "            ),\n",
    "            MessagesPlaceholder(variable_name=\"messages\"),\n",
    "        ]\n",
    "    )\n",
    "    prompt = prompt.partial(system_message=system_message)\n",
    "    prompt = prompt.partial(tool_names=\", \".join([tool.name for tool in tools]))\n",
    "    return prompt | llm.bind_tools(tools)"
   ]
  },
  {
   "cell_type": "code",
   "execution_count": 28,
   "metadata": {},
   "outputs": [],
   "source": [
    "import operator\n",
    "from typing import Annotated, Sequence\n",
    "from typing_extensions import TypedDict\n",
    "\n",
    "from langchain_openai import ChatOpenAI\n",
    "\n",
    "class AgentState(TypedDict):\n",
    "    messages: Annotated[Sequence[BaseMessage], operator.add]\n",
    "    sender: str"
   ]
  },
  {
   "cell_type": "code",
   "execution_count": 29,
   "metadata": {},
   "outputs": [],
   "source": [
    "import functools\n",
    "\n",
    "from langchain_core.messages import AIMessage\n",
    "\n",
    "# Helper function to create a node for a given agent\n",
    "def agent_node(state, agent, name):\n",
    "    result = agent.invoke(state)\n",
    "    # We convert the agent output into a format that is suitable to append to the global state\n",
    "    if isinstance(result, ToolMessage):\n",
    "        pass\n",
    "    else:\n",
    "        result = AIMessage(**result.dict(exclude={\"type\", \"name\"}), name=name)\n",
    "    return {\n",
    "        \"messages\": [result],\n",
    "        # Since we have a strict workflow, we can\n",
    "        # track the sender so we know who to pass to next.\n",
    "        \"sender\": name,\n",
    "    }\n",
    "\n",
    "\n",
    "llm = ChatOpenAI(model=\"gpt-4o\")\n",
    "\n",
    "# Research agent and node\n",
    "research_agent = create_agent(\n",
    "    llm,\n",
    "    [tavily_tool],\n",
    "    system_message=\"You should provide accurate data for the librarian_agent to use.\",\n",
    ")\n",
    "research_node = functools.partial(agent_node, agent=research_agent, name=\"research_node\")\n",
    "\n",
    "librarian_agent = create_agent(\n",
    "    llm,\n",
    "    [books_retriever],\n",
    "    system_message=\"You are a conversational recommender system specialized in books. Recommend 3 books that align with the user's interests.\",\n",
    ")\n",
    "\n",
    "librarian_node = functools.partial(agent_node, agent=librarian_agent, name=\"librarian_node\")"
   ]
  },
  {
   "cell_type": "code",
   "execution_count": 30,
   "metadata": {},
   "outputs": [],
   "source": [
    "from langgraph.prebuilt import ToolNode\n",
    "\n",
    "tools = [tavily_tool, books_retriever]\n",
    "tool_node = ToolNode(tools)"
   ]
  },
  {
   "cell_type": "code",
   "execution_count": 31,
   "metadata": {},
   "outputs": [],
   "source": [
    "from typing import Literal\n",
    "\n",
    "\n",
    "def router(state):\n",
    "    # This is the router\n",
    "    messages = state[\"messages\"]\n",
    "    last_message = messages[-1]\n",
    "    if last_message.tool_calls:\n",
    "        # The previous agent is invoking a tool\n",
    "        return \"call_tool\"\n",
    "    if \"FINAL ANSWER\" in last_message.content:\n",
    "        # Any agent decided the work is done\n",
    "        return END\n",
    "    return \"continue\""
   ]
  },
  {
   "cell_type": "code",
   "execution_count": 32,
   "metadata": {},
   "outputs": [],
   "source": [
    "workflow = StateGraph(AgentState)\n",
    "\n",
    "workflow.add_node(\"research_node\", research_node)\n",
    "workflow.add_node(\"librarian_node\", librarian_node)\n",
    "workflow.add_node(\"call_tool\", tool_node)\n",
    "\n",
    "workflow.add_conditional_edges(\n",
    "    \"research_node\",\n",
    "    router,\n",
    "    {\"continue\": \"librarian_node\", \"call_tool\": \"call_tool\", END: END},\n",
    ")\n",
    "workflow.add_conditional_edges(\n",
    "    \"librarian_node\",\n",
    "    router,\n",
    "    {\"continue\": \"research_node\", \"call_tool\": \"call_tool\", END: END},\n",
    ")\n",
    "\n",
    "workflow.add_conditional_edges(\n",
    "    \"call_tool\",\n",
    "    # Each agent node updates the 'sender' field\n",
    "    # the tool calling node does not, meaning\n",
    "    # this edge will route back to the original agent\n",
    "    # who invoked the tool\n",
    "    lambda x: x[\"sender\"],\n",
    "    {\n",
    "        \"research_node\": \"research_node\",\n",
    "        \"librarian_node\": \"librarian_node\",\n",
    "    },\n",
    ")\n",
    "workflow.add_edge(START, \"research_node\")\n",
    "graph = workflow.compile()"
   ]
  },
  {
   "cell_type": "code",
   "execution_count": 33,
   "metadata": {},
   "outputs": [
    {
     "data": {
      "image/jpeg": "[encoded data removed]",
      "text/plain": [
       "<IPython.core.display.Image object>"
      ]
     },
     "metadata": {},
     "output_type": "display_data"
    }
   ],
   "source": [
    "from IPython.display import Image, display\n",
    "\n",
    "try:\n",
    "    display(Image(graph.get_graph(xray=True).draw_mermaid_png()))\n",
    "except Exception:\n",
    "    # This requires some extra dependencies and is optional\n",
    "    pass"
   ]
  },
  {
   "cell_type": "code",
   "execution_count": 34,
   "metadata": {},
   "outputs": [],
   "source": [
    "messages = get_messages(0, dialogues)"
   ]
  },
  {
   "cell_type": "code",
   "execution_count": 35,
   "metadata": {},
   "outputs": [
    {
     "name": "stdout",
     "output_type": "stream",
     "text": [
      "Cost: $0.0017770499999999999 USD\n"
     ]
    },
    {
     "data": {
      "text/plain": [
       "[HumanMessage(content='Hello! I recently read \"We Both Can\\'t Be Bae (Volume 1)\" and I really enjoyed it. The drama in the story kept me hooked. Can you recommend another book similar to it?', additional_kwargs={}, response_metadata={}),\n",
       " AIMessage(content='', additional_kwargs={'tool_calls': [{'id': 'call_r541umlKxmXj1jRuOUtE9sAa', 'function': {'arguments': '{\"query\":\"books similar to We Both Can\\'t Be Bae Volume 1\"}', 'name': 'tavily_search_results_json'}, 'type': 'function'}], 'refusal': None}, response_metadata={'token_usage': {'completion_tokens': 29, 'prompt_tokens': 207, 'total_tokens': 236, 'completion_tokens_details': {'audio_tokens': 0, 'reasoning_tokens': 0, 'accepted_prediction_tokens': 0, 'rejected_prediction_tokens': 0}, 'prompt_tokens_details': {'audio_tokens': 0, 'cached_tokens': 0}}, 'model_name': 'gpt-4o-2024-08-06', 'system_fingerprint': 'fp_45cf54deae', 'finish_reason': 'tool_calls', 'logprobs': None}, name='research_node', id='run-2e405717-1fb9-4300-93f2-d0a04731234c-0', tool_calls=[{'name': 'tavily_search_results_json', 'args': {'query': \"books similar to We Both Can't Be Bae Volume 1\"}, 'id': 'call_r541umlKxmXj1jRuOUtE9sAa', 'type': 'tool_call'}], usage_metadata={'input_tokens': 207, 'output_tokens': 29, 'total_tokens': 236, 'input_token_details': {'audio': 0, 'cache_read': 0}, 'output_token_details': {'audio': 0, 'reasoning': 0}}),\n",
       " ToolMessage(content='[{\"url\": \"https://www.amazon.com/We-Both-Cant-Be-Bae/product-reviews/B07GZZ9SMH\", \"content\": \"Find helpful customer reviews and review ratings for We Both Can\\'t Be Bae, Volume 1 at Amazon.com. Read honest and unbiased product reviews from our users.\"}, {\"url\": \"https://www.romance.io/books/56adee1a63515e3b737a62eb/we-both-cant-be-bae-twyla-t\", \"content\": \"romance.io ❯ Home Books Romance book finder Best of 2024 Best of 2023 Find similar books Upcoming releases This week Last week OwnVoices: Books by BIPOC authors OwnVoices: Books by LGBTQIA+ authors New contemporary romance New historical romance New fantasy romance New sci-fi romance New sizzling hot romance New dark & mafia romance New new-adult romance New romantic suspense New romantic comedy Romance book finder Upcoming releases This week Last week Books by BIPOC authors Books by LGBTQIA+ authors Bookmark Rate Book Similar books to \\'We Both Can\\'t Be Bae\\' More books like \\'We Both Can\\'t Be Bae\\' ❯ Romance book advertising ❯\\xa0\\xa0Apple Books ❯ Sign up today to start rating and saving books!\"}, {\"url\": \"https://www.amazon.ca/We-Both-Cant-Be-Bae/dp/B07H127YC9\", \"content\": \"Holiday Shop Best Sellers Prime Electronics Deals Store New Releases Home Books Fashion Music Sports & Outdoors Gift Ideas Toys & Games Computers Gift Cards Beauty & Personal Care Computer & Video Games Health & Household Automotive Audible Home Improvement Grocery Custom Products Subscribe & Save Pet Supplies Baby Sell Customer Service Kindle Books  We Both Can\\'t Be Bae, Volume 1 (Audible Audio Edition): Twyla T, Cheryl May, Twyla T.: Amazon.ca: Books\"}, {\"url\": \"https://authortwylat.com/books\", \"content\": \"### www.authortwylat.com www.authortwylat.comwww.authortwylat.comwww.authortwylat.com ### www.authortwylat.com www.authortwylat.comwww.authortwylat.comwww.authortwylat.com We Both Can\\'t Be Bae We Both Can\\'t Be Bae Vol. 1 We Both Can\\'t Be Bae Vol. 1 We Both Can\\'t Be Bae Vol. 1 We Both Can\\'t Be Bae Vol. 2 We Both Can\\'t Be Bae Vol. 1 We Both Can\\'t Be Bae Vol. 1 We Both Can\\'t Be Bae Vol. 3 We Both Can\\'t Be Bae Vol. 1 We Both Can\\'t Be Bae Vol. 3 Christmas In The Trap: Atlanta Style Christmas In The Trap: Atlanta Style Torn Between Bae & The Thug Next Door 1 & 2 Torn Between Bae And The Thug Next Door My Christmas Bae In Atlanta My Christmas Bae In Atlanta Copyright © 2023 authortwylat - All Rights Reserved.\"}, {\"url\": \"https://www.audible.com/author/Twyla-T/B01B78IUHS\", \"content\": \"Twyla T – Audio Books, Best Sellers, Author Bio | Audible.com Follow Twyla T to get new release emails from Audible and Amazon. *   ### [I\\'ll Never Love a Dope Boy Again](https://www.audible.com/pd/Ill-Never-Love-a-Dope-Boy-Again-Audiobook/B07QDB9GXC?ref_pageloadid=not_applicable&pf_rd_p=f3abc0ee-320d-4c19-8388-fcd3a8e6c3a4&pf_rd_r=9DBKEQJ1SGK0F72HRTER&pageLoadId=wPcfKyQleYH2XrAE&creativeId=73c32a9a-e504-4597-bb87-c30c58fc0204&ref=a_author_Tw_c19_lProduct_1_1) *   By: [Twyla T.](https://www.audible.com/author/Twyla-T/B01B78IUHS?ref_pageloadid=not_applicable&pf_rd_p=f3abc0ee-320d-4c19-8388-fcd3a8e6c3a4&pf_rd_r=9DBKEQJ1SGK0F72HRTER&pageLoadId=wPcfKyQleYH2XrAE&creativeId=73c32a9a-e504-4597-bb87-c30c58fc0204&ref=a_author_Tw_c19_lAuthor_1_1_1) *   Narrated by: [Cheryl May](https://www.audible.com/search?searchNarrator=Cheryl+May&ref_pageloadid=not_applicable&pf_rd_p=f3abc0ee-320d-4c19-8388-fcd3a8e6c3a4&pf_rd_r=9DBKEQJ1SGK0F72HRTER&pageLoadId=wPcfKyQleYH2XrAE&creativeId=73c32a9a-e504-4597-bb87-c30c58fc0204&ref=a_author_Tw_c19_lNarrator_1_1_1) *   Series: [I\\'ll Never Love a Dope Boy Again](https://www.audible.com/series/Ill-Never-Love-a-Dope-Boy-Again-Audiobooks/B07SM1KP3V?ref_pageloadid=not_applicable&pf_rd_p=f3abc0ee-320d-4c19-8388-fcd3a8e6c3a4&pf_rd_r=9DBKEQJ1SGK0F72HRTER&pageLoadId=wPcfKyQleYH2XrAE&creativeId=73c32a9a-e504-4597-bb87-c30c58fc0204&ref=a_author_Tw_c19_lSeries_1_1_1), Book 1 Sale price: $19.95 or 1 credit [Try for $0.00](https://www.audible.com/pd/Ill-Never-Love-a-Dope-Boy-Again-Audiobook/B07QDB9GXC?ref_pageloadid=not_applicable&pf_rd_p=f3abc0ee-320d-4c19-8388-fcd3a8e6c3a4&pf_rd_r=9DBKEQJ1SGK0F72HRTER&pageLoadId=wPcfKyQleYH2XrAE&creativeId=73c32a9a-e504-4597-bb87-c30c58fc0204&ref=a_author_Tw_c19_a_list_product-0) Series: I\\'ll Never Love a Dope Boy Again, Book 2 Sale price: $14.95 or 1 credit Series: We Both Can\\'t Be Bae, Book 1 Sale price: $19.95 or 1 credit Series: We Both Can\\'t Be Bae, Book 3 Sale price: $14.95 or 1 credit Series: We Both Can\\'t Be Bae, Book 2 Sale price: $14.95 or 1 credit\"}, {\"url\": \"https://www.audible.com/series/We-Both-Cant-Be-Bae-Audiobooks/B07JZT4PKK\", \"content\": \"We Both Can\\'t Be Bae Audiobooks | Audible.com About Audible 3 books in series In the prime of her new identity, Cameron met and married Malcolm within three months of dating. In the prime of her new identity, Cameron met and married Malcolm within three months of dating. Add to Wish List failed. Cameron has been playing a dangerous game balancing two baes, and she was successful with not getting caught up until she carelessly sent photos to Phebe and they got back to her husband, Malcolm. Add to Wish List failed. Add to Wish List failed. Book 1 in other series\"}, {\"url\": \"https://www.amazon.com/We-Both-Cant-Be-Bae/dp/1523858117\", \"content\": \"To date, Twyla T. has over two dozen published books with \\\\\"We Both Can\\'t Be Bae\\\\\" being her debut novel that lit up the Urban & Romance charts. All of her series have been best-selling novels, and she is currently working on more to deliver to the wonderful readers around the world. Twyla resides in Mississippi with her beautiful daughter\"}, {\"url\": \"https://www.amazon.com/We-Both-Cant-Be-Bae-ebook/dp/B075PKMQ39\", \"content\": \"To date, Twyla T. has over two dozen published books with \\\\\"We Both Can\\'t Be Bae\\\\\" being her debut novel that lit up the Urban & Romance charts. All of her series have been best-selling novels, and she is currently working on more to deliver to the wonderful readers around the world. Twyla resides in Mississippi with her beautiful daughter\"}, {\"url\": \"https://www.amazon.ca/We-Both-Cant-Be-Bae-ebook/dp/B075PKMQ39\", \"content\": \"To date, Twyla T. has over two dozen published books with \\\\\"We Both Can\\'t Be Bae\\\\\" being her debut novel that lit up the Urban & Romance charts. All of her series have been best-selling novels, and she is currently working on more to deliver to the wonderful readers around the world. Twyla resides in Mississippi with her beautiful daughter\"}, {\"url\": \"https://www.indigo.ca/en-ca/we-both-cant-be-bae/9781523858118.html\", \"content\": \"We Both Can\\'t Be Bae Book By Twyla T, (\\'tp\\') | Indigo Kids\\' Christmas Books Indigo Book Club Collection Books New in Fiction New in Non-Fiction New in Kids Fiction Kids\\' Books There\\'s a Book for That! Fiction New in Non-Fiction New & Hot Teen Books Kids\\' Books New in Kids\\' Books Best Kids\\' Books of 2024 Kids\\' Books Under $15 New in Stationery & Gifts Books Kids\\' Books Books Fiction Paperback $15.95 *Valid September 30, 2024 - December 25, 2024 at Canadian stores and at indigo.ca, while quantities last, with $50.00 or more pre-tax purchase of eligible product(s), after discounts and plum points redemptions. Minimum purchase amount excludes gift cards, plum+ memberships, Love of Reading products/donations, and shipping costs. Store Listings\"}]', name='tavily_search_results_json', tool_call_id='call_r541umlKxmXj1jRuOUtE9sAa', artifact={'query': \"books similar to We Both Can't Be Bae Volume 1\", 'follow_up_questions': None, 'answer': None, 'images': [], 'results': [{'title': \"Amazon.com: Customer reviews: We Both Can't Be Bae, Volume 1\", 'url': 'https://www.amazon.com/We-Both-Cant-Be-Bae/product-reviews/B07GZZ9SMH', 'content': \"Find helpful customer reviews and review ratings for We Both Can't Be Bae, Volume 1 at Amazon.com. Read honest and unbiased product reviews from our users.\", 'score': 0.99378294, 'raw_content': None}, {'title': \"We Both Can't Be Bae by Twyla T - romance.io\", 'url': 'https://www.romance.io/books/56adee1a63515e3b737a62eb/we-both-cant-be-bae-twyla-t', 'content': \"romance.io ❯ Home Books Romance book finder Best of 2024 Best of 2023 Find similar books Upcoming releases This week Last week OwnVoices: Books by BIPOC authors OwnVoices: Books by LGBTQIA+ authors New contemporary romance New historical romance New fantasy romance New sci-fi romance New sizzling hot romance New dark & mafia romance New new-adult romance New romantic suspense New romantic comedy Romance book finder Upcoming releases This week Last week Books by BIPOC authors Books by LGBTQIA+ authors Bookmark Rate Book Similar books to 'We Both Can't Be Bae' More books like 'We Both Can't Be Bae' ❯ Romance book advertising ❯\\xa0\\xa0Apple Books ❯ Sign up today to start rating and saving books!\", 'score': 0.9930153, 'raw_content': None}, {'title': \"We Both Can't Be Bae, Volume 1 (Audible Audio Edition): Twyla T, Cheryl ...\", 'url': 'https://www.amazon.ca/We-Both-Cant-Be-Bae/dp/B07H127YC9', 'content': \"Holiday Shop Best Sellers Prime Electronics Deals Store New Releases Home Books Fashion Music Sports & Outdoors Gift Ideas Toys & Games Computers Gift Cards Beauty & Personal Care Computer & Video Games Health & Household Automotive Audible Home Improvement Grocery Custom Products Subscribe & Save Pet Supplies Baby Sell Customer Service Kindle Books  We Both Can't Be Bae, Volume 1 (Audible Audio Edition): Twyla T, Cheryl May, Twyla T.: Amazon.ca: Books\", 'score': 0.99271095, 'raw_content': None}, {'title': \"We Both Can't Be Bae - authortwylat\", 'url': 'https://authortwylat.com/books', 'content': \"### www.authortwylat.com www.authortwylat.comwww.authortwylat.comwww.authortwylat.com ### www.authortwylat.com www.authortwylat.comwww.authortwylat.comwww.authortwylat.com We Both Can't Be Bae We Both Can't Be Bae Vol. 1 We Both Can't Be Bae Vol. 1 We Both Can't Be Bae Vol. 1 We Both Can't Be Bae Vol. 2 We Both Can't Be Bae Vol. 1 We Both Can't Be Bae Vol. 1 We Both Can't Be Bae Vol. 3 We Both Can't Be Bae Vol. 1 We Both Can't Be Bae Vol. 3 Christmas In The Trap: Atlanta Style Christmas In The Trap: Atlanta Style Torn Between Bae & The Thug Next Door 1 & 2 Torn Between Bae And The Thug Next Door My Christmas Bae In Atlanta My Christmas Bae In Atlanta Copyright © 2023 authortwylat - All Rights Reserved.\", 'score': 0.98327893, 'raw_content': None}, {'title': 'Twyla T - Audio Books, Best Sellers, Author Bio | Audible.com', 'url': 'https://www.audible.com/author/Twyla-T/B01B78IUHS', 'content': \"Twyla T – Audio Books, Best Sellers, Author Bio | Audible.com Follow Twyla T to get new release emails from Audible and Amazon. *   ### [I'll Never Love a Dope Boy Again](https://www.audible.com/pd/Ill-Never-Love-a-Dope-Boy-Again-Audiobook/B07QDB9GXC?ref_pageloadid=not_applicable&pf_rd_p=f3abc0ee-320d-4c19-8388-fcd3a8e6c3a4&pf_rd_r=9DBKEQJ1SGK0F72HRTER&pageLoadId=wPcfKyQleYH2XrAE&creativeId=73c32a9a-e504-4597-bb87-c30c58fc0204&ref=a_author_Tw_c19_lProduct_1_1) *   By: [Twyla T.](https://www.audible.com/author/Twyla-T/B01B78IUHS?ref_pageloadid=not_applicable&pf_rd_p=f3abc0ee-320d-4c19-8388-fcd3a8e6c3a4&pf_rd_r=9DBKEQJ1SGK0F72HRTER&pageLoadId=wPcfKyQleYH2XrAE&creativeId=73c32a9a-e504-4597-bb87-c30c58fc0204&ref=a_author_Tw_c19_lAuthor_1_1_1) *   Narrated by: [Cheryl May](https://www.audible.com/search?searchNarrator=Cheryl+May&ref_pageloadid=not_applicable&pf_rd_p=f3abc0ee-320d-4c19-8388-fcd3a8e6c3a4&pf_rd_r=9DBKEQJ1SGK0F72HRTER&pageLoadId=wPcfKyQleYH2XrAE&creativeId=73c32a9a-e504-4597-bb87-c30c58fc0204&ref=a_author_Tw_c19_lNarrator_1_1_1) *   Series: [I'll Never Love a Dope Boy Again](https://www.audible.com/series/Ill-Never-Love-a-Dope-Boy-Again-Audiobooks/B07SM1KP3V?ref_pageloadid=not_applicable&pf_rd_p=f3abc0ee-320d-4c19-8388-fcd3a8e6c3a4&pf_rd_r=9DBKEQJ1SGK0F72HRTER&pageLoadId=wPcfKyQleYH2XrAE&creativeId=73c32a9a-e504-4597-bb87-c30c58fc0204&ref=a_author_Tw_c19_lSeries_1_1_1), Book 1 Sale price: $19.95 or 1 credit [Try for $0.00](https://www.audible.com/pd/Ill-Never-Love-a-Dope-Boy-Again-Audiobook/B07QDB9GXC?ref_pageloadid=not_applicable&pf_rd_p=f3abc0ee-320d-4c19-8388-fcd3a8e6c3a4&pf_rd_r=9DBKEQJ1SGK0F72HRTER&pageLoadId=wPcfKyQleYH2XrAE&creativeId=73c32a9a-e504-4597-bb87-c30c58fc0204&ref=a_author_Tw_c19_a_list_product-0) Series: I'll Never Love a Dope Boy Again, Book 2 Sale price: $14.95 or 1 credit Series: We Both Can't Be Bae, Book 1 Sale price: $19.95 or 1 credit Series: We Both Can't Be Bae, Book 3 Sale price: $14.95 or 1 credit Series: We Both Can't Be Bae, Book 2 Sale price: $14.95 or 1 credit\", 'score': 0.9832145, 'raw_content': None}, {'title': \"We Both Can't Be Bae Audiobooks - Audible.com\", 'url': 'https://www.audible.com/series/We-Both-Cant-Be-Bae-Audiobooks/B07JZT4PKK', 'content': \"We Both Can't Be Bae Audiobooks | Audible.com About Audible 3 books in series In the prime of her new identity, Cameron met and married Malcolm within three months of dating. In the prime of her new identity, Cameron met and married Malcolm within three months of dating. Add to Wish List failed. Cameron has been playing a dangerous game balancing two baes, and she was successful with not getting caught up until she carelessly sent photos to Phebe and they got back to her husband, Malcolm. Add to Wish List failed. Add to Wish List failed. Book 1 in other series\", 'score': 0.9809125, 'raw_content': None}, {'title': \"We Both Can't Be Bae: T, Twyla: 9781523858118: Amazon.com: Books\", 'url': 'https://www.amazon.com/We-Both-Cant-Be-Bae/dp/1523858117', 'content': 'To date, Twyla T. has over two dozen published books with \"We Both Can\\'t Be Bae\" being her debut novel that lit up the Urban & Romance charts. All of her series have been best-selling novels, and she is currently working on more to deliver to the wonderful readers around the world. Twyla resides in Mississippi with her beautiful daughter', 'score': 0.9623913, 'raw_content': None}, {'title': \"We Both Can't Be Bae: An African American Romance Kindle Edition\", 'url': 'https://www.amazon.com/We-Both-Cant-Be-Bae-ebook/dp/B075PKMQ39', 'content': 'To date, Twyla T. has over two dozen published books with \"We Both Can\\'t Be Bae\" being her debut novel that lit up the Urban & Romance charts. All of her series have been best-selling novels, and she is currently working on more to deliver to the wonderful readers around the world. Twyla resides in Mississippi with her beautiful daughter', 'score': 0.9623913, 'raw_content': None}, {'title': \"We Both Can't Be Bae: An African American Romance - Amazon.ca\", 'url': 'https://www.amazon.ca/We-Both-Cant-Be-Bae-ebook/dp/B075PKMQ39', 'content': 'To date, Twyla T. has over two dozen published books with \"We Both Can\\'t Be Bae\" being her debut novel that lit up the Urban & Romance charts. All of her series have been best-selling novels, and she is currently working on more to deliver to the wonderful readers around the world. Twyla resides in Mississippi with her beautiful daughter', 'score': 0.9623913, 'raw_content': None}, {'title': \"We Both Can't Be Bae | Indigo\", 'url': 'https://www.indigo.ca/en-ca/we-both-cant-be-bae/9781523858118.html', 'content': \"We Both Can't Be Bae Book By Twyla T, ('tp') | Indigo Kids' Christmas Books Indigo Book Club Collection Books New in Fiction New in Non-Fiction New in Kids Fiction Kids' Books There's a Book for That! Fiction New in Non-Fiction New & Hot Teen Books Kids' Books New in Kids' Books Best Kids' Books of 2024 Kids' Books Under $15 New in Stationery & Gifts Books Kids' Books Books Fiction Paperback $15.95 *Valid September 30, 2024 - December 25, 2024 at Canadian stores and at indigo.ca, while quantities last, with $50.00 or more pre-tax purchase of eligible product(s), after discounts and plum points redemptions. Minimum purchase amount excludes gift cards, plum+ memberships, Love of Reading products/donations, and shipping costs. Store Listings\", 'score': 0.9559813, 'raw_content': None}], 'response_time': 3.12}),\n",
       " AIMessage(content='Based on the search results, a book that might capture the same drama and urban romance vibe as \"We Both Can\\'t Be Bae (Volume 1)\" is \"I\\'ll Never Love a Dope Boy Again\" by Twyla T. This book is part of a series and shares a similar urban romance theme, which might resonate with the elements you enjoyed in \"We Both Can\\'t Be Bae.\" You can find this book on Audible. \\n\\nIf you\\'d like more recommendations or details, let me know!', additional_kwargs={'refusal': None}, response_metadata={'token_usage': {'completion_tokens': 101, 'prompt_tokens': 2465, 'total_tokens': 2566, 'completion_tokens_details': {'audio_tokens': 0, 'reasoning_tokens': 0, 'accepted_prediction_tokens': 0, 'rejected_prediction_tokens': 0}, 'prompt_tokens_details': {'audio_tokens': 0, 'cached_tokens': 0}}, 'model_name': 'gpt-4o-2024-08-06', 'system_fingerprint': 'fp_45cf54deae', 'finish_reason': 'stop', 'logprobs': None}, name='research_node', id='run-7f561b36-603f-4d75-b39d-e5565a3a34b7-0', usage_metadata={'input_tokens': 2465, 'output_tokens': 101, 'total_tokens': 2566, 'input_token_details': {'audio': 0, 'cache_read': 0}, 'output_token_details': {'audio': 0, 'reasoning': 0}}),\n",
       " AIMessage(content='', additional_kwargs={'tool_calls': [{'id': 'call_QxEoeJzI4a5n4CXSFbSKSnP2', 'function': {'arguments': '{\"query\": \"I\\'ll Never Love a Dope Boy Again by Twyla T.\"}', 'name': 'retrieve_books'}, 'type': 'function'}, {'id': 'call_GWhwdwtvuGYSeiqBs5pNwMzK', 'function': {'arguments': '{\"query\": \"Torn Between Bae & The Thug Next Door by Twyla T.\"}', 'name': 'retrieve_books'}, 'type': 'function'}, {'id': 'call_8s8A9A1I9NwxjTOkHIwqSUQv', 'function': {'arguments': '{\"query\": \"My Christmas Bae In Atlanta by Twyla T.\"}', 'name': 'retrieve_books'}, 'type': 'function'}], 'refusal': None}, response_metadata={'token_usage': {'completion_tokens': 95, 'prompt_tokens': 2578, 'total_tokens': 2673, 'completion_tokens_details': {'audio_tokens': 0, 'reasoning_tokens': 0, 'accepted_prediction_tokens': 0, 'rejected_prediction_tokens': 0}, 'prompt_tokens_details': {'audio_tokens': 0, 'cached_tokens': 0}}, 'model_name': 'gpt-4o-2024-08-06', 'system_fingerprint': 'fp_45cf54deae', 'finish_reason': 'tool_calls', 'logprobs': None}, name='librarian_node', id='run-b70060ea-126d-4a3d-9442-389b95a2165b-0', tool_calls=[{'name': 'retrieve_books', 'args': {'query': \"I'll Never Love a Dope Boy Again by Twyla T.\"}, 'id': 'call_QxEoeJzI4a5n4CXSFbSKSnP2', 'type': 'tool_call'}, {'name': 'retrieve_books', 'args': {'query': 'Torn Between Bae & The Thug Next Door by Twyla T.'}, 'id': 'call_GWhwdwtvuGYSeiqBs5pNwMzK', 'type': 'tool_call'}, {'name': 'retrieve_books', 'args': {'query': 'My Christmas Bae In Atlanta by Twyla T.'}, 'id': 'call_8s8A9A1I9NwxjTOkHIwqSUQv', 'type': 'tool_call'}], usage_metadata={'input_tokens': 2578, 'output_tokens': 95, 'total_tokens': 2673, 'input_token_details': {'audio': 0, 'cache_read': 0}, 'output_token_details': {'audio': 0, 'reasoning': 0}}),\n",
       " ToolMessage(content=\"Book: in love with a dope boy\\n\\nBook: in love with a dope boy 2\\n\\nBook: dope boyz who love hood gurlz\\n\\nBook: dope boy blues\\n\\nBook: ace &amp; bleu: a dopeboy love story\\n\\nBook: dope boy promises\\n\\nBook: dope boy blues 3 (volume 3)\\n\\nBook: dope boy blues 2 ebook\\n\\nBook: a thug's love 2\\n\\nBook: a thug's love 3\", name='retrieve_books', tool_call_id='call_QxEoeJzI4a5n4CXSFbSKSnP2'),\n",
       " ToolMessage(content='Book: the bad boy next door\\n\\nBook: tempted: a bad boy next door romance\\n\\nBook: best friend next door\\n\\nBook: falling for the girl next door\\n\\nBook: boxer next door\\n\\nBook: the couple next door\\n\\nBook: girl next door\\n\\nBook: inked: a bad boy next door romance\\n\\nBook: the couple next door.\\n\\nBook: big bad wolf: a bad boy next door second chance romance', name='retrieve_books', tool_call_id='call_GWhwdwtvuGYSeiqBs5pNwMzK'),\n",
       " ToolMessage(content=\"Book: christmas belles of georgia (romancing america)\\n\\nBook: unwrapping the holidays: an anthology (kimani romance)\\n\\nBook: a very merry temptation: 'twas the season\\\\mistletoe in memphis\\\\second-chance christmas (arabesque)\\n\\nBook: a biltmore christmas (romancing america)\\n\\nBook: love finds you under the mistletoe\\n\\nBook: married by christmas\\n\\nBook: under the mistletoe\\n\\nBook: seduce me by christmas\\n\\nBook: wrapped in red: mistletoe mantra\\\\white hot holiday (kimani romance)\\n\\nBook: tinsel and temptation: a holiday anthology\", name='retrieve_books', tool_call_id='call_8s8A9A1I9NwxjTOkHIwqSUQv'),\n",
       " AIMessage(content='Here are three books that you might enjoy, based on your interest in \"We Both Can\\'t Be Bae (Volume 1)\" and your appreciation for drama and urban romance:\\n\\n1. **I\\'ll Never Love a Dope Boy Again by Twyla T.**\\n   - This book is part of a series and offers a gripping narrative that explores themes of love, trust, and urban life. It shares a similar vibe with the drama and complexity found in \"We Both Can\\'t Be Bae.\"\\n\\n2. **Torn Between Bae & The Thug Next Door by Twyla T.**\\n   - This book promises a mix of romance and tension, capturing the essence of urban love triangles and the drama that ensues. It\\'s a great pick if you enjoyed the relationship dynamics in \"We Both Can\\'t Be Bae.\"\\n\\n3. **My Christmas Bae In Atlanta by Twyla T.**\\n   - If you\\'re looking for a seasonal twist on urban romance, this book might be just what you need. It combines the festive season with romance and the complexities of modern relationships, offering a fresh take on the genre.\\n\\nThese selections should provide you with plenty of drama and captivating storylines to enjoy. Happy reading!', additional_kwargs={'refusal': None}, response_metadata={'token_usage': {'completion_tokens': 242, 'prompt_tokens': 3047, 'total_tokens': 3289, 'completion_tokens_details': {'audio_tokens': 0, 'reasoning_tokens': 0, 'accepted_prediction_tokens': 0, 'rejected_prediction_tokens': 0}, 'prompt_tokens_details': {'audio_tokens': 0, 'cached_tokens': 2432}}, 'model_name': 'gpt-4o-2024-08-06', 'system_fingerprint': 'fp_45cf54deae', 'finish_reason': 'stop', 'logprobs': None}, name='librarian_node', id='run-7aab7795-5576-4017-8975-a4515dfb80a2-0', usage_metadata={'input_tokens': 3047, 'output_tokens': 242, 'total_tokens': 3289, 'input_token_details': {'audio': 0, 'cache_read': 2432}, 'output_token_details': {'audio': 0, 'reasoning': 0}}),\n",
       " AIMessage(content='FINAL ANSWER: If you enjoyed \"We Both Can\\'t Be Bae (Volume 1)\" and are looking for similar books with drama and urban romance, consider these recommendations:\\n\\n1. **\"I\\'ll Never Love a Dope Boy Again\" by Twyla T.** - This book is part of a series that explores themes of love, trust, and urban life, similar to the drama in \"We Both Can\\'t Be Bae.\"\\n\\n2. **\"Torn Between Bae & The Thug Next Door\" by Twyla T.** - This offers a mix of romance and tension with love triangles and urban drama, echoing the relationship dynamics you liked.\\n\\n3. **\"My Christmas Bae In Atlanta\" by Twyla T.** - For a seasonal twist, this book combines romance with holiday festivities and relationship complexities.\\n\\nThese books should provide you with captivating stories and plenty of drama to enjoy.', additional_kwargs={'refusal': None}, response_metadata={'token_usage': {'completion_tokens': 183, 'prompt_tokens': 3290, 'total_tokens': 3473, 'completion_tokens_details': {'audio_tokens': 0, 'reasoning_tokens': 0, 'accepted_prediction_tokens': 0, 'rejected_prediction_tokens': 0}, 'prompt_tokens_details': {'audio_tokens': 0, 'cached_tokens': 2304}}, 'model_name': 'gpt-4o-2024-08-06', 'system_fingerprint': 'fp_45cf54deae', 'finish_reason': 'stop', 'logprobs': None}, name='research_node', id='run-6954bce2-ee1b-40e1-a102-7b08856b3497-0', usage_metadata={'input_tokens': 3290, 'output_tokens': 183, 'total_tokens': 3473, 'input_token_details': {'audio': 0, 'cache_read': 2304}, 'output_token_details': {'audio': 0, 'reasoning': 0}})]"
      ]
     },
     "execution_count": 35,
     "metadata": {},
     "output_type": "execute_result"
    }
   ],
   "source": [
    "await recommend_graph(graph, messages[0:1], show_cost=True) # Pass only the first message"
   ]
  }
 ],
 "metadata": {
  "kernelspec": {
   "display_name": ".venv",
   "language": "python",
   "name": "python3"
  },
  "language_info": {
   "codemirror_mode": {
    "name": "ipython",
    "version": 3
   },
   "file_extension": ".py",
   "mimetype": "text/x-python",
   "name": "python",
   "nbconvert_exporter": "python",
   "pygments_lexer": "ipython3",
   "version": "3.12.4"
  }
 },
 "nbformat": 4,
 "nbformat_minor": 2
}
