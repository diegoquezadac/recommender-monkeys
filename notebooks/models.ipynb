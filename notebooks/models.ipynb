{
 "cells": [
  {
   "cell_type": "markdown",
   "metadata": {},
   "source": [
    "In the following notebook, we implement three baseline models for conversational recommendation:\n",
    "\n",
    "1. Random recommendation\n",
    "2. Most popular recommendation\n",
    "3. Zero-shot recommendation\n"
   ]
  },
  {
   "cell_type": "markdown",
   "metadata": {},
   "source": [
    "### Libraries"
   ]
  },
  {
   "cell_type": "code",
   "execution_count": 1,
   "metadata": {},
   "outputs": [],
   "source": [
    "import os\n",
    "import sys\n",
    "import json\n",
    "import numpy as np\n",
    "from typing import List, Dict, Literal, Any\n",
    "from dotenv import load_dotenv\n",
    "from langchain_openai import ChatOpenAI\n",
    "from pydantic import BaseModel, Field\n",
    "from langchain_core.messages import AIMessage, HumanMessage, BaseMessage\n",
    "from langchain_core.prompts import ChatPromptTemplate\n",
    "\n",
    "sys.path.append(os.path.abspath(\"..\"))\n",
    "from scripts.Tools import read_dialogue, get_conversation_by_id "
   ]
  },
  {
   "cell_type": "markdown",
   "metadata": {},
   "source": [
    "### Data"
   ]
  },
  {
   "cell_type": "code",
   "execution_count": 2,
   "metadata": {},
   "outputs": [],
   "source": [
    "dataset: Literal[\"Books\", \"Movies\", \"Sports\", \"Electronics\"] = \"Books\"\n"
   ]
  },
  {
   "cell_type": "code",
   "execution_count": 3,
   "metadata": {},
   "outputs": [],
   "source": [
    "with open(f\"../data/{dataset}/item_map.json\", \"r\") as f:\n",
    "    item_map = json.load(f)\n",
    "\n",
    "with open(\"../data/Books/final_data.jsonl\", \"r\") as f:\n",
    "    final_data = [json.loads(line) for line in f]"
   ]
  },
  {
   "cell_type": "code",
   "execution_count": 4,
   "metadata": {},
   "outputs": [],
   "source": [
    "items = list(set([item_map[key].lower().strip() for key in item_map]))"
   ]
  },
  {
   "cell_type": "code",
   "execution_count": 5,
   "metadata": {},
   "outputs": [],
   "source": [
    "item_interactions = {}\n",
    "for user_data in final_data:\n",
    "    for user_id in user_data:\n",
    "        for item_id in user_data[user_id][\"history_interaction\"]:\n",
    "            item_name = item_map[item_id].lower().strip()\n",
    "            if item_name not in item_interactions:\n",
    "                item_interactions[item_name] = 0\n",
    "            item_interactions[item_name] += 1"
   ]
  },
  {
   "cell_type": "code",
   "execution_count": 6,
   "metadata": {},
   "outputs": [],
   "source": [
    "conversation_id = 0\n",
    "\n",
    "content = read_dialogue(f\"../data/{dataset}/Conversation.txt\")\n",
    "conversation = get_conversation_by_id(content, conversation_id)\n",
    "lines = conversation.strip().split(\"\\n\\n\")\n",
    "messages = []\n",
    "\n",
    "for line in lines:\n",
    "    if line.startswith(\"User:\"):\n",
    "        messages.append(HumanMessage(content=line[5:].strip()))\n",
    "    elif line.startswith(\"Agent:\"):\n",
    "        messages.append(AIMessage(content=line[6:].strip()))"
   ]
  },
  {
   "cell_type": "markdown",
   "metadata": {},
   "source": [
    "### Models"
   ]
  },
  {
   "cell_type": "code",
   "execution_count": 12,
   "metadata": {},
   "outputs": [],
   "source": [
    "def recommend_random(items: List[str], n: int = 5, **kwargs):\n",
    "    return np.random.choice(items, n, replace=False).tolist()\n",
    "\n",
    "\n",
    "def recommend_most_popular(item_interactions: Dict[str, int], n: int = 5, **kwargs):\n",
    "    most_popular_items = sorted(\n",
    "        item_interactions, key=item_interactions.get, reverse=True\n",
    "    )[:n]\n",
    "    return most_popular_items\n",
    "\n",
    "\n",
    "def recommend_zero_shot(\n",
    "    messages: List[BaseMessage], n: int = 5, verbose: bool = False, **kwargs\n",
    "):\n",
    "\n",
    "    class Recommendation(BaseModel):\n",
    "        items: Any = Field(\n",
    "            description=\"A list of items. Each item must contain a 'reason' and an 'name'\"\n",
    "        )\n",
    "\n",
    "    system = f\"\"\"You are a recommender system. Recommend {n} items based on the user's conversation. Sort the items by descending order of relevance.\"\"\"\n",
    "\n",
    "    prompt = ChatPromptTemplate.from_messages(\n",
    "        [(\"system\", system), (\"placeholder\", \"{messages}\")]\n",
    "    )\n",
    "\n",
    "    llm = ChatOpenAI(model=\"gpt-4o-mini\", temperature=0)\n",
    "    structured_llm = llm.with_structured_output(Recommendation, include_raw=True)\n",
    "\n",
    "    zero_shot_structured_llm = prompt | structured_llm\n",
    "    response = zero_shot_structured_llm.invoke({\"messages\": messages})\n",
    "\n",
    "    prompt_tokens = response[\"raw\"].response_metadata[\"token_usage\"][\"prompt_tokens\"]\n",
    "    completion_tokens = response[\"raw\"].response_metadata[\"token_usage\"][\n",
    "        \"completion_tokens\"\n",
    "    ]\n",
    "\n",
    "    cost = 0.150 * prompt_tokens / 1000000 + 0.600 * completion_tokens / 1000000\n",
    "\n",
    "    if verbose:\n",
    "        print(f\"Prompt Tokens: {prompt_tokens}\")\n",
    "        print(f\"Completion Tokens: {completion_tokens}\")\n",
    "        print(f\"Cost: ${cost} USD\")\n",
    "\n",
    "    return response[\"parsed\"].items"
   ]
  },
  {
   "cell_type": "code",
   "execution_count": 13,
   "metadata": {},
   "outputs": [
    {
     "data": {
      "text/plain": [
       "['disney christmas storybook collection',\n",
       " 'haven lake',\n",
       " 'leaving the illusion',\n",
       " 'the new american bible (with the revised book of psalms and the revised new testament)',\n",
       " 'an undivided heart (the sister circle series #3)']"
      ]
     },
     "execution_count": 13,
     "metadata": {},
     "output_type": "execute_result"
    }
   ],
   "source": [
    "recommend_random(items)"
   ]
  },
  {
   "cell_type": "code",
   "execution_count": 14,
   "metadata": {},
   "outputs": [
    {
     "data": {
      "text/plain": [
       "['gone girl',\n",
       " 'the girl on the train',\n",
       " 'the pillars of the earth',\n",
       " 'the old man and the sea',\n",
       " 'books\" />']"
      ]
     },
     "execution_count": 14,
     "metadata": {},
     "output_type": "execute_result"
    }
   ],
   "source": [
    "recommend_most_popular(item_interactions)"
   ]
  },
  {
   "cell_type": "code",
   "execution_count": 16,
   "metadata": {},
   "outputs": [
    {
     "data": {
      "text/plain": [
       "[{'name': 'The Hating Game',\n",
       "  'reason': 'This romantic comedy features a strong enemies-to-lovers dynamic with plenty of drama and witty banter, similar to the engaging storyline you enjoyed.'},\n",
       " {'name': 'Red, White & Royal Blue',\n",
       "  'reason': 'This book combines romance and drama with a unique twist, focusing on the relationship between the First Son of the United States and a British prince.'},\n",
       " {'name': 'The Unhoneymooners',\n",
       "  'reason': 'This story involves unexpected romance and comedic situations, with a strong focus on character dynamics and drama.'},\n",
       " {'name': 'Beach Read',\n",
       "  'reason': 'This novel features two authors with contrasting styles who challenge each other, leading to romantic tension and personal growth amidst the drama.'},\n",
       " {'name': 'It Ends with Us',\n",
       "  'reason': 'This book delves into deeper emotional themes and relationships, providing a mix of drama and romance that keeps readers engaged.'}]"
      ]
     },
     "execution_count": 16,
     "metadata": {},
     "output_type": "execute_result"
    }
   ],
   "source": [
    "recommend_zero_shot(messages[:1], n=5, verbose=False)"
   ]
  }
 ],
 "metadata": {
  "kernelspec": {
   "display_name": ".venv",
   "language": "python",
   "name": "python3"
  },
  "language_info": {
   "codemirror_mode": {
    "name": "ipython",
    "version": 3
   },
   "file_extension": ".py",
   "mimetype": "text/x-python",
   "name": "python",
   "nbconvert_exporter": "python",
   "pygments_lexer": "ipython3",
   "version": "3.12.4"
  }
 },
 "nbformat": 4,
 "nbformat_minor": 2
}
